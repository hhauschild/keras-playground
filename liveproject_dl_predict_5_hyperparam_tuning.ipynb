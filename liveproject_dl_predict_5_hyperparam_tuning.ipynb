{
  "nbformat": 4,
  "nbformat_minor": 0,
  "metadata": {
    "colab": {
      "name": "liveproject_dl-predict_5_hyperparam_tuning.ipynb",
      "provenance": [],
      "authorship_tag": "ABX9TyOsTO0OJSqwfHCWcZw50GKp",
      "include_colab_link": true
    },
    "kernelspec": {
      "name": "python3",
      "display_name": "Python 3"
    }
  },
  "cells": [
    {
      "cell_type": "markdown",
      "metadata": {
        "id": "view-in-github",
        "colab_type": "text"
      },
      "source": [
        "<a href=\"https://colab.research.google.com/github/hhauschild/keras-playground/blob/master/liveproject_dl_predict_5_hyperparam_tuning.ipynb\" target=\"_parent\"><img src=\"https://colab.research.google.com/assets/colab-badge.svg\" alt=\"Open In Colab\"/></a>"
      ]
    },
    {
      "cell_type": "markdown",
      "metadata": {
        "id": "U5G-4jH9t_WT",
        "colab_type": "text"
      },
      "source": [
        "1. prepare"
      ]
    },
    {
      "cell_type": "code",
      "metadata": {
        "id": "PPoeBHtXtyNW",
        "colab_type": "code",
        "colab": {
          "base_uri": "https://localhost:8080/",
          "height": 202
        },
        "outputId": "dbe5180e-b24b-4f4f-b0a8-f158dc09ce3b"
      },
      "source": [
        "import pandas as pd\n",
        "import numpy as np\n",
        "import tensorflow as tf\n",
        "from tensorflow import keras\n",
        "import matplotlib.pyplot as plt\n",
        "\n",
        "gameurl = r'https://liveproject-resources.s3.amazonaws.com/other/deeplearningbasketballscores/Games-Calculated.csv'\n",
        "dateparser = lambda x: pd.datetime.strptime(x, \"%Y-%m-%d\")\n",
        "df = pd.read_csv(gameurl, header = None, \\\n",
        "                      names=[\"date\",\"home_team\",\"home_score\", \"away_team\",\"away_score\", \\\n",
        "                             \"home_sc_avg\", \\\n",
        "                             \"home_defensive_avg\", \"away_sc_avg\", \"away_defensive_avg\", \"result\" ] ,\\\n",
        "                      parse_dates=[\"date\"], \\\n",
        "                      dtype={\"home_team\":str,\"home_score\":int,\"away_team\":str,\\\n",
        "                             \"away_score\":int, \"home_sc_avg\":float, \\\n",
        "                             \"home_defensive_avg\":float, \"away_sc_avg\":float,  \\\n",
        "                             \"away_defensive_avg\":float, \"result\":int} \\\n",
        "                      );\n",
        "df.head()"
      ],
      "execution_count": 1,
      "outputs": [
        {
          "output_type": "execute_result",
          "data": {
            "text/html": [
              "<div>\n",
              "<style scoped>\n",
              "    .dataframe tbody tr th:only-of-type {\n",
              "        vertical-align: middle;\n",
              "    }\n",
              "\n",
              "    .dataframe tbody tr th {\n",
              "        vertical-align: top;\n",
              "    }\n",
              "\n",
              "    .dataframe thead th {\n",
              "        text-align: right;\n",
              "    }\n",
              "</style>\n",
              "<table border=\"1\" class=\"dataframe\">\n",
              "  <thead>\n",
              "    <tr style=\"text-align: right;\">\n",
              "      <th></th>\n",
              "      <th>date</th>\n",
              "      <th>home_team</th>\n",
              "      <th>home_score</th>\n",
              "      <th>away_team</th>\n",
              "      <th>away_score</th>\n",
              "      <th>home_sc_avg</th>\n",
              "      <th>home_defensive_avg</th>\n",
              "      <th>away_sc_avg</th>\n",
              "      <th>away_defensive_avg</th>\n",
              "      <th>result</th>\n",
              "    </tr>\n",
              "  </thead>\n",
              "  <tbody>\n",
              "    <tr>\n",
              "      <th>0</th>\n",
              "      <td>2015-11-13</td>\n",
              "      <td>Hawaii</td>\n",
              "      <td>87</td>\n",
              "      <td>Montana State</td>\n",
              "      <td>76</td>\n",
              "      <td>87.0</td>\n",
              "      <td>76.0</td>\n",
              "      <td>76.0</td>\n",
              "      <td>87.0</td>\n",
              "      <td>11</td>\n",
              "    </tr>\n",
              "    <tr>\n",
              "      <th>1</th>\n",
              "      <td>2015-11-13</td>\n",
              "      <td>Eastern Michigan</td>\n",
              "      <td>70</td>\n",
              "      <td>Vermont</td>\n",
              "      <td>50</td>\n",
              "      <td>70.0</td>\n",
              "      <td>50.0</td>\n",
              "      <td>50.0</td>\n",
              "      <td>70.0</td>\n",
              "      <td>20</td>\n",
              "    </tr>\n",
              "    <tr>\n",
              "      <th>2</th>\n",
              "      <td>2015-11-13</td>\n",
              "      <td>Yale</td>\n",
              "      <td>70</td>\n",
              "      <td>Fairfield</td>\n",
              "      <td>57</td>\n",
              "      <td>70.0</td>\n",
              "      <td>57.0</td>\n",
              "      <td>57.0</td>\n",
              "      <td>70.0</td>\n",
              "      <td>13</td>\n",
              "    </tr>\n",
              "    <tr>\n",
              "      <th>3</th>\n",
              "      <td>2015-11-13</td>\n",
              "      <td>Central Michigan</td>\n",
              "      <td>89</td>\n",
              "      <td>Jacksonville State</td>\n",
              "      <td>83</td>\n",
              "      <td>89.0</td>\n",
              "      <td>83.0</td>\n",
              "      <td>83.0</td>\n",
              "      <td>89.0</td>\n",
              "      <td>6</td>\n",
              "    </tr>\n",
              "    <tr>\n",
              "      <th>4</th>\n",
              "      <td>2015-11-13</td>\n",
              "      <td>Iowa State</td>\n",
              "      <td>68</td>\n",
              "      <td>Colorado</td>\n",
              "      <td>62</td>\n",
              "      <td>68.0</td>\n",
              "      <td>62.0</td>\n",
              "      <td>62.0</td>\n",
              "      <td>68.0</td>\n",
              "      <td>6</td>\n",
              "    </tr>\n",
              "  </tbody>\n",
              "</table>\n",
              "</div>"
            ],
            "text/plain": [
              "        date         home_team  ...  away_defensive_avg result\n",
              "0 2015-11-13            Hawaii  ...                87.0     11\n",
              "1 2015-11-13  Eastern Michigan  ...                70.0     20\n",
              "2 2015-11-13              Yale  ...                70.0     13\n",
              "3 2015-11-13  Central Michigan  ...                89.0      6\n",
              "4 2015-11-13        Iowa State  ...                68.0      6\n",
              "\n",
              "[5 rows x 10 columns]"
            ]
          },
          "metadata": {
            "tags": []
          },
          "execution_count": 1
        }
      ]
    },
    {
      "cell_type": "code",
      "metadata": {
        "id": "9f3VZ9g4uIfp",
        "colab_type": "code",
        "colab": {
          "base_uri": "https://localhost:8080/",
          "height": 219
        },
        "outputId": "316b29db-542f-4a09-c7d1-6f18f1bcd01e"
      },
      "source": [
        "# remove irrelevant columns (the (uncalculated) original raw data)\n",
        "df.drop([\"date\",\"home_team\",\"home_score\", \"away_team\",\"away_score\"], axis=1, inplace=True, errors='ignore')\n",
        "\n",
        "# split 80:20\n",
        "df_x_train= df.sample(frac=.8, random_state=0)\n",
        "df_x_valid= df.drop(df_x_train.index)\n",
        "\n",
        "print(df_x_train.shape[0])\n",
        "\n",
        "# cut off y\n",
        "df_y_train = df_x_train.pop('result')\n",
        "df_y_valid = df_x_valid.pop('result')\n",
        "\n",
        "# normalize\n",
        "train_x_mean = df_x_train.mean(axis = 0)\n",
        "df_x_train_normalized = df_x_train - train_x_mean\n",
        "train_x_stdd = df_x_train_normalized.std(axis=0)\n",
        "df_x_train_normalized /= train_x_stdd\n",
        "\n",
        "df_x_valid_normalized = (df_x_valid - train_x_mean) / train_x_stdd\n",
        "\n",
        "df_x_train_normalized.head()"
      ],
      "execution_count": 2,
      "outputs": [
        {
          "output_type": "stream",
          "text": [
            "16128\n"
          ],
          "name": "stdout"
        },
        {
          "output_type": "execute_result",
          "data": {
            "text/html": [
              "<div>\n",
              "<style scoped>\n",
              "    .dataframe tbody tr th:only-of-type {\n",
              "        vertical-align: middle;\n",
              "    }\n",
              "\n",
              "    .dataframe tbody tr th {\n",
              "        vertical-align: top;\n",
              "    }\n",
              "\n",
              "    .dataframe thead th {\n",
              "        text-align: right;\n",
              "    }\n",
              "</style>\n",
              "<table border=\"1\" class=\"dataframe\">\n",
              "  <thead>\n",
              "    <tr style=\"text-align: right;\">\n",
              "      <th></th>\n",
              "      <th>home_sc_avg</th>\n",
              "      <th>home_defensive_avg</th>\n",
              "      <th>away_sc_avg</th>\n",
              "      <th>away_defensive_avg</th>\n",
              "    </tr>\n",
              "  </thead>\n",
              "  <tbody>\n",
              "    <tr>\n",
              "      <th>5951</th>\n",
              "      <td>0.466862</td>\n",
              "      <td>-0.564797</td>\n",
              "      <td>-0.104406</td>\n",
              "      <td>0.664043</td>\n",
              "    </tr>\n",
              "    <tr>\n",
              "      <th>15481</th>\n",
              "      <td>-1.813378</td>\n",
              "      <td>-0.040936</td>\n",
              "      <td>0.689466</td>\n",
              "      <td>0.730448</td>\n",
              "    </tr>\n",
              "    <tr>\n",
              "      <th>16660</th>\n",
              "      <td>1.891701</td>\n",
              "      <td>0.354039</td>\n",
              "      <td>0.341276</td>\n",
              "      <td>-0.557815</td>\n",
              "    </tr>\n",
              "    <tr>\n",
              "      <th>4896</th>\n",
              "      <td>-0.538980</td>\n",
              "      <td>-0.325040</td>\n",
              "      <td>-0.997915</td>\n",
              "      <td>1.072691</td>\n",
              "    </tr>\n",
              "    <tr>\n",
              "      <th>12061</th>\n",
              "      <td>0.540443</td>\n",
              "      <td>-0.318741</td>\n",
              "      <td>-0.271538</td>\n",
              "      <td>-0.079697</td>\n",
              "    </tr>\n",
              "  </tbody>\n",
              "</table>\n",
              "</div>"
            ],
            "text/plain": [
              "       home_sc_avg  home_defensive_avg  away_sc_avg  away_defensive_avg\n",
              "5951      0.466862           -0.564797    -0.104406            0.664043\n",
              "15481    -1.813378           -0.040936     0.689466            0.730448\n",
              "16660     1.891701            0.354039     0.341276           -0.557815\n",
              "4896     -0.538980           -0.325040    -0.997915            1.072691\n",
              "12061     0.540443           -0.318741    -0.271538           -0.079697"
            ]
          },
          "metadata": {
            "tags": []
          },
          "execution_count": 2
        }
      ]
    },
    {
      "cell_type": "markdown",
      "metadata": {
        "id": "Lo1-82_quH_1",
        "colab_type": "text"
      },
      "source": [
        "NN 1\n"
      ]
    },
    {
      "cell_type": "code",
      "metadata": {
        "id": "n8yEMBdHuPFH",
        "colab_type": "code",
        "colab": {
          "base_uri": "https://localhost:8080/",
          "height": 1000
        },
        "outputId": "5610190b-141e-454f-aa12-95c6ba4d6bf8"
      },
      "source": [
        "from keras.models import Sequential \n",
        "from keras.layers import Activation, Dense\n",
        "from keras import losses \n",
        "from keras import optimizers \n",
        "from keras import metrics \n",
        "model = Sequential([Dense(32, activation= \"relu\", input_shape=[4]),Dense(32, activation= \"relu\"),Dense(1)])\n",
        "\n",
        "print(model.summary())\n",
        "\n",
        "model.compile(loss=losses.MeanSquaredError(), optimizer=optimizers.RMSprop(), metrics = [metrics.MeanSquaredError(),metrics.Accuracy(),metrics.MeanAbsoluteError()])\n",
        "\n",
        "# train the model\n",
        "\n",
        "gg = model.fit(\n",
        "    x=df_x_train_normalized,\n",
        "    y=df_y_train,\n",
        "    batch_size=64,\n",
        "    epochs=50,\n",
        "    verbose=1,\n",
        "    validation_data=(df_x_valid_normalized, df_y_valid),\n",
        ")\n",
        "plt.plot(gg.history[\"loss\"])\n",
        "plt.plot(gg.history[\"val_loss\"])\n",
        "plt.title(\"model loss\")\n",
        "plt.ylabel(\"loss\")\n",
        "plt.xlabel(\"epoch\")\n",
        "plt.legend([\"train\", \"test\"], loc=\"upper left\")\n",
        "plt.show()\n"
      ],
      "execution_count": 3,
      "outputs": [
        {
          "output_type": "stream",
          "text": [
            "Model: \"sequential\"\n",
            "_________________________________________________________________\n",
            "Layer (type)                 Output Shape              Param #   \n",
            "=================================================================\n",
            "dense (Dense)                (None, 32)                160       \n",
            "_________________________________________________________________\n",
            "dense_1 (Dense)              (None, 32)                1056      \n",
            "_________________________________________________________________\n",
            "dense_2 (Dense)              (None, 1)                 33        \n",
            "=================================================================\n",
            "Total params: 1,249\n",
            "Trainable params: 1,249\n",
            "Non-trainable params: 0\n",
            "_________________________________________________________________\n",
            "None\n",
            "Epoch 1/50\n",
            "252/252 [==============================] - 0s 2ms/step - loss: 144.1512 - mean_squared_error: 144.1512 - accuracy: 0.0000e+00 - mean_absolute_error: 9.3721 - val_loss: 106.3422 - val_mean_squared_error: 106.3422 - val_accuracy: 0.0000e+00 - val_mean_absolute_error: 7.9896\n",
            "Epoch 2/50\n",
            "252/252 [==============================] - 0s 1ms/step - loss: 104.8875 - mean_squared_error: 104.8875 - accuracy: 0.0000e+00 - mean_absolute_error: 7.9864 - val_loss: 104.4964 - val_mean_squared_error: 104.4964 - val_accuracy: 0.0000e+00 - val_mean_absolute_error: 7.8970\n",
            "Epoch 3/50\n",
            "252/252 [==============================] - 0s 1ms/step - loss: 103.7669 - mean_squared_error: 103.7669 - accuracy: 0.0000e+00 - mean_absolute_error: 7.9372 - val_loss: 103.9402 - val_mean_squared_error: 103.9402 - val_accuracy: 0.0000e+00 - val_mean_absolute_error: 7.8865\n",
            "Epoch 4/50\n",
            "252/252 [==============================] - 0s 1ms/step - loss: 103.3724 - mean_squared_error: 103.3724 - accuracy: 0.0000e+00 - mean_absolute_error: 7.9277 - val_loss: 104.1200 - val_mean_squared_error: 104.1200 - val_accuracy: 0.0000e+00 - val_mean_absolute_error: 7.8745\n",
            "Epoch 5/50\n",
            "252/252 [==============================] - 0s 1ms/step - loss: 103.2458 - mean_squared_error: 103.2458 - accuracy: 0.0000e+00 - mean_absolute_error: 7.9244 - val_loss: 103.8139 - val_mean_squared_error: 103.8139 - val_accuracy: 0.0000e+00 - val_mean_absolute_error: 7.8810\n",
            "Epoch 6/50\n",
            "252/252 [==============================] - 0s 1ms/step - loss: 103.0602 - mean_squared_error: 103.0602 - accuracy: 0.0000e+00 - mean_absolute_error: 7.9104 - val_loss: 103.9667 - val_mean_squared_error: 103.9667 - val_accuracy: 0.0000e+00 - val_mean_absolute_error: 7.8781\n",
            "Epoch 7/50\n",
            "252/252 [==============================] - 0s 1ms/step - loss: 102.9437 - mean_squared_error: 102.9437 - accuracy: 0.0000e+00 - mean_absolute_error: 7.9097 - val_loss: 103.9711 - val_mean_squared_error: 103.9711 - val_accuracy: 0.0000e+00 - val_mean_absolute_error: 7.8760\n",
            "Epoch 8/50\n",
            "252/252 [==============================] - 0s 1ms/step - loss: 102.8700 - mean_squared_error: 102.8700 - accuracy: 0.0000e+00 - mean_absolute_error: 7.9023 - val_loss: 104.1689 - val_mean_squared_error: 104.1689 - val_accuracy: 0.0000e+00 - val_mean_absolute_error: 7.8795\n",
            "Epoch 9/50\n",
            "252/252 [==============================] - 0s 1ms/step - loss: 102.8016 - mean_squared_error: 102.8016 - accuracy: 0.0000e+00 - mean_absolute_error: 7.9000 - val_loss: 103.9510 - val_mean_squared_error: 103.9510 - val_accuracy: 0.0000e+00 - val_mean_absolute_error: 7.8694\n",
            "Epoch 10/50\n",
            "252/252 [==============================] - 0s 1ms/step - loss: 102.7655 - mean_squared_error: 102.7655 - accuracy: 0.0000e+00 - mean_absolute_error: 7.9006 - val_loss: 103.8828 - val_mean_squared_error: 103.8828 - val_accuracy: 0.0000e+00 - val_mean_absolute_error: 7.8712\n",
            "Epoch 11/50\n",
            "252/252 [==============================] - 0s 1ms/step - loss: 102.7271 - mean_squared_error: 102.7271 - accuracy: 0.0000e+00 - mean_absolute_error: 7.8999 - val_loss: 103.9465 - val_mean_squared_error: 103.9465 - val_accuracy: 0.0000e+00 - val_mean_absolute_error: 7.8968\n",
            "Epoch 12/50\n",
            "252/252 [==============================] - 0s 1ms/step - loss: 102.6220 - mean_squared_error: 102.6220 - accuracy: 0.0000e+00 - mean_absolute_error: 7.8969 - val_loss: 104.1211 - val_mean_squared_error: 104.1211 - val_accuracy: 0.0000e+00 - val_mean_absolute_error: 7.8789\n",
            "Epoch 13/50\n",
            "252/252 [==============================] - 0s 1ms/step - loss: 102.5565 - mean_squared_error: 102.5565 - accuracy: 0.0000e+00 - mean_absolute_error: 7.8881 - val_loss: 103.7702 - val_mean_squared_error: 103.7702 - val_accuracy: 0.0000e+00 - val_mean_absolute_error: 7.8726\n",
            "Epoch 14/50\n",
            "252/252 [==============================] - 0s 1ms/step - loss: 102.5866 - mean_squared_error: 102.5866 - accuracy: 0.0000e+00 - mean_absolute_error: 7.8931 - val_loss: 103.9550 - val_mean_squared_error: 103.9550 - val_accuracy: 0.0000e+00 - val_mean_absolute_error: 7.8990\n",
            "Epoch 15/50\n",
            "252/252 [==============================] - 0s 1ms/step - loss: 102.5356 - mean_squared_error: 102.5356 - accuracy: 0.0000e+00 - mean_absolute_error: 7.8923 - val_loss: 103.8341 - val_mean_squared_error: 103.8341 - val_accuracy: 0.0000e+00 - val_mean_absolute_error: 7.8839\n",
            "Epoch 16/50\n",
            "252/252 [==============================] - 0s 1ms/step - loss: 102.5381 - mean_squared_error: 102.5381 - accuracy: 0.0000e+00 - mean_absolute_error: 7.8893 - val_loss: 103.7426 - val_mean_squared_error: 103.7426 - val_accuracy: 0.0000e+00 - val_mean_absolute_error: 7.8760\n",
            "Epoch 17/50\n",
            "252/252 [==============================] - 0s 1ms/step - loss: 102.4899 - mean_squared_error: 102.4899 - accuracy: 0.0000e+00 - mean_absolute_error: 7.8844 - val_loss: 103.7846 - val_mean_squared_error: 103.7846 - val_accuracy: 0.0000e+00 - val_mean_absolute_error: 7.8777\n",
            "Epoch 18/50\n",
            "252/252 [==============================] - 0s 1ms/step - loss: 102.4015 - mean_squared_error: 102.4015 - accuracy: 0.0000e+00 - mean_absolute_error: 7.8885 - val_loss: 104.2156 - val_mean_squared_error: 104.2156 - val_accuracy: 0.0000e+00 - val_mean_absolute_error: 7.9069\n",
            "Epoch 19/50\n",
            "252/252 [==============================] - 0s 1ms/step - loss: 102.4535 - mean_squared_error: 102.4535 - accuracy: 0.0000e+00 - mean_absolute_error: 7.8864 - val_loss: 103.7709 - val_mean_squared_error: 103.7709 - val_accuracy: 0.0000e+00 - val_mean_absolute_error: 7.8815\n",
            "Epoch 20/50\n",
            "252/252 [==============================] - 0s 1ms/step - loss: 102.3561 - mean_squared_error: 102.3561 - accuracy: 0.0000e+00 - mean_absolute_error: 7.8802 - val_loss: 103.7278 - val_mean_squared_error: 103.7278 - val_accuracy: 0.0000e+00 - val_mean_absolute_error: 7.8846\n",
            "Epoch 21/50\n",
            "252/252 [==============================] - 0s 1ms/step - loss: 102.3293 - mean_squared_error: 102.3293 - accuracy: 0.0000e+00 - mean_absolute_error: 7.8837 - val_loss: 103.7045 - val_mean_squared_error: 103.7045 - val_accuracy: 0.0000e+00 - val_mean_absolute_error: 7.8538\n",
            "Epoch 22/50\n",
            "252/252 [==============================] - 0s 1ms/step - loss: 102.3137 - mean_squared_error: 102.3137 - accuracy: 0.0000e+00 - mean_absolute_error: 7.8760 - val_loss: 103.6739 - val_mean_squared_error: 103.6739 - val_accuracy: 0.0000e+00 - val_mean_absolute_error: 7.8657\n",
            "Epoch 23/50\n",
            "252/252 [==============================] - 0s 1ms/step - loss: 102.2971 - mean_squared_error: 102.2971 - accuracy: 0.0000e+00 - mean_absolute_error: 7.8778 - val_loss: 103.7254 - val_mean_squared_error: 103.7254 - val_accuracy: 0.0000e+00 - val_mean_absolute_error: 7.8718\n",
            "Epoch 24/50\n",
            "252/252 [==============================] - 0s 1ms/step - loss: 102.2561 - mean_squared_error: 102.2561 - accuracy: 0.0000e+00 - mean_absolute_error: 7.8813 - val_loss: 103.9868 - val_mean_squared_error: 103.9868 - val_accuracy: 0.0000e+00 - val_mean_absolute_error: 7.8675\n",
            "Epoch 25/50\n",
            "252/252 [==============================] - 0s 1ms/step - loss: 102.3414 - mean_squared_error: 102.3414 - accuracy: 0.0000e+00 - mean_absolute_error: 7.8790 - val_loss: 103.6591 - val_mean_squared_error: 103.6591 - val_accuracy: 0.0000e+00 - val_mean_absolute_error: 7.8697\n",
            "Epoch 26/50\n",
            "252/252 [==============================] - 0s 1ms/step - loss: 102.2290 - mean_squared_error: 102.2290 - accuracy: 0.0000e+00 - mean_absolute_error: 7.8761 - val_loss: 103.8783 - val_mean_squared_error: 103.8783 - val_accuracy: 0.0000e+00 - val_mean_absolute_error: 7.8650\n",
            "Epoch 27/50\n",
            "252/252 [==============================] - 0s 1ms/step - loss: 102.2630 - mean_squared_error: 102.2630 - accuracy: 0.0000e+00 - mean_absolute_error: 7.8758 - val_loss: 103.6373 - val_mean_squared_error: 103.6373 - val_accuracy: 0.0000e+00 - val_mean_absolute_error: 7.8712\n",
            "Epoch 28/50\n",
            "252/252 [==============================] - 0s 1ms/step - loss: 102.1670 - mean_squared_error: 102.1670 - accuracy: 0.0000e+00 - mean_absolute_error: 7.8722 - val_loss: 103.6607 - val_mean_squared_error: 103.6607 - val_accuracy: 0.0000e+00 - val_mean_absolute_error: 7.8817\n",
            "Epoch 29/50\n",
            "252/252 [==============================] - 0s 1ms/step - loss: 102.2876 - mean_squared_error: 102.2876 - accuracy: 0.0000e+00 - mean_absolute_error: 7.8785 - val_loss: 103.7333 - val_mean_squared_error: 103.7333 - val_accuracy: 0.0000e+00 - val_mean_absolute_error: 7.8887\n",
            "Epoch 30/50\n",
            "252/252 [==============================] - 0s 1ms/step - loss: 102.1581 - mean_squared_error: 102.1581 - accuracy: 0.0000e+00 - mean_absolute_error: 7.8725 - val_loss: 103.7631 - val_mean_squared_error: 103.7631 - val_accuracy: 0.0000e+00 - val_mean_absolute_error: 7.8633\n",
            "Epoch 31/50\n",
            "252/252 [==============================] - 0s 1ms/step - loss: 102.2038 - mean_squared_error: 102.2038 - accuracy: 0.0000e+00 - mean_absolute_error: 7.8689 - val_loss: 103.5704 - val_mean_squared_error: 103.5704 - val_accuracy: 0.0000e+00 - val_mean_absolute_error: 7.8694\n",
            "Epoch 32/50\n",
            "252/252 [==============================] - 0s 1ms/step - loss: 102.1449 - mean_squared_error: 102.1449 - accuracy: 0.0000e+00 - mean_absolute_error: 7.8702 - val_loss: 103.6228 - val_mean_squared_error: 103.6228 - val_accuracy: 0.0000e+00 - val_mean_absolute_error: 7.8780\n",
            "Epoch 33/50\n",
            "252/252 [==============================] - 0s 1ms/step - loss: 102.1770 - mean_squared_error: 102.1770 - accuracy: 0.0000e+00 - mean_absolute_error: 7.8700 - val_loss: 103.5328 - val_mean_squared_error: 103.5328 - val_accuracy: 0.0000e+00 - val_mean_absolute_error: 7.8604\n",
            "Epoch 34/50\n",
            "252/252 [==============================] - 0s 1ms/step - loss: 102.1308 - mean_squared_error: 102.1308 - accuracy: 0.0000e+00 - mean_absolute_error: 7.8663 - val_loss: 103.6123 - val_mean_squared_error: 103.6123 - val_accuracy: 0.0000e+00 - val_mean_absolute_error: 7.8589\n",
            "Epoch 35/50\n",
            "252/252 [==============================] - 0s 1ms/step - loss: 102.0901 - mean_squared_error: 102.0901 - accuracy: 0.0000e+00 - mean_absolute_error: 7.8669 - val_loss: 103.8843 - val_mean_squared_error: 103.8843 - val_accuracy: 0.0000e+00 - val_mean_absolute_error: 7.8770\n",
            "Epoch 36/50\n",
            "252/252 [==============================] - 0s 1ms/step - loss: 102.1576 - mean_squared_error: 102.1576 - accuracy: 0.0000e+00 - mean_absolute_error: 7.8671 - val_loss: 103.7655 - val_mean_squared_error: 103.7655 - val_accuracy: 0.0000e+00 - val_mean_absolute_error: 7.8650\n",
            "Epoch 37/50\n",
            "252/252 [==============================] - 0s 1ms/step - loss: 102.0931 - mean_squared_error: 102.0931 - accuracy: 0.0000e+00 - mean_absolute_error: 7.8644 - val_loss: 103.7140 - val_mean_squared_error: 103.7140 - val_accuracy: 0.0000e+00 - val_mean_absolute_error: 7.8699\n",
            "Epoch 38/50\n",
            "252/252 [==============================] - 0s 1ms/step - loss: 102.0484 - mean_squared_error: 102.0484 - accuracy: 0.0000e+00 - mean_absolute_error: 7.8670 - val_loss: 103.6263 - val_mean_squared_error: 103.6263 - val_accuracy: 0.0000e+00 - val_mean_absolute_error: 7.8633\n",
            "Epoch 39/50\n",
            "252/252 [==============================] - 0s 1ms/step - loss: 102.0622 - mean_squared_error: 102.0622 - accuracy: 0.0000e+00 - mean_absolute_error: 7.8631 - val_loss: 103.7016 - val_mean_squared_error: 103.7016 - val_accuracy: 0.0000e+00 - val_mean_absolute_error: 7.8617\n",
            "Epoch 40/50\n",
            "252/252 [==============================] - 0s 1ms/step - loss: 102.1317 - mean_squared_error: 102.1317 - accuracy: 0.0000e+00 - mean_absolute_error: 7.8673 - val_loss: 103.5631 - val_mean_squared_error: 103.5631 - val_accuracy: 0.0000e+00 - val_mean_absolute_error: 7.8677\n",
            "Epoch 41/50\n",
            "252/252 [==============================] - 0s 1ms/step - loss: 102.0840 - mean_squared_error: 102.0840 - accuracy: 0.0000e+00 - mean_absolute_error: 7.8689 - val_loss: 103.5065 - val_mean_squared_error: 103.5065 - val_accuracy: 0.0000e+00 - val_mean_absolute_error: 7.8596\n",
            "Epoch 42/50\n",
            "252/252 [==============================] - 0s 1ms/step - loss: 102.0862 - mean_squared_error: 102.0862 - accuracy: 0.0000e+00 - mean_absolute_error: 7.8647 - val_loss: 103.7039 - val_mean_squared_error: 103.7039 - val_accuracy: 0.0000e+00 - val_mean_absolute_error: 7.8828\n",
            "Epoch 43/50\n",
            "252/252 [==============================] - 0s 1ms/step - loss: 102.0822 - mean_squared_error: 102.0822 - accuracy: 0.0000e+00 - mean_absolute_error: 7.8612 - val_loss: 103.6192 - val_mean_squared_error: 103.6192 - val_accuracy: 0.0000e+00 - val_mean_absolute_error: 7.8668\n",
            "Epoch 44/50\n",
            "252/252 [==============================] - 0s 1ms/step - loss: 102.0656 - mean_squared_error: 102.0656 - accuracy: 0.0000e+00 - mean_absolute_error: 7.8657 - val_loss: 103.7854 - val_mean_squared_error: 103.7854 - val_accuracy: 0.0000e+00 - val_mean_absolute_error: 7.8720\n",
            "Epoch 45/50\n",
            "252/252 [==============================] - 0s 1ms/step - loss: 102.0229 - mean_squared_error: 102.0229 - accuracy: 0.0000e+00 - mean_absolute_error: 7.8656 - val_loss: 103.4964 - val_mean_squared_error: 103.4964 - val_accuracy: 0.0000e+00 - val_mean_absolute_error: 7.8536\n",
            "Epoch 46/50\n",
            "252/252 [==============================] - 0s 1ms/step - loss: 102.0147 - mean_squared_error: 102.0147 - accuracy: 0.0000e+00 - mean_absolute_error: 7.8600 - val_loss: 103.4906 - val_mean_squared_error: 103.4906 - val_accuracy: 0.0000e+00 - val_mean_absolute_error: 7.8647\n",
            "Epoch 47/50\n",
            "252/252 [==============================] - 0s 1ms/step - loss: 102.0588 - mean_squared_error: 102.0588 - accuracy: 0.0000e+00 - mean_absolute_error: 7.8647 - val_loss: 103.5053 - val_mean_squared_error: 103.5053 - val_accuracy: 0.0000e+00 - val_mean_absolute_error: 7.8612\n",
            "Epoch 48/50\n",
            "252/252 [==============================] - 0s 1ms/step - loss: 101.9963 - mean_squared_error: 101.9963 - accuracy: 0.0000e+00 - mean_absolute_error: 7.8592 - val_loss: 103.4993 - val_mean_squared_error: 103.4993 - val_accuracy: 0.0000e+00 - val_mean_absolute_error: 7.8524\n",
            "Epoch 49/50\n",
            "252/252 [==============================] - 0s 1ms/step - loss: 102.0064 - mean_squared_error: 102.0064 - accuracy: 0.0000e+00 - mean_absolute_error: 7.8588 - val_loss: 103.4723 - val_mean_squared_error: 103.4723 - val_accuracy: 0.0000e+00 - val_mean_absolute_error: 7.8543\n",
            "Epoch 50/50\n",
            "252/252 [==============================] - 0s 1ms/step - loss: 101.9822 - mean_squared_error: 101.9822 - accuracy: 0.0000e+00 - mean_absolute_error: 7.8611 - val_loss: 103.5540 - val_mean_squared_error: 103.5540 - val_accuracy: 0.0000e+00 - val_mean_absolute_error: 7.8632\n"
          ],
          "name": "stdout"
        },
        {
          "output_type": "display_data",
          "data": {
            "image/png": "[encoded data removed]",
            "text/plain": [
              "<Figure size 432x288 with 1 Axes>"
            ]
          },
          "metadata": {
            "tags": [],
            "needs_background": "light"
          }
        }
      ]
    },
    {
      "cell_type": "markdown",
      "metadata": {
        "id": "xVQOsd0kvrAf",
        "colab_type": "text"
      },
      "source": [
        "NN2"
      ]
    },
    {
      "cell_type": "code",
      "metadata": {
        "id": "DDXstfAxvezn",
        "colab_type": "code",
        "colab": {
          "base_uri": "https://localhost:8080/",
          "height": 312
        },
        "outputId": "ddd22479-0f0b-4711-cbae-5487160a1346"
      },
      "source": [
        "# one extra intermediate layer\n",
        "model = Sequential([Dense(32, activation= \"relu\", input_shape=[4]),Dense(32, activation= \"relu\"),Dense(32, activation= \"relu\"),Dense(1)])\n",
        "\n",
        "print(model.summary())\n",
        "\n",
        "model.compile(loss=losses.MeanSquaredError(), optimizer=optimizers.RMSprop(), metrics = [metrics.MeanSquaredError(),metrics.Accuracy(),metrics.MeanAbsoluteError()])\n",
        "\n",
        "# train the model\n",
        "\n",
        "gg = model.fit(\n",
        "    x=df_x_train_normalized,\n",
        "    y=df_y_train,\n",
        "    batch_size=64,\n",
        "    epochs=50,\n",
        "    verbose=0,\n",
        "    validation_data=(df_x_valid_normalized, df_y_valid),\n",
        ")\n"
      ],
      "execution_count": 4,
      "outputs": [
        {
          "output_type": "stream",
          "text": [
            "Model: \"sequential_1\"\n",
            "_________________________________________________________________\n",
            "Layer (type)                 Output Shape              Param #   \n",
            "=================================================================\n",
            "dense_3 (Dense)              (None, 32)                160       \n",
            "_________________________________________________________________\n",
            "dense_4 (Dense)              (None, 32)                1056      \n",
            "_________________________________________________________________\n",
            "dense_5 (Dense)              (None, 32)                1056      \n",
            "_________________________________________________________________\n",
            "dense_6 (Dense)              (None, 1)                 33        \n",
            "=================================================================\n",
            "Total params: 2,305\n",
            "Trainable params: 2,305\n",
            "Non-trainable params: 0\n",
            "_________________________________________________________________\n",
            "None\n"
          ],
          "name": "stdout"
        }
      ]
    },
    {
      "cell_type": "code",
      "metadata": {
        "id": "-KlK3_ZNvpoe",
        "colab_type": "code",
        "colab": {
          "base_uri": "https://localhost:8080/",
          "height": 35
        },
        "outputId": "5d802ff4-3b35-483c-9b1c-31fc22bf4194"
      },
      "source": [
        "gg.history['mean_absolute_error'][-1:]"
      ],
      "execution_count": 14,
      "outputs": [
        {
          "output_type": "execute_result",
          "data": {
            "text/plain": [
              "[7.836406707763672]"
            ]
          },
          "metadata": {
            "tags": []
          },
          "execution_count": 14
        }
      ]
    },
    {
      "cell_type": "markdown",
      "metadata": {
        "id": "Wn9ubce2yMj3",
        "colab_type": "text"
      },
      "source": [
        "small improvement. Let's reduce the intermediate layer size. \n",
        "\n",
        "NN3\n"
      ]
    },
    {
      "cell_type": "code",
      "metadata": {
        "id": "Z20xU4OJyXOB",
        "colab_type": "code",
        "colab": {
          "base_uri": "https://localhost:8080/",
          "height": 329
        },
        "outputId": "63dfb186-c751-4fd7-e2d0-56b4bd0c23bc"
      },
      "source": [
        "# half size of intermediate layers\n",
        "model = Sequential([Dense(16, activation= \"relu\", input_shape=[4]),Dense(16, activation= \"relu\"),Dense(16, activation= \"relu\"),Dense(1)])\n",
        "\n",
        "print(model.summary())\n",
        "\n",
        "model.compile(loss=losses.MeanSquaredError(), optimizer=optimizers.RMSprop(), metrics = [metrics.MeanSquaredError(),metrics.Accuracy(),metrics.MeanAbsoluteError()])\n",
        "\n",
        "# train the model\n",
        "\n",
        "gg = model.fit(\n",
        "    x=df_x_train_normalized,\n",
        "    y=df_y_train,\n",
        "    batch_size=64,\n",
        "    epochs=50,\n",
        "    verbose=0,\n",
        "    validation_data=(df_x_valid_normalized, df_y_valid),\n",
        ")\n",
        "gg.history['mean_absolute_error'][-1:]"
      ],
      "execution_count": 16,
      "outputs": [
        {
          "output_type": "stream",
          "text": [
            "Model: \"sequential_3\"\n",
            "_________________________________________________________________\n",
            "Layer (type)                 Output Shape              Param #   \n",
            "=================================================================\n",
            "dense_11 (Dense)             (None, 16)                80        \n",
            "_________________________________________________________________\n",
            "dense_12 (Dense)             (None, 16)                272       \n",
            "_________________________________________________________________\n",
            "dense_13 (Dense)             (None, 16)                272       \n",
            "_________________________________________________________________\n",
            "dense_14 (Dense)             (None, 1)                 17        \n",
            "=================================================================\n",
            "Total params: 641\n",
            "Trainable params: 641\n",
            "Non-trainable params: 0\n",
            "_________________________________________________________________\n",
            "None\n"
          ],
          "name": "stdout"
        },
        {
          "output_type": "execute_result",
          "data": {
            "text/plain": [
              "[7.866527557373047]"
            ]
          },
          "metadata": {
            "tags": []
          },
          "execution_count": 16
        }
      ]
    },
    {
      "cell_type": "markdown",
      "metadata": {
        "id": "d3T81CEByzxE",
        "colab_type": "text"
      },
      "source": [
        "result is getting worse. Let's double the intermediate layer size instead\n",
        "\n",
        "NN4"
      ]
    },
    {
      "cell_type": "code",
      "metadata": {
        "id": "P3GeTrbTyvIe",
        "colab_type": "code",
        "colab": {
          "base_uri": "https://localhost:8080/",
          "height": 329
        },
        "outputId": "e7753d40-c7b0-4e93-d0a9-2b8d051d318b"
      },
      "source": [
        "# double size of intermediate layers\n",
        "model = Sequential([Dense(64, activation= \"relu\", input_shape=[4]),Dense(64, activation= \"relu\"),Dense(64, activation= \"relu\"),Dense(1)])\n",
        "\n",
        "print(model.summary())\n",
        "\n",
        "model.compile(loss=losses.MeanSquaredError(), optimizer=optimizers.RMSprop(), metrics = [metrics.MeanSquaredError(),metrics.Accuracy(),metrics.MeanAbsoluteError()])\n",
        "\n",
        "# train the model\n",
        "\n",
        "gg = model.fit(\n",
        "    x=df_x_train_normalized,\n",
        "    y=df_y_train,\n",
        "    batch_size=64,\n",
        "    epochs=50,\n",
        "    verbose=0,\n",
        "    validation_data=(df_x_valid_normalized, df_y_valid),\n",
        ")\n",
        "gg.history['mean_absolute_error'][-1:]"
      ],
      "execution_count": 17,
      "outputs": [
        {
          "output_type": "stream",
          "text": [
            "Model: \"sequential_4\"\n",
            "_________________________________________________________________\n",
            "Layer (type)                 Output Shape              Param #   \n",
            "=================================================================\n",
            "dense_15 (Dense)             (None, 64)                320       \n",
            "_________________________________________________________________\n",
            "dense_16 (Dense)             (None, 64)                4160      \n",
            "_________________________________________________________________\n",
            "dense_17 (Dense)             (None, 64)                4160      \n",
            "_________________________________________________________________\n",
            "dense_18 (Dense)             (None, 1)                 65        \n",
            "=================================================================\n",
            "Total params: 8,705\n",
            "Trainable params: 8,705\n",
            "Non-trainable params: 0\n",
            "_________________________________________________________________\n",
            "None\n"
          ],
          "name": "stdout"
        },
        {
          "output_type": "execute_result",
          "data": {
            "text/plain": [
              "[7.827488899230957]"
            ]
          },
          "metadata": {
            "tags": []
          },
          "execution_count": 17
        }
      ]
    },
    {
      "cell_type": "markdown",
      "metadata": {
        "id": "OKT3YUvKzSRI",
        "colab_type": "text"
      },
      "source": [
        "This is the best result so far. Let's add one more layer\n",
        "\n",
        "NN5"
      ]
    },
    {
      "cell_type": "code",
      "metadata": {
        "id": "GosRFbjUzQJH",
        "colab_type": "code",
        "colab": {
          "base_uri": "https://localhost:8080/",
          "height": 364
        },
        "outputId": "f28fd132-1749-4a8a-82f7-42ca6d38c7e8"
      },
      "source": [
        "# add another layer\n",
        "model = Sequential([Dense(64, activation= \"relu\", input_shape=[4]),Dense(64, activation= \"relu\"),Dense(64, activation= \"relu\"),Dense(64, activation= \"relu\"),Dense(1)])\n",
        "\n",
        "print(model.summary())\n",
        "\n",
        "model.compile(loss=losses.MeanSquaredError(), optimizer=optimizers.RMSprop(), metrics = [metrics.MeanSquaredError(),metrics.Accuracy(),metrics.MeanAbsoluteError()])\n",
        "\n",
        "# train the model\n",
        "\n",
        "gg = model.fit(\n",
        "    x=df_x_train_normalized,\n",
        "    y=df_y_train,\n",
        "    batch_size=64,\n",
        "    epochs=50,\n",
        "    verbose=0,\n",
        "    validation_data=(df_x_valid_normalized, df_y_valid),\n",
        ")\n",
        "gg.history['mean_absolute_error'][-1:]"
      ],
      "execution_count": 18,
      "outputs": [
        {
          "output_type": "stream",
          "text": [
            "Model: \"sequential_5\"\n",
            "_________________________________________________________________\n",
            "Layer (type)                 Output Shape              Param #   \n",
            "=================================================================\n",
            "dense_19 (Dense)             (None, 64)                320       \n",
            "_________________________________________________________________\n",
            "dense_20 (Dense)             (None, 64)                4160      \n",
            "_________________________________________________________________\n",
            "dense_21 (Dense)             (None, 64)                4160      \n",
            "_________________________________________________________________\n",
            "dense_22 (Dense)             (None, 64)                4160      \n",
            "_________________________________________________________________\n",
            "dense_23 (Dense)             (None, 1)                 65        \n",
            "=================================================================\n",
            "Total params: 12,865\n",
            "Trainable params: 12,865\n",
            "Non-trainable params: 0\n",
            "_________________________________________________________________\n",
            "None\n"
          ],
          "name": "stdout"
        },
        {
          "output_type": "execute_result",
          "data": {
            "text/plain": [
              "[7.800007343292236]"
            ]
          },
          "metadata": {
            "tags": []
          },
          "execution_count": 18
        }
      ]
    },
    {
      "cell_type": "markdown",
      "metadata": {
        "id": "TWOIkCxXzsXN",
        "colab_type": "text"
      },
      "source": [
        "So far, each extra layer and each addition in layer size have improved the result. Lets blow up the model in bigger steps now"
      ]
    },
    {
      "cell_type": "code",
      "metadata": {
        "id": "izR4rL3mz5Wt",
        "colab_type": "code",
        "colab": {
          "base_uri": "https://localhost:8080/",
          "height": 468
        },
        "outputId": "9ee456f5-224c-4286-afe2-16bdffde22d0"
      },
      "source": [
        "# more and bigger layers\n",
        "model = Sequential([Dense(1024, activation= \"relu\", input_shape=[4]),Dense(1024, activation= \"relu\"),Dense(1024, activation= \"relu\"),Dense(1024, activation= \"relu\"),Dense(1024, activation= \"relu\"),Dense(1024, activation= \"relu\"),Dense(1024, activation= \"relu\"),Dense(1)])\n",
        "\n",
        "print(model.summary())\n",
        "\n",
        "model.compile(loss=losses.MeanSquaredError(), optimizer=optimizers.RMSprop(), metrics = [metrics.MeanSquaredError(),metrics.Accuracy(),metrics.MeanAbsoluteError()])\n",
        "\n",
        "# train the model\n",
        "\n",
        "gg = model.fit(\n",
        "    x=df_x_train_normalized,\n",
        "    y=df_y_train,\n",
        "    batch_size=64,\n",
        "    epochs=50,\n",
        "    verbose=0,\n",
        "    validation_data=(df_x_valid_normalized, df_y_valid),\n",
        ")\n",
        "gg.history['mean_absolute_error'][-1:]"
      ],
      "execution_count": 19,
      "outputs": [
        {
          "output_type": "stream",
          "text": [
            "Model: \"sequential_6\"\n",
            "_________________________________________________________________\n",
            "Layer (type)                 Output Shape              Param #   \n",
            "=================================================================\n",
            "dense_24 (Dense)             (None, 1024)              5120      \n",
            "_________________________________________________________________\n",
            "dense_25 (Dense)             (None, 1024)              1049600   \n",
            "_________________________________________________________________\n",
            "dense_26 (Dense)             (None, 1024)              1049600   \n",
            "_________________________________________________________________\n",
            "dense_27 (Dense)             (None, 1024)              1049600   \n",
            "_________________________________________________________________\n",
            "dense_28 (Dense)             (None, 1024)              1049600   \n",
            "_________________________________________________________________\n",
            "dense_29 (Dense)             (None, 1024)              1049600   \n",
            "_________________________________________________________________\n",
            "dense_30 (Dense)             (None, 1024)              1049600   \n",
            "_________________________________________________________________\n",
            "dense_31 (Dense)             (None, 1)                 1025      \n",
            "=================================================================\n",
            "Total params: 6,303,745\n",
            "Trainable params: 6,303,745\n",
            "Non-trainable params: 0\n",
            "_________________________________________________________________\n",
            "None\n"
          ],
          "name": "stdout"
        },
        {
          "output_type": "execute_result",
          "data": {
            "text/plain": [
              "[7.711993217468262]"
            ]
          },
          "metadata": {
            "tags": []
          },
          "execution_count": 19
        }
      ]
    },
    {
      "cell_type": "code",
      "metadata": {
        "id": "UNMFrJgz146m",
        "colab_type": "code",
        "colab": {
          "base_uri": "https://localhost:8080/",
          "height": 295
        },
        "outputId": "69c9f6d8-de6b-4f90-c47e-45f3916df2cc"
      },
      "source": [
        "# let's check if we are overfitting\n",
        "plt.plot(gg.history[\"loss\"])\n",
        "plt.plot(gg.history[\"val_loss\"])\n",
        "plt.title(\"model loss\")\n",
        "plt.ylabel(\"loss\")\n",
        "plt.xlabel(\"epoch\")\n",
        "plt.legend([\"train\", \"test\"], loc=\"upper left\")\n",
        "plt.show()"
      ],
      "execution_count": 20,
      "outputs": [
        {
          "output_type": "display_data",
          "data": {
            "image/png": "[encoded data removed]",
            "text/plain": [
              "<Figure size 432x288 with 1 Axes>"
            ]
          },
          "metadata": {
            "tags": [],
            "needs_background": "light"
          }
        }
      ]
    },
    {
      "cell_type": "markdown",
      "metadata": {
        "id": "vywQEc9eAEI7",
        "colab_type": "text"
      },
      "source": [
        "looks like we should stop after 20 epochs. Oherwise ok.\n"
      ]
    }
  ]
}