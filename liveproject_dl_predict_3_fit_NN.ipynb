{
  "nbformat": 4,
  "nbformat_minor": 0,
  "metadata": {
    "colab": {
      "name": "liveproject_dl-predict_3_fit_NN.ipynb",
      "provenance": [],
      "authorship_tag": "ABX9TyMeSAnBtGZBa8ZvHJ+0xeG+",
      "include_colab_link": true
    },
    "kernelspec": {
      "name": "python3",
      "display_name": "Python 3"
    }
  },
  "cells": [
    {
      "cell_type": "markdown",
      "metadata": {
        "id": "view-in-github",
        "colab_type": "text"
      },
      "source": [
        "<a href=\"https://colab.research.google.com/github/hhauschild/keras-playground/blob/master/liveproject_dl_predict_3_fit_NN.ipynb\" target=\"_parent\"><img src=\"https://colab.research.google.com/assets/colab-badge.svg\" alt=\"Open In Colab\"/></a>"
      ]
    },
    {
      "cell_type": "markdown",
      "metadata": {
        "id": "6DFvWMWwJpl-",
        "colab_type": "text"
      },
      "source": [
        "1. Create NN\n"
      ]
    },
    {
      "cell_type": "code",
      "metadata": {
        "id": "yEtBdC3SJarD",
        "colab_type": "code",
        "colab": {
          "base_uri": "https://localhost:8080/",
          "height": 278
        },
        "outputId": "25edcb85-1122-407e-8335-bdca72082de8"
      },
      "source": [
        "# read data\n",
        "import pandas as pd\n",
        "\n",
        "gameurl = r\"https://liveproject-resources.s3.amazonaws.com/other/deeplearningbasketballscores/Games-Calculated.csv\"\n",
        "dateparser = lambda x: pd.datetime.strptime(x, \"%Y-%m-%d\")\n",
        "df = pd.read_csv(gameurl, header = None, \\\n",
        "                      names=[\"date\",\"home_team\",\"home_score\", \"away_team\",\"away_score\", \\\n",
        "                             \"home_sc_avg\", \\\n",
        "                             \"home_defensive_avg\", \"away_sc_avg\", \"away_defensive_avg\", \"result\" ] ,\\\n",
        "                      parse_dates=[\"date\"], \\\n",
        "                      dtype={\"home_team\":str,\"home_score\":int,\"away_team\":str,\\\n",
        "                             \"away_score\":int, \"home_sc_avg\":float, \\\n",
        "                             \"home_defensive_avg\":float, \"away_sc_avg\":float,  \\\n",
        "                             \"away_defensive_avg\":float, \"result\":int} \\\n",
        "                      );\n",
        "df.head()"
      ],
      "execution_count": 1,
      "outputs": [
        {
          "output_type": "execute_result",
          "data": {
            "text/html": [
              "<div>\n",
              "<style scoped>\n",
              "    .dataframe tbody tr th:only-of-type {\n",
              "        vertical-align: middle;\n",
              "    }\n",
              "\n",
              "    .dataframe tbody tr th {\n",
              "        vertical-align: top;\n",
              "    }\n",
              "\n",
              "    .dataframe thead th {\n",
              "        text-align: right;\n",
              "    }\n",
              "</style>\n",
              "<table border=\"1\" class=\"dataframe\">\n",
              "  <thead>\n",
              "    <tr style=\"text-align: right;\">\n",
              "      <th></th>\n",
              "      <th>date</th>\n",
              "      <th>home_team</th>\n",
              "      <th>home_score</th>\n",
              "      <th>away_team</th>\n",
              "      <th>away_score</th>\n",
              "      <th>home_sc_avg</th>\n",
              "      <th>home_defensive_avg</th>\n",
              "      <th>away_sc_avg</th>\n",
              "      <th>away_defensive_avg</th>\n",
              "      <th>result</th>\n",
              "    </tr>\n",
              "  </thead>\n",
              "  <tbody>\n",
              "    <tr>\n",
              "      <th>0</th>\n",
              "      <td>2015-11-13</td>\n",
              "      <td>Hawaii</td>\n",
              "      <td>87</td>\n",
              "      <td>Montana State</td>\n",
              "      <td>76</td>\n",
              "      <td>87.0</td>\n",
              "      <td>76.0</td>\n",
              "      <td>76.0</td>\n",
              "      <td>87.0</td>\n",
              "      <td>11</td>\n",
              "    </tr>\n",
              "    <tr>\n",
              "      <th>1</th>\n",
              "      <td>2015-11-13</td>\n",
              "      <td>Eastern Michigan</td>\n",
              "      <td>70</td>\n",
              "      <td>Vermont</td>\n",
              "      <td>50</td>\n",
              "      <td>70.0</td>\n",
              "      <td>50.0</td>\n",
              "      <td>50.0</td>\n",
              "      <td>70.0</td>\n",
              "      <td>20</td>\n",
              "    </tr>\n",
              "    <tr>\n",
              "      <th>2</th>\n",
              "      <td>2015-11-13</td>\n",
              "      <td>Yale</td>\n",
              "      <td>70</td>\n",
              "      <td>Fairfield</td>\n",
              "      <td>57</td>\n",
              "      <td>70.0</td>\n",
              "      <td>57.0</td>\n",
              "      <td>57.0</td>\n",
              "      <td>70.0</td>\n",
              "      <td>13</td>\n",
              "    </tr>\n",
              "    <tr>\n",
              "      <th>3</th>\n",
              "      <td>2015-11-13</td>\n",
              "      <td>Central Michigan</td>\n",
              "      <td>89</td>\n",
              "      <td>Jacksonville State</td>\n",
              "      <td>83</td>\n",
              "      <td>89.0</td>\n",
              "      <td>83.0</td>\n",
              "      <td>83.0</td>\n",
              "      <td>89.0</td>\n",
              "      <td>6</td>\n",
              "    </tr>\n",
              "    <tr>\n",
              "      <th>4</th>\n",
              "      <td>2015-11-13</td>\n",
              "      <td>Iowa State</td>\n",
              "      <td>68</td>\n",
              "      <td>Colorado</td>\n",
              "      <td>62</td>\n",
              "      <td>68.0</td>\n",
              "      <td>62.0</td>\n",
              "      <td>62.0</td>\n",
              "      <td>68.0</td>\n",
              "      <td>6</td>\n",
              "    </tr>\n",
              "  </tbody>\n",
              "</table>\n",
              "</div>"
            ],
            "text/plain": [
              "        date         home_team  ...  away_defensive_avg result\n",
              "0 2015-11-13            Hawaii  ...                87.0     11\n",
              "1 2015-11-13  Eastern Michigan  ...                70.0     20\n",
              "2 2015-11-13              Yale  ...                70.0     13\n",
              "3 2015-11-13  Central Michigan  ...                89.0      6\n",
              "4 2015-11-13        Iowa State  ...                68.0      6\n",
              "\n",
              "[5 rows x 10 columns]"
            ]
          },
          "metadata": {
            "tags": []
          },
          "execution_count": 1
        }
      ]
    },
    {
      "cell_type": "code",
      "metadata": {
        "id": "UPvwFbk6oo9A",
        "colab_type": "code",
        "colab": {
          "base_uri": "https://localhost:8080/",
          "height": 278
        },
        "outputId": "49ac74d3-a9cf-46e5-9e48-d90ddc26bdd5"
      },
      "source": [
        "# encode team names\n",
        "team_ids = df[\"home_team\"].unique().tolist()\n",
        "team2team_encoded = {x: i for i, x in enumerate(team_ids)}\n",
        "team_encoded2team = {i: x for i, x in enumerate(team_ids)}\n",
        "df[\"home_team_id\"] = df[\"home_team\"].map(team2team_encoded)\n",
        "df[\"away_team_id\"] = df[\"away_team\"].map(team2team_encoded)\n",
        "\n",
        "df.head()"
      ],
      "execution_count": 2,
      "outputs": [
        {
          "output_type": "execute_result",
          "data": {
            "text/html": [
              "<div>\n",
              "<style scoped>\n",
              "    .dataframe tbody tr th:only-of-type {\n",
              "        vertical-align: middle;\n",
              "    }\n",
              "\n",
              "    .dataframe tbody tr th {\n",
              "        vertical-align: top;\n",
              "    }\n",
              "\n",
              "    .dataframe thead th {\n",
              "        text-align: right;\n",
              "    }\n",
              "</style>\n",
              "<table border=\"1\" class=\"dataframe\">\n",
              "  <thead>\n",
              "    <tr style=\"text-align: right;\">\n",
              "      <th></th>\n",
              "      <th>date</th>\n",
              "      <th>home_team</th>\n",
              "      <th>home_score</th>\n",
              "      <th>away_team</th>\n",
              "      <th>away_score</th>\n",
              "      <th>home_sc_avg</th>\n",
              "      <th>home_defensive_avg</th>\n",
              "      <th>away_sc_avg</th>\n",
              "      <th>away_defensive_avg</th>\n",
              "      <th>result</th>\n",
              "      <th>home_team_id</th>\n",
              "      <th>away_team_id</th>\n",
              "    </tr>\n",
              "  </thead>\n",
              "  <tbody>\n",
              "    <tr>\n",
              "      <th>0</th>\n",
              "      <td>2015-11-13</td>\n",
              "      <td>Hawaii</td>\n",
              "      <td>87</td>\n",
              "      <td>Montana State</td>\n",
              "      <td>76</td>\n",
              "      <td>87.0</td>\n",
              "      <td>76.0</td>\n",
              "      <td>76.0</td>\n",
              "      <td>87.0</td>\n",
              "      <td>11</td>\n",
              "      <td>0</td>\n",
              "      <td>221</td>\n",
              "    </tr>\n",
              "    <tr>\n",
              "      <th>1</th>\n",
              "      <td>2015-11-13</td>\n",
              "      <td>Eastern Michigan</td>\n",
              "      <td>70</td>\n",
              "      <td>Vermont</td>\n",
              "      <td>50</td>\n",
              "      <td>70.0</td>\n",
              "      <td>50.0</td>\n",
              "      <td>50.0</td>\n",
              "      <td>70.0</td>\n",
              "      <td>20</td>\n",
              "      <td>1</td>\n",
              "      <td>182</td>\n",
              "    </tr>\n",
              "    <tr>\n",
              "      <th>2</th>\n",
              "      <td>2015-11-13</td>\n",
              "      <td>Yale</td>\n",
              "      <td>70</td>\n",
              "      <td>Fairfield</td>\n",
              "      <td>57</td>\n",
              "      <td>70.0</td>\n",
              "      <td>57.0</td>\n",
              "      <td>57.0</td>\n",
              "      <td>70.0</td>\n",
              "      <td>13</td>\n",
              "      <td>2</td>\n",
              "      <td>240</td>\n",
              "    </tr>\n",
              "    <tr>\n",
              "      <th>3</th>\n",
              "      <td>2015-11-13</td>\n",
              "      <td>Central Michigan</td>\n",
              "      <td>89</td>\n",
              "      <td>Jacksonville State</td>\n",
              "      <td>83</td>\n",
              "      <td>89.0</td>\n",
              "      <td>83.0</td>\n",
              "      <td>83.0</td>\n",
              "      <td>89.0</td>\n",
              "      <td>6</td>\n",
              "      <td>3</td>\n",
              "      <td>288</td>\n",
              "    </tr>\n",
              "    <tr>\n",
              "      <th>4</th>\n",
              "      <td>2015-11-13</td>\n",
              "      <td>Iowa State</td>\n",
              "      <td>68</td>\n",
              "      <td>Colorado</td>\n",
              "      <td>62</td>\n",
              "      <td>68.0</td>\n",
              "      <td>62.0</td>\n",
              "      <td>62.0</td>\n",
              "      <td>68.0</td>\n",
              "      <td>6</td>\n",
              "      <td>4</td>\n",
              "      <td>220</td>\n",
              "    </tr>\n",
              "  </tbody>\n",
              "</table>\n",
              "</div>"
            ],
            "text/plain": [
              "        date         home_team  home_score  ... result  home_team_id  away_team_id\n",
              "0 2015-11-13            Hawaii          87  ...     11             0           221\n",
              "1 2015-11-13  Eastern Michigan          70  ...     20             1           182\n",
              "2 2015-11-13              Yale          70  ...     13             2           240\n",
              "3 2015-11-13  Central Michigan          89  ...      6             3           288\n",
              "4 2015-11-13        Iowa State          68  ...      6             4           220\n",
              "\n",
              "[5 rows x 12 columns]"
            ]
          },
          "metadata": {
            "tags": []
          },
          "execution_count": 2
        }
      ]
    },
    {
      "cell_type": "code",
      "metadata": {
        "id": "roxNhFCCSrZ_",
        "colab_type": "code",
        "colab": {
          "base_uri": "https://localhost:8080/",
          "height": 303
        },
        "outputId": "1af94566-9eec-48c4-e36a-203134894981"
      },
      "source": [
        "# define neural network\n",
        "\n",
        "# build model with keras\n",
        "from keras.models import Sequential \n",
        "from keras.layers import Activation, Dense\n",
        "from keras import losses \n",
        "from keras import optimizers \n",
        "from keras import metrics \n",
        "\n",
        "model = Sequential() \n",
        "input_layer = Dense(6, activation = 'relu', input_dim = 6) \n",
        "model.add(input_layer) \n",
        "layer2 = Dense(6, activation = 'relu')\n",
        "model.add(layer2)\n",
        "output_layer = Dense(1, activation='sigmoid')\n",
        "model.add(output_layer)\n",
        "\n",
        "print(model.summary())\n",
        "\n",
        "\n",
        "model.compile(loss='mean_squared_error', optimizer='adam')"
      ],
      "execution_count": 3,
      "outputs": [
        {
          "output_type": "stream",
          "text": [
            "Using TensorFlow backend.\n"
          ],
          "name": "stderr"
        },
        {
          "output_type": "stream",
          "text": [
            "Model: \"sequential_1\"\n",
            "_________________________________________________________________\n",
            "Layer (type)                 Output Shape              Param #   \n",
            "=================================================================\n",
            "dense_1 (Dense)              (None, 6)                 42        \n",
            "_________________________________________________________________\n",
            "dense_2 (Dense)              (None, 6)                 42        \n",
            "_________________________________________________________________\n",
            "dense_3 (Dense)              (None, 1)                 7         \n",
            "=================================================================\n",
            "Total params: 91\n",
            "Trainable params: 91\n",
            "Non-trainable params: 0\n",
            "_________________________________________________________________\n",
            "None\n"
          ],
          "name": "stdout"
        }
      ]
    },
    {
      "cell_type": "markdown",
      "metadata": {
        "id": "8DmmuRKFJuUz",
        "colab_type": "text"
      },
      "source": [
        "2. Train, Test, Validate\n"
      ]
    },
    {
      "cell_type": "code",
      "metadata": {
        "id": "MQ2zt89cqsuw",
        "colab_type": "code",
        "colab": {
          "base_uri": "https://localhost:8080/",
          "height": 285
        },
        "outputId": "1bf1c4a1-c3d3-4f8b-904d-bde826aad46d"
      },
      "source": [
        "# prepare training and validation data\n",
        "import numpy as np\n",
        "import tensorflow as tf\n",
        "\n",
        "df = df.sample(frac=1, random_state=42)\n",
        "\n",
        "# input\n",
        "x = df[[\"home_team_id\", \"away_team_id\", \"home_sc_avg\", \\\n",
        "        \"home_defensive_avg\", \"away_sc_avg\", \"away_defensive_avg\"]].values\n",
        "\n",
        "# target\n",
        "df[\"result\"] = df[\"result\"].values.astype(np.float32)\n",
        "min_result = min(df[\"result\"])\n",
        "max_result = max(df[\"result\"])\n",
        "# normalize 0..1\n",
        "y = df[\"result\"].apply(lambda x: (x - min_result) / (max_result - min_result)).values\n",
        "\n",
        "# split: training data 70% and validation 30%\n",
        "train_indices = int(0.7 * df.shape[0])\n",
        "x_train, x_val, y_train, y_val = (\n",
        "    x[:train_indices],\n",
        "    x[train_indices:],\n",
        "    y[:train_indices],\n",
        "    y[train_indices:],\n",
        ")\n",
        "\n",
        "x_val,y_val"
      ],
      "execution_count": 4,
      "outputs": [
        {
          "output_type": "execute_result",
          "data": {
            "text/plain": [
              "(array([[ 40.        , 247.        ,  82.5       ,  71.5       ,\n",
              "          65.5       ,  69.5       ],\n",
              "        [ 69.        , 258.        ,  81.42857143,  78.78571429,\n",
              "          69.45454545,  85.54545455],\n",
              "        [ 88.        ,  23.        ,  78.4       ,  63.9       ,\n",
              "          64.        ,  67.33333333],\n",
              "        ...,\n",
              "        [140.        , 322.        ,  73.        ,  57.        ,\n",
              "          66.33333333,  69.66666667],\n",
              "        [300.        , 213.        ,  69.        ,  60.        ,\n",
              "          58.5       ,  86.25      ],\n",
              "        [ 78.        ,  31.        ,  83.4       ,  70.4       ,\n",
              "          63.33333333,  70.33333333]]),\n",
              " array([0.45454545, 0.62878788, 0.53787879, ..., 0.38636364, 0.50757576,\n",
              "        0.53787879]))"
            ]
          },
          "metadata": {
            "tags": []
          },
          "execution_count": 4
        }
      ]
    },
    {
      "cell_type": "code",
      "metadata": {
        "id": "DnlKCVfVzl4T",
        "colab_type": "code",
        "colab": {
          "base_uri": "https://localhost:8080/",
          "height": 231
        },
        "outputId": "34afe592-8316-4a31-f451-ff98bc0adafe"
      },
      "source": [
        "# train the model\n",
        "\n",
        "gg = model.fit(\n",
        "    x=x_train,\n",
        "    y=y_train,\n",
        "    batch_size=64,\n",
        "    epochs=5,\n",
        "    verbose=1,\n",
        "    validation_data=(x_val, y_val),\n",
        ")\n",
        "gg"
      ],
      "execution_count": 5,
      "outputs": [
        {
          "output_type": "stream",
          "text": [
            "Train on 14112 samples, validate on 6048 samples\n",
            "Epoch 1/5\n",
            "14112/14112 [==============================] - 0s 35us/step - loss: 0.0492 - val_loss: 0.0127\n",
            "Epoch 2/5\n",
            "14112/14112 [==============================] - 0s 23us/step - loss: 0.0122 - val_loss: 0.0132\n",
            "Epoch 3/5\n",
            "14112/14112 [==============================] - 0s 26us/step - loss: 0.0118 - val_loss: 0.0123\n",
            "Epoch 4/5\n",
            "14112/14112 [==============================] - 0s 25us/step - loss: 0.0117 - val_loss: 0.0127\n",
            "Epoch 5/5\n",
            "14112/14112 [==============================] - 0s 23us/step - loss: 0.0117 - val_loss: 0.0119\n"
          ],
          "name": "stdout"
        },
        {
          "output_type": "execute_result",
          "data": {
            "text/plain": [
              "<keras.callbacks.callbacks.History at 0x7fef44b8fc50>"
            ]
          },
          "metadata": {
            "tags": []
          },
          "execution_count": 5
        }
      ]
    },
    {
      "cell_type": "code",
      "metadata": {
        "id": "EaNfxIeP0YiE",
        "colab_type": "code",
        "colab": {
          "base_uri": "https://localhost:8080/",
          "height": 295
        },
        "outputId": "7c01378f-0637-49c1-e1bc-00dd77bf2da8"
      },
      "source": [
        "# plot losses\n",
        "import matplotlib.pyplot as plt\n",
        "\n",
        "plt.plot(gg.history[\"loss\"])\n",
        "plt.plot(gg.history[\"val_loss\"])\n",
        "plt.title(\"model loss\")\n",
        "plt.ylabel(\"loss\")\n",
        "plt.xlabel(\"epoch\")\n",
        "plt.legend([\"train\", \"test\"], loc=\"upper left\")\n",
        "plt.show()\n",
        "\n"
      ],
      "execution_count": 6,
      "outputs": [
        {
          "output_type": "display_data",
          "data": {
            "image/png": "[encoded data removed]",
            "text/plain": [
              "<Figure size 432x288 with 1 Axes>"
            ]
          },
          "metadata": {
            "tags": [],
            "needs_background": "light"
          }
        }
      ]
    }
  ]
}