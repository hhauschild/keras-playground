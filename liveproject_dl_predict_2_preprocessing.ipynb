{
  "nbformat": 4,
  "nbformat_minor": 0,
  "metadata": {
    "colab": {
      "name": "liveproject_dl-predict_2_preprocessing.ipynb",
      "provenance": [],
      "authorship_tag": "ABX9TyMtlvlryGUKxVR/SyGLmhyO",
      "include_colab_link": true
    },
    "kernelspec": {
      "name": "python3",
      "display_name": "Python 3"
    }
  },
  "cells": [
    {
      "cell_type": "markdown",
      "metadata": {
        "id": "view-in-github",
        "colab_type": "text"
      },
      "source": [
        "<a href=\"https://colab.research.google.com/github/hhauschild/keras-playground/blob/master/liveproject_dl_predict_2_preprocessing.ipynb\" target=\"_parent\"><img src=\"https://colab.research.google.com/assets/colab-badge.svg\" alt=\"Open In Colab\"/></a>"
      ]
    },
    {
      "cell_type": "markdown",
      "metadata": {
        "id": "feEuxuDxyEvU",
        "colab_type": "text"
      },
      "source": [
        "1 create data frames\n"
      ]
    },
    {
      "cell_type": "code",
      "metadata": {
        "id": "0CAH7ZwnyH4U",
        "colab_type": "code",
        "colab": {
          "base_uri": "https://localhost:8080/",
          "height": 313
        },
        "outputId": "faffbe8e-6268-4bce-e5ed-c0ca8173b4cd"
      },
      "source": [
        "# create dataframes\n",
        "import pandas as pd\n",
        "\n",
        "teamurl = r\"https://liveproject-resources.s3.amazonaws.com/other/deeplearningbasketballscores/Teams.csv\"\n",
        "dfteams = pd.read_csv(teamurl, header=None, names=[\"ncaa_division\",\"team\"]);\n",
        "print(dfteams.head())\n",
        "\n",
        "gameurl = r\"https://liveproject-resources.s3.amazonaws.com/other/deeplearningbasketballscores/Games.csv\"\n",
        "dateparser = lambda x: pd.datetime.strptime(x, \"%Y-%m-%d\")\n",
        "#dfgames = pd.read_csv(gameurl, header = None, names=[\"date\",\"home_team\",\"home_score\", \"away_team\",\"away_score\" ], parse_dates=[\"date\"], date_parser=dateparser, escapechar= \"&\");\n",
        "dfgames = pd.read_csv(gameurl, header = None, names=[\"date\",\"home_team\",\"home_score\", \"away_team\",\"away_score\" ], parse_dates=[\"date\"], dtype={\"home_team\":str,\"home_score\":int,\"away_team\":str,\"away_score\":int});\n",
        "dfgames.head()"
      ],
      "execution_count": 1,
      "outputs": [
        {
          "output_type": "stream",
          "text": [
            "  ncaa_division         team\n",
            "0  America East      Vermont\n",
            "1  America East  Stony Brook\n",
            "2  America East         UMBC\n",
            "3  America East     Hartford\n",
            "4  America East       Albany\n"
          ],
          "name": "stdout"
        },
        {
          "output_type": "execute_result",
          "data": {
            "text/html": [
              "<div>\n",
              "<style scoped>\n",
              "    .dataframe tbody tr th:only-of-type {\n",
              "        vertical-align: middle;\n",
              "    }\n",
              "\n",
              "    .dataframe tbody tr th {\n",
              "        vertical-align: top;\n",
              "    }\n",
              "\n",
              "    .dataframe thead th {\n",
              "        text-align: right;\n",
              "    }\n",
              "</style>\n",
              "<table border=\"1\" class=\"dataframe\">\n",
              "  <thead>\n",
              "    <tr style=\"text-align: right;\">\n",
              "      <th></th>\n",
              "      <th>date</th>\n",
              "      <th>home_team</th>\n",
              "      <th>home_score</th>\n",
              "      <th>away_team</th>\n",
              "      <th>away_score</th>\n",
              "    </tr>\n",
              "  </thead>\n",
              "  <tbody>\n",
              "    <tr>\n",
              "      <th>0</th>\n",
              "      <td>2015-11-13</td>\n",
              "      <td>Hawaii</td>\n",
              "      <td>87</td>\n",
              "      <td>Montana St.</td>\n",
              "      <td>76</td>\n",
              "    </tr>\n",
              "    <tr>\n",
              "      <th>1</th>\n",
              "      <td>2015-11-13</td>\n",
              "      <td>Eastern Mich.</td>\n",
              "      <td>70</td>\n",
              "      <td>Vermont</td>\n",
              "      <td>50</td>\n",
              "    </tr>\n",
              "    <tr>\n",
              "      <th>2</th>\n",
              "      <td>2015-11-13</td>\n",
              "      <td>Columbia</td>\n",
              "      <td>107</td>\n",
              "      <td>Kean</td>\n",
              "      <td>62</td>\n",
              "    </tr>\n",
              "    <tr>\n",
              "      <th>3</th>\n",
              "      <td>2015-11-13</td>\n",
              "      <td>La.-Monroe</td>\n",
              "      <td>88</td>\n",
              "      <td>McMurry</td>\n",
              "      <td>43</td>\n",
              "    </tr>\n",
              "    <tr>\n",
              "      <th>4</th>\n",
              "      <td>2015-11-13</td>\n",
              "      <td>Yale</td>\n",
              "      <td>70</td>\n",
              "      <td>Fairfield</td>\n",
              "      <td>57</td>\n",
              "    </tr>\n",
              "  </tbody>\n",
              "</table>\n",
              "</div>"
            ],
            "text/plain": [
              "        date      home_team  home_score    away_team  away_score\n",
              "0 2015-11-13         Hawaii          87  Montana St.          76\n",
              "1 2015-11-13  Eastern Mich.          70      Vermont          50\n",
              "2 2015-11-13       Columbia         107         Kean          62\n",
              "3 2015-11-13     La.-Monroe          88      McMurry          43\n",
              "4 2015-11-13           Yale          70    Fairfield          57"
            ]
          },
          "metadata": {
            "tags": []
          },
          "execution_count": 1
        }
      ]
    },
    {
      "cell_type": "markdown",
      "metadata": {
        "id": "e998rBnLERG4",
        "colab_type": "text"
      },
      "source": [
        "2. Clean data: inspect team names"
      ]
    },
    {
      "cell_type": "code",
      "metadata": {
        "id": "xtWPjMO78out",
        "colab_type": "code",
        "colab": {
          "base_uri": "https://localhost:8080/",
          "height": 73
        },
        "outputId": "07c37677-27bf-4ee8-bb5e-912c82e44129"
      },
      "source": [
        "print(sorted(dfteams.team.unique()))\n",
        "print(sorted(dfgames.home_team.unique()))\n",
        "#print(sorted(dfgames.away_team.unique()))"
      ],
      "execution_count": 2,
      "outputs": [
        {
          "output_type": "stream",
          "text": [
            "['Abilene Christian', 'Air Force', 'Akron', 'Alabama', 'Alabama A&M', 'Alabama State', 'Albany', 'Alcorn State', 'American University', 'Appalachian State', 'Arizona', 'Arizona State', 'Arkansas', 'Arkansas State', 'Arkansas-Little Rock', 'Arkansas-Pine Bluff', 'Army', 'Auburn', 'Austin Peay', 'BYU', 'Ball State', 'Baylor', 'Belmont', 'Bethune-Cookman', 'Binghamton', 'Boise State', 'Boston College', 'Boston University', 'Bowling Green', 'Bradley', 'Brown', 'Bryant University', 'Bucknell', 'Buffalo', 'Butler', 'Cal Poly', 'Cal State Bakersfield', 'Cal State Fullerton', 'Cal State Northridge', 'California', 'California Baptist', 'Campbell', 'Canisius', 'Central Arkansas', 'Central Connecticut State', 'Central Michigan', 'Charleston', 'Charleston Southern', 'Charlotte', 'Chattanooga', 'Chicago State', 'Cincinnati', 'Citadel', 'Clemson', 'Cleveland State', 'Coastal Carolina', 'Colgate', 'Colorado', 'Colorado State', 'Columbia', 'Connecticut', 'Coppin State', 'Cornell', 'Creighton', 'Dartmouth', 'Davidson', 'Dayton', 'DePaul', 'Delaware', 'Delaware State', 'Denver', 'Detroit Mercy', 'Drake', 'Drexel', 'Duke', 'Duquesne', 'East Carolina', 'East Tennessee State', 'Eastern Illinois', 'Eastern Kentucky', 'Eastern Michigan', 'Eastern Washington', 'Elon', 'Evansville', 'Fairfield', 'Fairleigh Dickinson', 'Florida', 'Florida A&M', 'Florida Atlantic', 'Florida Gulf Coast', 'Florida International', 'Florida State', 'Fordham', 'Fresno State', 'Furman', 'Gardner-Webb', 'George Mason', 'George Washington', 'Georgetown', 'Georgia', 'Georgia Southern', 'Georgia State', 'Georgia Tech', 'Gonzaga', 'Grambling State', 'Grand Canyon', 'Green Bay', 'Hampton', 'Hartford', 'Harvard', 'Hawaii', 'High Point', 'Hofstra', 'Holy Cross', 'Houston', 'Houston Baptist', 'Howard', 'IUPUI', 'Idaho', 'Idaho State', 'Illinois', 'Illinois State', 'Illinois-Chicago', 'Incarnate Word', 'Indiana', 'Indiana State', 'Iona', 'Iowa', 'Iowa State', 'Jackson State', 'Jacksonville', 'Jacksonville State', 'James Madison', 'Kansas', 'Kansas State', 'Kennesaw State', 'Kent State', 'Kentucky', 'LIU Brooklyn', 'LSU', 'La Salle', 'Lafayette', 'Lamar', 'Lehigh', 'Liberty', 'Lipscomb', 'Long Beach State', 'Longwood', 'Louisiana Tech', 'Louisiana-Lafayette', 'Louisiana-Monroe', 'Louisville', 'Loyola (IL)', 'Loyola (MD)', 'Loyola Marymount', 'Maine', 'Manhattan', 'Marist', 'Marquette', 'Marshall', 'Maryland', 'Maryland-Eastern Shore', 'Massachusetts', 'Massachusetts-Lowell', 'McNeese State', 'Memphis', 'Mercer', 'Miami (FL)', 'Miami (OH)', 'Michigan', 'Michigan State', 'Middle Tennessee', 'Milwaukee', 'Minnesota', 'Mississippi State', 'Mississippi Valley State', 'Missouri', 'Missouri State', 'Monmouth', 'Montana', 'Montana State', 'Morehead State', 'Morgan State', \"Mount St Mary's\", 'Murray State', 'NJIT', 'Navy', 'Nebraska', 'Nebraska-Omaha', 'Nevada', 'New Hampshire', 'New Mexico', 'New Mexico State', 'New Orleans', 'Niagara', 'Nicholls State', 'Norfolk State', 'North Alabama', 'North Carolina', 'North Carolina A&T', 'North Carolina Central', 'North Carolina State', 'North Carolina-Wilmington', 'North Dakota', 'North Dakota State', 'North Florida', 'North Texas', 'Northeastern', 'Northern Arizona', 'Northern Colorado', 'Northern Illinois', 'Northern Iowa', 'Northern Kentucky', 'Northwestern', 'Northwestern State', 'Notre Dame', 'Oakland', 'Ohio', 'Ohio State', 'Oklahoma', 'Oklahoma State', 'Old Dominion', 'Ole Miss', 'Oral Roberts', 'Oregon', 'Oregon State', 'Pacific', 'Penn State', 'Pennsylvania', 'Pepperdine', 'Pittsburgh', 'Portland', 'Portland State', 'Prairie View A&M', 'Presbyterian', 'Princeton', 'Providence', 'Purdue', 'Purdue Fort Wayne', 'Quinnipiac', 'Radford', 'Rhode Island', 'Rice', 'Richmond', 'Rider', 'Robert Morris', 'Rutgers', 'SIU-Edwardsville', 'SMU', 'Sacramento State', 'Sacred Heart', \"Saint Joseph's (PA)\", 'Saint Louis', \"Saint Mary's\", 'Sam Houston State', 'Samford', 'San Diego', 'San Diego State', 'San Francisco', 'San Jose State', 'Santa Clara', 'Savannah State', 'Seattle', 'Seton Hall', 'Siena', 'South Alabama', 'South Carolina', 'South Carolina State', 'South Dakota', 'South Dakota State', 'South Florida', 'Southeast Missouri State', 'Southeastern Louisiana', 'Southern Illinois', 'Southern Miss', 'Southern University', 'Southern Utah', 'St Bonaventure', 'St Francis (BKN)', 'St Francis (PA)', \"St John's\", \"St Peter's\", 'Stanford', 'Stephen F Austin', 'Stetson', 'Stony Brook', 'Syracuse', 'TCU', 'Temple', 'Tennessee', 'Tennessee State', 'Tennessee Tech', 'Tennessee-Martin', 'Texas', 'Texas A&M', 'Texas A&M-CC', 'Texas Rio Grande Valley', 'Texas Southern', 'Texas State', 'Texas Tech', 'Texas-Arlington', 'Toledo', 'Towson', 'Troy', 'Tulane', 'Tulsa', 'UAB', 'UC Davis', 'UC Irvine', 'UC Riverside', 'UC Santa Barbara', 'UCF', 'UCLA', 'UMBC', 'UMKC', 'UNC Asheville', 'UNC Greensboro', 'UNLV', 'USC', 'USC Upstate', 'UTEP', 'UTSA', 'Utah', 'Utah State', 'Utah Valley', 'Valparaiso', 'Vanderbilt', 'Vermont', 'Villanova', 'Virginia', 'Virginia Commonwealth', 'Virginia Military', 'Virginia Tech', 'Wagner', 'Wake Forest', 'Washington', 'Washington State', 'Weber State', 'West Virginia', 'Western Carolina', 'Western Illinois', 'Western Kentucky', 'Western Michigan', 'Wichita State', 'William & Mary', 'Winthrop', 'Wisconsin', 'Wofford', 'Wright State', 'Wyoming', 'Xavier', 'Yale', 'Youngstown State']\n",
            "['A&amp;M-Corpus Chris', 'Abilene Christian', 'Air Force', 'Akron', 'Alabama', 'Alabama A&amp;M', 'Alabama St.', 'Alabama State', 'Alas. Anchorage', 'Albany', 'Albany (NY)', 'Alcorn St.', 'Alcorn State', 'American', 'Appalachian St.', 'Arizona', 'Arizona St.', 'Ark.-Pine Bluff', 'Arkansas', 'Arkansas St.', 'Arkansas State', 'Army', 'Army West Point', 'Auburn', 'Austin Peay', 'Ave Maria', 'BYU', 'Bakersfield', 'Ball St.', 'Ball State', 'Baylor', 'Belmont', 'Bethune-Cookman', 'Binghamton', 'Boise St.', 'Boise State', 'Boston College', 'Boston U.', 'Bowling Green', 'Bradley', 'Brown', 'Bryant', 'Bucknell', 'Buffalo', 'Butler', 'CSU Bakersfield', 'CSU Fullerton', 'CSUN', 'Cal Baptist', 'Cal Poly', 'Cal St. Fullerton', 'Cal St. Northridge', 'California', 'Campbell', 'Canisius', 'Cent. Conn. St.', 'Centenary (LA)', 'Central Ark.', 'Central Conn. St.', 'Central Mich.', 'Chaminade', 'Charleston', 'Charleston So.', 'Charlotte', 'Chattanooga', 'Chicago St.', 'Chicago State', 'Cincinnati', 'Citadel', 'Clemson', 'Cleveland St.', 'Cleveland State', 'Coastal Caro.', 'Col. of Charleston', 'Colgate', 'Colorado', 'Colorado St.', 'Colorado State', 'Columbia', 'Coppin St.', 'Coppin State', 'Cornell', 'Creighton', 'Dartmouth', 'Davidson', 'Dayton', 'DePaul', 'Delaware', 'Delaware St.', 'Delaware State', 'Denver', 'Detroit', 'Detroit Mercy', 'Drake', 'Drexel', 'Duke', 'Duquesne', 'East Carolina', 'East Tenn. St.', 'Eastern Ill.', 'Eastern Illinois', 'Eastern Kentucky', 'Eastern Ky.', 'Eastern Mich.', 'Eastern Wash.', 'Elon', 'Evansville', 'FGCU', 'FIU', 'Fairfield', 'Fairleigh D&#039;son', 'Fairleigh Dickinson', 'Fla. Atlantic', 'Florida', 'Florida A&amp;M', 'Florida Atlantic', 'Florida St.', 'Florida State', 'Fordham', 'Fort Wayne', 'Fresno St.', 'Fresno State', 'Furman', 'Ga. Southern', 'Gardner-Webb', 'Geo. Washington', 'George Mason', 'George Washington', 'Georgetown', 'Georgia', 'Georgia St.', 'Georgia State', 'Georgia Tech', 'Gonzaga', 'Grambling', 'Grand Canyon', 'Green Bay', 'Hampton', 'Hartford', 'Harvard', 'Hawaii', 'High Point', 'Hofstra', 'Holy Cross', 'Houston', 'Houston Baptist', 'Howard', 'Humboldt State', 'IPFW', 'IUPUI', 'Idaho', 'Idaho St.', 'Idaho State', 'Ill.-Chicago', 'Illinois', 'Illinois St.', 'Illinois State', 'Incarnate Word', 'Indiana', 'Indiana St.', 'Indiana State', 'Iona', 'Iowa', 'Iowa St.', 'Iowa State', 'Jackson St.', 'Jackson State', 'Jacksonville', 'Jacksonville St.', 'James Madison', 'Kansas', 'Kansas St.', 'Kennesaw St.', 'Kennesaw State', 'Kent St.', 'Kent State', 'Kentucky', 'LIU Brooklyn', 'LMU', 'LSU', 'LSU Shreveport', 'La Salle', 'La.-Monroe', 'Lafayette', 'Lamar', 'Lamar University', 'Lehigh', 'Liberty', 'Lipscomb', 'Little Rock', 'Long Beach St.', 'Long Island', 'Longwood', 'Louisiana', 'Louisiana Tech', 'Louisville', 'Loyola (IL)', 'Loyola (Md.)', 'Loyola Chicago', 'Loyola Maryland', 'Loyola Marymount', 'Maine', 'Manhattan', 'Marist', 'Marquette', 'Marshall', 'Maryland', 'Mass.-Lowell', 'Massachusetts', 'McNeese ', 'McNeese St.', 'Md.-East. Shore', 'Memphis', 'Mercer', 'Miami (FL)', 'Miami (Fla.)', 'Miami (OH)', 'Miami (Ohio)', 'Mich. St. ', 'Michigan', 'Michigan St.', 'Mid-Atlantic Christ.', 'Middle Tenn.', 'Milwaukee', 'Minnesota', 'Mississippi', 'Mississippi St.', 'Mississippi Val.', 'Missouri', 'Missouri St.', 'Missouri State', 'Monmouth', 'Montana', 'Montana St.', 'Morehead St.', 'Morehead State', 'Morgan St.', 'Morgan State', 'Mt. St. Mary&#039;s', 'Murray St.', 'Murray State', 'N&#039;western St.', 'N.C. A&amp;T', 'N.C. Central', 'NC State', 'NJIT', 'Navy', 'Neb. Omaha', 'Nebraska', 'Nevada', 'New Hampshire', 'New Mexico', 'New Mexico St.', 'New Orleans', 'Niagara', 'Nicholls St.', 'Nicholls State', 'Norfolk St.', 'Norfolk State', 'North Alabama', 'North Carolina', 'North Carolina St.', 'North Dakota', 'North Dakota St.', 'North Florida', 'North Texas', 'Northeastern', 'Northern Ariz.', 'Northern Colo.', 'Northern Ill.', 'Northern Kentucky', 'Northern Ky.', 'Northwestern', 'Northwestern St.', 'Notre Dame', 'Oakland', 'Ohio', 'Ohio St.', 'Ohio St. ', 'Oklahoma', 'Oklahoma St.', 'Oklahoma State', 'Old Dominion', 'Ole Miss', 'Omaha', 'Oral Roberts', 'Oregon', 'Oregon St.', 'Pacific', 'Penn', 'Penn St.', 'Pepperdine', 'Pittsburgh', 'Portland', 'Portland St.', 'Portland State', 'Prairie View', 'Prairie View A&amp;M', 'Presbyterian', 'Princeton', 'Providence', 'Purdue', 'Quinnipiac', 'Radford', 'Rhode Island', 'Rice', 'Richmond', 'Rider', 'Robert Morris', 'Rowan', 'Rutgers', 'S. Carolina St.', 'S.C. Upstate', 'SFA', 'SIU Edwardsville', 'SIUE', 'SMU', 'Sacramento St.', 'Sacred Heart', 'Saint Joseph&#039;s', \"Saint Joseph's\", 'Saint Louis', 'Sam Houston St.', 'Samford', 'San Diego', 'San Diego St.', 'San Diego State', 'San Francisco', 'San Jose St.', 'San Jose State', 'Santa Clara', 'Savannah St.', 'Savannah State', 'Seattle', 'Seattle U', 'Seton Hall', 'Siena', 'South Ala.', 'South Alabama', 'South Carolina', 'South Carolina St.', 'South Dakota', 'South Dakota St.', 'South Fla.', 'South Florida', 'Southeast Mo. St.', 'Southeastern La.', 'Southern California', 'Southern Ill.', 'Southern Miss', 'Southern Miss.', 'Southern U.', 'Southern Univ.', 'Southern Utah', 'St. Bonaventure', 'St. Francis (B&#039;klyn)', 'St. Francis (NY)', 'St. Francis (PA)', 'St. Francis (Pa.)', 'St. John&#039;s ', 'St. John&#039;s (NY)', 'St. Mary&#039;s (CA)', 'St. Mary&#039;s (Cal.)', 'St. Peter&#039;s', 'Stanford', 'Stephen F. Austin', 'Stetson', 'Stony Brook', 'Syracuse', 'TCU', 'Temple', 'Tennessee', 'Tennessee St.', 'Tennessee State', 'Tennessee Tech', 'Texas', 'Texas A&amp;M', 'Texas A&amp;M-C.C.', 'Texas Southern', 'Texas St.', 'Texas State', 'Texas Tech', 'Texas-Arlington', 'Toledo', 'Towson', 'Troy', 'Tulane', 'Tulsa', 'UAB', 'UALR', 'UC Davis', 'UC Irvine', 'UC Riverside', 'UC Santa Barb.', 'UC Santa Barbara', 'UCF', 'UCLA', 'UConn', 'UIC', 'UMBC', 'UMES', 'UMKC', 'UNC Asheville', 'UNC Greensboro', 'UNC Wilmington', 'UNCG', 'UNCW', 'UNI', 'UNLV', 'USC', 'UT Arlington ', 'UT Martin', 'UTEP', 'UTRGV', 'UTSA', 'University of the Southwest', 'Utah', 'Utah St.', 'Utah State', 'Utah Valley', 'VCU', 'VMI', 'Valparaiso', 'Vanderbilt', 'Vermont', 'Villanova', 'Virginia', 'Virginia Tech', 'Wagner', 'Wake Forest', 'Washington', 'Washington St.', 'Weber St.', 'Weber State', 'West Virginia', 'Western Caro.', 'Western Ill.', 'Western Illinois', 'Western Ky.', 'Western Mich.', 'Wichita St.', 'Wichita State', 'William &amp; Mary', 'Winthrop', 'Wisconsin', 'Wofford', 'Wright St.', 'Wright State', 'Wyoming', 'Xavier', 'Yale', 'Youngstown St.']\n"
          ],
          "name": "stdout"
        }
      ]
    },
    {
      "cell_type": "markdown",
      "metadata": {
        "id": "B64xAOkfHIcF",
        "colab_type": "text"
      },
      "source": [
        "2.1 clean HTML escaping\n"
      ]
    },
    {
      "cell_type": "code",
      "metadata": {
        "id": "EXrluz_BJCcx",
        "colab_type": "code",
        "colab": {
          "base_uri": "https://localhost:8080/",
          "height": 36
        },
        "outputId": "35cd475d-0214-4b18-ee53-9a31bd07681a"
      },
      "source": [
        "import html\n",
        "html.unescape('A&amp;M-Corpus Chris')"
      ],
      "execution_count": 3,
      "outputs": [
        {
          "output_type": "execute_result",
          "data": {
            "application/vnd.google.colaboratory.intrinsic": {
              "type": "string"
            },
            "text/plain": [
              "'A&M-Corpus Chris'"
            ]
          },
          "metadata": {
            "tags": []
          },
          "execution_count": 3
        }
      ]
    },
    {
      "cell_type": "code",
      "metadata": {
        "id": "d2vXWB_cHT5E",
        "colab_type": "code",
        "colab": {
          "base_uri": "https://localhost:8080/",
          "height": 73
        },
        "outputId": "812e5964-f07b-4526-ad91-f744cd1e6a12"
      },
      "source": [
        "\n",
        "dfgames.home_team=dfgames.home_team.apply(lambda x:html.unescape(x))\n",
        "dfgames.away_team=dfgames.away_team.apply(lambda x:html.unescape(str(x)))\n",
        "\n",
        "print(sorted(dfgames.home_team.unique()))\n",
        "print(sorted(dfgames.away_team.unique()))"
      ],
      "execution_count": 4,
      "outputs": [
        {
          "output_type": "stream",
          "text": [
            "['A&M-Corpus Chris', 'Abilene Christian', 'Air Force', 'Akron', 'Alabama', 'Alabama A&M', 'Alabama St.', 'Alabama State', 'Alas. Anchorage', 'Albany', 'Albany (NY)', 'Alcorn St.', 'Alcorn State', 'American', 'Appalachian St.', 'Arizona', 'Arizona St.', 'Ark.-Pine Bluff', 'Arkansas', 'Arkansas St.', 'Arkansas State', 'Army', 'Army West Point', 'Auburn', 'Austin Peay', 'Ave Maria', 'BYU', 'Bakersfield', 'Ball St.', 'Ball State', 'Baylor', 'Belmont', 'Bethune-Cookman', 'Binghamton', 'Boise St.', 'Boise State', 'Boston College', 'Boston U.', 'Bowling Green', 'Bradley', 'Brown', 'Bryant', 'Bucknell', 'Buffalo', 'Butler', 'CSU Bakersfield', 'CSU Fullerton', 'CSUN', 'Cal Baptist', 'Cal Poly', 'Cal St. Fullerton', 'Cal St. Northridge', 'California', 'Campbell', 'Canisius', 'Cent. Conn. St.', 'Centenary (LA)', 'Central Ark.', 'Central Conn. St.', 'Central Mich.', 'Chaminade', 'Charleston', 'Charleston So.', 'Charlotte', 'Chattanooga', 'Chicago St.', 'Chicago State', 'Cincinnati', 'Citadel', 'Clemson', 'Cleveland St.', 'Cleveland State', 'Coastal Caro.', 'Col. of Charleston', 'Colgate', 'Colorado', 'Colorado St.', 'Colorado State', 'Columbia', 'Coppin St.', 'Coppin State', 'Cornell', 'Creighton', 'Dartmouth', 'Davidson', 'Dayton', 'DePaul', 'Delaware', 'Delaware St.', 'Delaware State', 'Denver', 'Detroit', 'Detroit Mercy', 'Drake', 'Drexel', 'Duke', 'Duquesne', 'East Carolina', 'East Tenn. St.', 'Eastern Ill.', 'Eastern Illinois', 'Eastern Kentucky', 'Eastern Ky.', 'Eastern Mich.', 'Eastern Wash.', 'Elon', 'Evansville', 'FGCU', 'FIU', 'Fairfield', \"Fairleigh D'son\", 'Fairleigh Dickinson', 'Fla. Atlantic', 'Florida', 'Florida A&M', 'Florida Atlantic', 'Florida St.', 'Florida State', 'Fordham', 'Fort Wayne', 'Fresno St.', 'Fresno State', 'Furman', 'Ga. Southern', 'Gardner-Webb', 'Geo. Washington', 'George Mason', 'George Washington', 'Georgetown', 'Georgia', 'Georgia St.', 'Georgia State', 'Georgia Tech', 'Gonzaga', 'Grambling', 'Grand Canyon', 'Green Bay', 'Hampton', 'Hartford', 'Harvard', 'Hawaii', 'High Point', 'Hofstra', 'Holy Cross', 'Houston', 'Houston Baptist', 'Howard', 'Humboldt State', 'IPFW', 'IUPUI', 'Idaho', 'Idaho St.', 'Idaho State', 'Ill.-Chicago', 'Illinois', 'Illinois St.', 'Illinois State', 'Incarnate Word', 'Indiana', 'Indiana St.', 'Indiana State', 'Iona', 'Iowa', 'Iowa St.', 'Iowa State', 'Jackson St.', 'Jackson State', 'Jacksonville', 'Jacksonville St.', 'James Madison', 'Kansas', 'Kansas St.', 'Kennesaw St.', 'Kennesaw State', 'Kent St.', 'Kent State', 'Kentucky', 'LIU Brooklyn', 'LMU', 'LSU', 'LSU Shreveport', 'La Salle', 'La.-Monroe', 'Lafayette', 'Lamar', 'Lamar University', 'Lehigh', 'Liberty', 'Lipscomb', 'Little Rock', 'Long Beach St.', 'Long Island', 'Longwood', 'Louisiana', 'Louisiana Tech', 'Louisville', 'Loyola (IL)', 'Loyola (Md.)', 'Loyola Chicago', 'Loyola Maryland', 'Loyola Marymount', 'Maine', 'Manhattan', 'Marist', 'Marquette', 'Marshall', 'Maryland', 'Mass.-Lowell', 'Massachusetts', 'McNeese ', 'McNeese St.', 'Md.-East. Shore', 'Memphis', 'Mercer', 'Miami (FL)', 'Miami (Fla.)', 'Miami (OH)', 'Miami (Ohio)', 'Mich. St. ', 'Michigan', 'Michigan St.', 'Mid-Atlantic Christ.', 'Middle Tenn.', 'Milwaukee', 'Minnesota', 'Mississippi', 'Mississippi St.', 'Mississippi Val.', 'Missouri', 'Missouri St.', 'Missouri State', 'Monmouth', 'Montana', 'Montana St.', 'Morehead St.', 'Morehead State', 'Morgan St.', 'Morgan State', \"Mt. St. Mary's\", 'Murray St.', 'Murray State', \"N'western St.\", 'N.C. A&T', 'N.C. Central', 'NC State', 'NJIT', 'Navy', 'Neb. Omaha', 'Nebraska', 'Nevada', 'New Hampshire', 'New Mexico', 'New Mexico St.', 'New Orleans', 'Niagara', 'Nicholls St.', 'Nicholls State', 'Norfolk St.', 'Norfolk State', 'North Alabama', 'North Carolina', 'North Carolina St.', 'North Dakota', 'North Dakota St.', 'North Florida', 'North Texas', 'Northeastern', 'Northern Ariz.', 'Northern Colo.', 'Northern Ill.', 'Northern Kentucky', 'Northern Ky.', 'Northwestern', 'Northwestern St.', 'Notre Dame', 'Oakland', 'Ohio', 'Ohio St.', 'Ohio St. ', 'Oklahoma', 'Oklahoma St.', 'Oklahoma State', 'Old Dominion', 'Ole Miss', 'Omaha', 'Oral Roberts', 'Oregon', 'Oregon St.', 'Pacific', 'Penn', 'Penn St.', 'Pepperdine', 'Pittsburgh', 'Portland', 'Portland St.', 'Portland State', 'Prairie View', 'Prairie View A&M', 'Presbyterian', 'Princeton', 'Providence', 'Purdue', 'Quinnipiac', 'Radford', 'Rhode Island', 'Rice', 'Richmond', 'Rider', 'Robert Morris', 'Rowan', 'Rutgers', 'S. Carolina St.', 'S.C. Upstate', 'SFA', 'SIU Edwardsville', 'SIUE', 'SMU', 'Sacramento St.', 'Sacred Heart', \"Saint Joseph's\", 'Saint Louis', 'Sam Houston St.', 'Samford', 'San Diego', 'San Diego St.', 'San Diego State', 'San Francisco', 'San Jose St.', 'San Jose State', 'Santa Clara', 'Savannah St.', 'Savannah State', 'Seattle', 'Seattle U', 'Seton Hall', 'Siena', 'South Ala.', 'South Alabama', 'South Carolina', 'South Carolina St.', 'South Dakota', 'South Dakota St.', 'South Fla.', 'South Florida', 'Southeast Mo. St.', 'Southeastern La.', 'Southern California', 'Southern Ill.', 'Southern Miss', 'Southern Miss.', 'Southern U.', 'Southern Univ.', 'Southern Utah', 'St. Bonaventure', \"St. Francis (B'klyn)\", 'St. Francis (NY)', 'St. Francis (PA)', 'St. Francis (Pa.)', \"St. John's \", \"St. John's (NY)\", \"St. Mary's (CA)\", \"St. Mary's (Cal.)\", \"St. Peter's\", 'Stanford', 'Stephen F. Austin', 'Stetson', 'Stony Brook', 'Syracuse', 'TCU', 'Temple', 'Tennessee', 'Tennessee St.', 'Tennessee State', 'Tennessee Tech', 'Texas', 'Texas A&M', 'Texas A&M-C.C.', 'Texas Southern', 'Texas St.', 'Texas State', 'Texas Tech', 'Texas-Arlington', 'Toledo', 'Towson', 'Troy', 'Tulane', 'Tulsa', 'UAB', 'UALR', 'UC Davis', 'UC Irvine', 'UC Riverside', 'UC Santa Barb.', 'UC Santa Barbara', 'UCF', 'UCLA', 'UConn', 'UIC', 'UMBC', 'UMES', 'UMKC', 'UNC Asheville', 'UNC Greensboro', 'UNC Wilmington', 'UNCG', 'UNCW', 'UNI', 'UNLV', 'USC', 'UT Arlington ', 'UT Martin', 'UTEP', 'UTRGV', 'UTSA', 'University of the Southwest', 'Utah', 'Utah St.', 'Utah State', 'Utah Valley', 'VCU', 'VMI', 'Valparaiso', 'Vanderbilt', 'Vermont', 'Villanova', 'Virginia', 'Virginia Tech', 'Wagner', 'Wake Forest', 'Washington', 'Washington St.', 'Weber St.', 'Weber State', 'West Virginia', 'Western Caro.', 'Western Ill.', 'Western Illinois', 'Western Ky.', 'Western Mich.', 'Wichita St.', 'Wichita State', 'William & Mary', 'Winthrop', 'Wisconsin', 'Wofford', 'Wright St.', 'Wright State', 'Wyoming', 'Xavier', 'Yale', 'Youngstown St.']\n",
            "['A&M-Corpus Chris', 'Abilene Christian', 'Adams St.', 'Adrian', 'Air Force', 'Akron', 'Alabama', 'Alabama A&M', 'Alabama St.', 'Alabama State', 'Alas. Anchorage', 'Alaska-Anch.', 'Albany', 'Albany (NY)', 'Albany St. (GA)', 'Albion', 'Alcorn St.', 'Alcorn State', 'Alice Lloyd', 'Allen', 'Alma', 'American', 'Anderson (IN)', 'Anderson (SC)', 'Angelo St.', 'Angelo State', 'Antelope Valley', 'Appalachian St.', 'Aquinas', 'Arcadia', 'Arizona', 'Arizona Christian', 'Arizona St.', 'Ark.-Fort Smith', 'Ark.-Monticello', 'Ark.-Pine Bluff', 'Arkansas', 'Arkansas St.', 'Arkansas State', 'Arkansas Tech', 'Arlington Baptist', 'Army', 'Army West Point', 'Asbury', 'Aub.-Montgomery', 'Auburn', 'Austin', 'Austin Peay', 'Ave Maria', 'Averett', 'Avila', 'BYU', 'BYU-Hawaii', 'Bakersfield', 'Ball St.', 'Ball State', 'Baptist Bible (PA)', 'Baylor', 'Belmont', 'Belmont Abbey', 'Bemidji St.', 'Bemidji State', 'Benedictine Mesa', 'Berea', 'Bethany (WV)', 'Bethel (TN)', 'Bethel (Tenn.)', 'Bethesda Christian', 'Bethune-Cookman', 'Binghamton', 'Biola', 'Black Hills St.', 'Bloomsburg', 'Blue Mountain', 'Bluefield Col.', 'Bluefield St.', 'Bob Jones', 'Boise St.', 'Boise State', 'Boston College', 'Boston U.', 'Bowie St.', 'Bowling Green', 'Boyce', 'Bradley', 'Brescia', 'Brevard', 'Brewton Parker', 'Bridgewater ', 'Bridgewater (VA)', 'Bristol', 'Brown', 'Bryant', 'Bryn Athyn', 'Bucknell', 'Buena Vista', 'Buffalo', 'Butler', 'CCNY', 'CSU Bakersfield', 'CSU Dom. Hills', 'CSU Fullerton', 'CSU Stanislaus', 'CSUN', 'Cabrini', 'Cairn', 'Cal Baptist', 'Cal Lutheran', 'Cal Poly', 'Cal St. Dom. Hills', 'Cal St. East Bay', 'Cal St. Fullerton', 'Cal St. L.A.', 'Cal St. Monterey Bay', 'Cal St. Northridge', 'Cal St. San Marcos', 'California', 'California Merced', 'Caltech', 'Campbell', 'Campbellsville', 'Canisius', 'Carnegie Mellon', 'Carroll (MT)', 'Carver Bible', 'Catawba', 'Catholic', 'Cedarville', 'Cent. Conn. St.', 'Centenary (LA)', 'Centenary (La.)', 'Centenary (N.J.)', 'Centenary (NJ)', 'Central Ark.', 'Central Baptist', 'Central Conn. St.', 'Central Mich.', 'Central Penn', 'Central St. (OH)', 'Central State ', 'Central Wash.', 'Chadron St.', 'Chaminade', 'Champion Bapt.', 'Chapman', 'Charleston', 'Charleston So.', 'Charlotte', 'Chatham', 'Chattanooga', 'Chestnut Hill', 'Cheyney', 'Chicago St.', 'Chicago State', 'Chowan', 'Cin Clermont', 'Cincinnati', 'Cincinnati Christian', 'Citadel', 'Claflin', 'Clarion', 'Clemson', 'Cleveland St.', 'Cleveland State', 'Coastal Caro.', 'Coastal Ga.', 'Coe', 'Coker', 'Col. of Charleston', 'Col. of Idaho', 'Colgate', 'Colo. Christian', 'Colorado', 'Colorado Col.', 'Colorado Mesa', 'Colorado St.', 'Colorado State', 'Columbia', \"Columbia Int'l\", 'Columbia International', 'Conc. (Texas)', 'Concord', 'Concordia (MI)', 'Concordia (Mich.)', 'Concordia (NE)', 'Concordia (Neb.)', 'Concordia (OR)', 'Concordia College', 'Concordia-St. Paul', 'Coppin St.', 'Coppin State', 'Corban', 'Cornell', 'Cornell College', 'Covenant', 'Creighton', \"Crowley's Ridge\", 'Crown (MN)', 'Cumberland ', 'Cumberland (TN)', 'Curry', 'Dakota St.', 'Dallas', 'Dalton St.', 'Daniel Webster', 'Dartmouth', 'Davidson', 'Davis & Elkins', 'Dayton', 'DePaul', 'Dean College', 'Defiance', 'Delaware', 'Delaware St.', 'Delaware State', 'Denison', 'Denver', 'Detroit', 'Detroit Mercy', 'Dickinson State', 'Dillard', 'Dixie State', 'Doane', 'Dominican (Ill.)', 'Drake', 'Drexel', 'Dubuque', 'Duke', 'Duquesne', 'E. Texas Bapt.', 'Earlham', 'East Carolina', 'East Central', 'East Tenn. St.', 'East Tex. Baptist', 'East-West U.', 'East. Mennonite', 'Eastern', 'Eastern Ill.', 'Eastern Illinois', 'Eastern Kentucky', 'Eastern Ky.', 'Eastern Mich.', 'Eastern N.M.', 'Eastern Ore.', 'Eastern Oregon', 'Eastern Wash.', 'Ecclesia', 'Eckerd', 'Edward Waters', 'Elizabeth City St.', 'Elmira', 'Elms', 'Elon', 'Embry-Riddle (FL)', 'Emerson', 'Emmanuel (GA)', 'Emory', 'Emporia St.', 'Erskine', 'Eureka', 'Evansville', 'FDU-Florham', 'FGCU', 'FIU', 'Fairfield', \"Fairleigh D'son\", 'Fairleigh Dickinson', 'Farmingdale St.', 'Fayetteville St.', 'Ferris St.', 'Ferrum', 'Findlay', 'Fisher', 'Fisk', 'Fla. Atlantic', 'Fla. Christian', 'Fla. National', 'Florida', 'Florida A&M', 'Florida Atlantic', 'Florida Col.', 'Florida Mem.', 'Florida St.', 'Florida State', 'Florida Tech', 'Fontbonne', 'Fordham', 'Fort Hays St.', 'Fort Lewis', 'Fort Valley St.', 'Fort Wayne', 'Francis Marion', 'Franciscan', 'Fresno Pacific', 'Fresno St.', 'Fresno State', 'Frostburg St.', 'Frostburg State', 'Furman', 'Ga. Southern', 'Ga. Southwestern', 'Gallaudet', 'Gardner-Webb', 'Geneva', 'Geo. Washington', 'George Fox', 'George Mason', 'George Washington', 'Georgetown', 'Georgia', 'Georgia College', 'Georgia St.', 'Georgia State', 'Georgia Tech', 'Georgian Court', 'Glenville State', 'Goldey-Beacom', 'Gonzaga', 'Gordon', 'Goshen', 'Goucher', 'Grace (IN)', 'Grace Bible College', 'Grambling', 'Grand Canyon', 'Great Falls', 'Green Bay', 'Greensboro', 'Hampton', 'Hannibal-La Grange', 'Hardin-Simmons', 'Harding', 'Harris-Stowe', 'Hartford', 'Hartwick', 'Harvard', 'Haskell', 'Hawaii', 'Hawaii Hilo', 'Hawaii Pacific', 'Hawaii-Hilo', 'Heidelberg', 'Henderson St.', 'Hendrix', 'High Point', 'Hillsdale Baptist', 'Hiram', 'Hiwassee', 'Hofstra', 'Holy Cross', 'Holy Names', 'Hood', 'Houston', 'Houston Baptist', 'Howard', 'Howard Payne', 'Humboldt State', 'Huntingdon', 'Huston-Tillotson', 'IIT', 'IPFW', 'IUPUI', 'Idaho', 'Idaho St.', 'Idaho State', 'Ill.-Chicago', 'Ill.-Springfield', 'Illinois', 'Illinois St.', 'Illinois State', 'Illinois Tech', 'Incarnate Word', 'Ind.-South Bend', 'Indiana', 'Indiana St.', 'Indiana State', 'Indiana-Kokomo', 'Indiana-Northwest', 'Indianapolis', 'Iona', 'Iowa', 'Iowa St.', 'Iowa State', 'Jackson St.', 'Jackson State', 'Jacksonville', 'Jacksonville St.', 'James Madison', 'Jarvis Christian', 'John Brown', 'John Jay', 'John. & Wales (Colo.)', 'John. & Wales (N.C.)', 'John. & Wales (R.I.)', 'Johnson', 'Johnson & Wales (CO)', 'Johnson & Wales (NC)', 'Johnson & Wales (RI)', 'Judson', 'Kansas', 'Kansas St.', 'Kean', 'Kennesaw St.', 'Kennesaw State', 'Kent St.', 'Kent State', 'Kentucky', 'Kentucky St.', 'Kentucky Wesleyan', 'Kenyon', 'Keystone', 'Ky. Christian', 'Ky. Wesleyan', 'LIFE Pacific', 'LIU Brooklyn', 'LMU', 'LSU', 'LSU Shreveport', 'LSU-Alexandria', 'La Roche', 'La Salle', 'La Verne', 'La.-Monroe', 'LaGrange', 'Lafayette', 'Lake Erie', 'Lakeland', 'Lamar', 'Lamar University', 'Lander', 'Le Moyne', 'LeMoyne-Owen', 'LeTourneau', 'Lebanon Valley', 'Lees-McRae', 'Lehigh', 'Lenoir-Rhyne', 'Lesley', 'Lewis', 'Lewis & Clark', 'Liberty', 'Limestone', 'Lincoln (MO)', 'Lincoln (PA)', 'Lincoln (Pa.)', 'Lindenwood', 'Linfield', 'Lipscomb', 'Little Rock', 'Long Beach St.', 'Long Island', 'Longwood', 'Louisiana', 'Louisiana Col.', 'Louisiana Coll.', 'Louisiana Tech', 'Louisville', 'Lourdes', 'Loyola (IL)', 'Loyola (LA)', 'Loyola (La.)', 'Loyola (Md.)', 'Loyola Chicago', 'Loyola Maryland', 'Loyola Marymount', 'Lynchburg', 'Lyndon St.', 'Lyndon State', 'Lyon', 'MIT', 'Madonna', 'Maine', 'Maine-Fort Kent', 'Malone', 'Manchester', 'Manhattan', 'Manhattanville', 'Mansfield', 'Marian (Ind.)', 'Marist', 'Marquette', 'Mars Hill', 'Marshall', 'Mary', 'Mary Washington', 'Marygrove', 'Maryland', 'Maryville (MO)', 'Marywood', 'Mass.-Boston', 'Mass.-Lowell', 'Massachusetts', \"Master's\", 'Mayville St.', 'Mayville State', 'McGill', 'McKendree', 'McMurry', 'McNeese ', 'McNeese St.', 'McPherson', 'Md.-East. Shore', 'Me.-Presque Isle', 'Medaille', 'Medgar Evers', 'Memphis', 'Menlo', 'Mercer', 'Merchant Marine', 'Mercy', 'Messiah', 'Methodist', 'Miami (FL)', 'Miami (Fla.)', 'Miami (OH)', 'Miami (Ohio)', 'Mich. St. ', 'Michigan', 'Michigan St.', 'Michigan-Dearborn', 'Mid-Atlantic Christ.', 'Middle Ga. St.', 'Middle Tenn.', 'Miles', 'Millersville', 'Milligan', 'Millsaps', 'Milwaukee', 'Milwaukee Engr.', 'Minn. Duluth', 'Minn.-Crookston', 'Minn.-Morris', 'Minnesota', 'Minnesota-Morris', 'Misericordia', 'Mississippi', 'Mississippi Col.', 'Mississippi Coll.', 'Mississippi St.', 'Mississippi Val.', 'Missouri', 'Missouri S&T', 'Missouri St.', 'Missouri State', 'Missouri Valley', 'Mitchell', 'Mo. Southern St.', 'Mo. Western St.', 'Mo.-St. Louis', 'Mobile', 'Molloy', 'Monmouth', 'Montana', 'Montana St.', 'Montana Tech', 'Montana-Western', 'Montreat', 'Moravian', 'Morehead St.', 'Morehead State', 'Morehouse', 'Morgan St.', 'Morgan State', 'Morris', 'Mount Aloysius', 'Mt. St. Joseph', 'Mt. St. Mary (NY)', \"Mt. St. Mary's\", 'Mt. St. Vincent', 'Multnomah Bible', 'Murray St.', 'Murray State', 'Muskingum', \"N'west Nazarene\", \"N'western Ohio\", \"N'western St.\", 'N.C. A&T', 'N.C. Central', 'N.C. Wesleyan', 'N.M. Highlands', 'NC State', 'NJIT', 'NW Christian', 'NYIT', 'Navy', 'Nazareth', 'Neb. Omaha', 'Nebraska', 'Nevada', 'New Hampshire', 'New Hope Christian', 'New Mexico', 'New Mexico St.', 'New Orleans', 'Newberry', 'Newbury', 'Niagara', 'Nicholls St.', 'Nicholls State', 'No. New Mexico', 'Norfolk St.', 'Norfolk State', 'North Alabama', 'North Carolina', 'North Carolina St.', 'North Dakota', 'North Dakota St.', 'North Florida', 'North Ga.', 'North Greenville', 'North Park', 'North Texas', 'Northeastern', 'Northeastern St.', 'Northern Ariz.', 'Northern Colo.', 'Northern Ill.', 'Northern Kentucky', 'Northern Ky.', 'Northern Mich.', 'Northland', 'Northwest (WA)', 'Northwest (Wash.)', 'Northwest Indian', 'Northwest Nazarene', 'Northwestern', 'Northwestern Ohio', 'Northwestern St.', 'Northwood (MI)', 'Notre Dame', 'Notre Dame (OH)', 'Notre Dame (Ohio)', 'Notre Dame de Namur', 'Oak Hills Christian', 'Oakland', 'Oakland City', 'Oakwood', 'Oberlin', 'Oglethorpe', 'Ohio', 'Ohio Christian', 'Ohio Dominican', 'Ohio Northern', 'Ohio St.', 'Ohio St. ', 'Ohio Valley', 'Okla. Baptist', 'Okla. Panhandle', 'Oklahoma', 'Oklahoma St.', 'Oklahoma State', 'Old Dominion', 'Ole Miss', 'Olivet', 'Olivet Nazarene', 'Omaha', 'Oneonta St.', 'Oral Roberts', 'Oregon', 'Oregon St.', 'Oregon Tech', 'Ottawa', 'Ouachita Baptist', 'Our Lady Of The Lake', 'Ozarks ', 'Ozarks (AR)', 'Pacific', 'Pacific Lutheran', 'Pacific Union', 'Paine', 'Palm Beach Atl.', 'Paul Quinn', 'Peace', 'Penn', 'Penn St.', 'Penn St.-Harrisburg', 'Pensacola Christian', 'Pepperdine', 'Pfeiffer', 'Phila. Biblical', 'Piedmont', \"Piedmont Int'l\", 'Pine Manor', 'Pitt.-Bradford', 'Pittsburgh', 'Point Loma', 'Point U.', 'Pomona-Pitzer', 'Portland', 'Portland St.', 'Portland State', 'Prairie View', 'Prairie View A&M', 'Presbyterian', 'Presentation', 'Princeton', 'Providence', 'Puget Sound', 'Purdue', 'Purdue-Calumet', 'Purdue-North Cent.', 'Queens (N.Y.)', 'Queens (NY)', 'Quincy', 'Quinnipiac', 'Radford', 'Randolph', 'Regis (CO)', 'Reinhardt', 'Rhode Island', 'Rice', 'Richmond', 'Rider', 'Rio Grande', 'Rivier', 'Roanoke', 'Robert Morris', 'Rochester (MI)', 'Rochester (Mich.)', 'Rockford', 'Rockhurst', 'Rocky Mountain', 'Rogers St.', 'Roosevelt', 'Rosemont', 'Rowan', 'Rust', 'Rutgers', 'Rutgers-Newark', \"S'eastern Okla.\", \"S'west Minn. St.\", \"S'western (Texas)\", 'S. Carolina St.', 'S.C. Upstate', 'SFA', 'SIU Edwardsville', 'SIUE', 'SMU', 'SUNY Maritime', 'SUNY Oneonta', 'Sacramento St.', 'Sacred Heart', \"Saint Joseph's\", 'Saint Leo', 'Saint Louis', \"Salem Int'l\", 'Salve Regina', 'Sam Houston St.', 'Samford', 'San Diego', 'San Diego Christian', 'San Diego St.', 'San Diego State', 'San Fran. St.', 'San Francisco', 'San Jose St.', 'San Jose State', 'Santa Clara', 'Sarah Lawrence', 'Savannah St.', 'Savannah State', 'Schreiner', 'Seattle', 'Seattle U', 'Selma', 'Seton Hall', 'Seton Hill', 'Sewanee', 'Shenandoah', 'Siena', 'Siena Heights', 'Silver Lake', 'Simon Fraser', 'Simpson', 'Simpson (CA)', 'Skidmore', 'Sonoma St.', 'Sonoma State', 'South Ala.', 'South Alabama', 'South Carolina', 'South Carolina St.', 'South Dakota', 'South Dakota Mines', 'South Dakota St.', 'South Fla.', 'South Florida', 'Southeast Mo. St.', 'Southeastern La.', 'Southeastern Okla.', 'Southern California', 'Southern Ill.', 'Southern Miss', 'Southern Miss.', 'Southern Nazarene', 'Southern Ore.', 'Southern U.', 'Southern Univ.', 'Southern Utah', 'Southern Va.', 'Southern Wesleyan', 'Southern-N.O.', 'Southwestern (TX)', 'Spalding', 'Spring Arbor', 'Spring Hill', 'St. Ambrose', 'St. Andrews', 'St. Bonaventure', 'St. Catharine', \"St. Edward's\", \"St. Francis (B'klyn)\", 'St. Francis (IL)', 'St. Francis (Ill.)', 'St. Francis (NY)', 'St. Francis (PA)', 'St. Francis (Pa.)', \"St. John's \", \"St. John's (NY)\", 'St. Jos. (Brkln.)', \"St. Joseph's (IN)\", \"St. Martin's\", \"St. Mary's (CA)\", \"St. Mary's (Cal.)\", \"St. Mary's (MD)\", \"St. Mary's (MN)\", \"St. Mary's (Md.)\", \"St. Mary's (TX)\", \"St. Mary's (Texas)\", \"St. Peter's\", 'St. Thomas (MN)', 'Stanford', 'Staten Island', 'Stephen F. Austin', 'Stetson', 'Stockton', 'Stony Brook', 'Sul Ross St.', 'Susquehanna', 'Syracuse', 'TCU', 'Tabor', 'Tampa', 'Temple', 'Tenn. Wesleyan', 'Tennessee', 'Tennessee St.', 'Tennessee State', 'Tennessee Tech', \"Tex. A&M Int'l\", 'Tex. A&M-Kingsville', 'Tex. Permian Basin', 'Texas', 'Texas A&M', 'Texas A&M-C.C.', 'Texas A&M-Comm.', \"Texas A&M-Int'l\", 'Texas College', 'Texas Lutheran', 'Texas Southern', 'Texas St.', 'Texas State', 'Texas Tech', 'Texas Wesleyan', 'Texas-Arlington', 'Texas-Dallas', 'Texas-Tyler', 'Thiel', 'Thomas (GA)', 'Thomas More', 'Tiffin', 'Toccoa Falls', 'Toledo', 'Tougaloo', 'Towson', 'Trevecca Nazarene', 'Trinity (FL)', 'Trinity (TX)', 'Trinity (Texas)', 'Trinity Baptist', 'Trinity Christian', \"Trinity Int'l\", 'Troy', 'Truett-McConnell', 'Truman', 'Tulane', 'Tulsa', 'Tusculum', 'Tuskegee', 'UAB', 'UALR', 'UC Davis', 'UC Irvine', 'UC Riverside', 'UC San Diego', 'UC Santa Barb.', 'UC Santa Barbara', 'UC Santa Cruz', 'UCF', 'UCLA', 'UConn', 'UIC', 'UMBC', 'UMES', 'UMKC', 'UNC Asheville', 'UNC Greensboro', 'UNC Wilmington', 'UNCG', 'UNCW', 'UNI', 'UNLV', 'USC', 'UT Arlington ', 'UT Martin', 'UT Permian Basin', 'UT Tyler', 'UTEP', 'UTRGV', 'UTSA', 'UVa-Wise', 'Union (NY)', 'Union (TN)', 'University of the Southwest', 'Urbana', 'Urbana University', 'Ursinus', 'Utah', 'Utah St.', 'Utah State', 'Utah Valley', 'Utica', 'VCU', 'VMI', 'Valley City St.', 'Valley Forge Chrst.', 'Valparaiso', 'Vanderbilt', 'Vanguard', 'Vermont', 'Villanova', 'Virginia', 'Virginia Tech', 'Voorhees', 'Wabash', 'Wagner', 'Wake Forest', 'Waldorf', 'Walla Walla', 'Warner Southern', 'Warren Wilson', 'Wartburg', 'Wash. & Lee', 'Wash. Advent.', 'Washington', 'Washington (Md.)', 'Washington Adventist', 'Washington Col.', 'Washington St.', 'Wayland Baptist', 'Wayne St. (NE)', \"Webber Int'l\", 'Weber St.', 'Weber State', 'Wentworth', 'Wesley', 'West Alabama', 'West Coast Baptist', 'West Va. Tech', 'West Va. Wesleyan', 'West Virginia', 'Western Caro.', 'Western Ill.', 'Western Illinois', 'Western Ky.', 'Western Mich.', 'Western N.M.', 'Western New Eng.', 'Western Ore.', 'Western St.', 'Western State', 'Westmin. (Pa.)', 'Westmin. (Utah)', 'Westminster (MO)', 'Westminster (PA)', 'Wheaton (MA)', 'Wheelock', 'Whittier', 'Whitworth', 'Wichita St.', 'Wichita State', 'Widener', 'Wilberforce', 'Wiley', 'Willamette', 'William & Mary', 'William Carey', 'William Jessup', 'William Jewell', 'William Woods', 'Williams Baptist', 'Wilmington (DE)', 'Wilmington (Del.)', 'Wilmington (Ohio)', 'Wilson', 'Winthrop', 'Wis.-La Crosse', 'Wis.-Parkside', 'Wis.-Superior', 'Wisconsin', 'Wofford', 'Worcester St.', 'Wright St.', 'Wright State', 'Wyoming', 'Xavier', 'Xavier (LA)', 'Yale', 'York (NE)', 'York (PA)', 'Youngstown St.', 'nan']\n"
          ],
          "name": "stdout"
        }
      ]
    },
    {
      "cell_type": "markdown",
      "metadata": {
        "id": "shUqFgzEPzdk",
        "colab_type": "text"
      },
      "source": [
        "2.2 text normalzation"
      ]
    },
    {
      "cell_type": "code",
      "metadata": {
        "id": "DKKN6khcPyY0",
        "colab_type": "code",
        "colab": {
          "base_uri": "https://localhost:8080/",
          "height": 91
        },
        "outputId": "f11c0f8e-56c0-4938-f34b-0b0bb32434e3"
      },
      "source": [
        "import re\n",
        "import string\n",
        "punctuation_table = str.maketrans('','',string.punctuation)\n",
        "dfteams.team=dfteams.team.apply(lambda x:str(x).strip().translate(punctuation_table))\n",
        "dfgames.home_team=dfgames.home_team.apply(lambda x:str(x).strip().translate(punctuation_table))\n",
        "dfgames.away_team=dfgames.away_team.apply(lambda x:str(x).strip().translate(punctuation_table))\n",
        "\n",
        "print(sorted(dfteams.team.unique()))\n",
        "print(sorted(dfgames.home_team.unique()))\n",
        "print(sorted(dfgames.away_team.unique()))\n"
      ],
      "execution_count": 5,
      "outputs": [
        {
          "output_type": "stream",
          "text": [
            "['Abilene Christian', 'Air Force', 'Akron', 'Alabama', 'Alabama AM', 'Alabama State', 'Albany', 'Alcorn State', 'American University', 'Appalachian State', 'Arizona', 'Arizona State', 'Arkansas', 'Arkansas State', 'ArkansasLittle Rock', 'ArkansasPine Bluff', 'Army', 'Auburn', 'Austin Peay', 'BYU', 'Ball State', 'Baylor', 'Belmont', 'BethuneCookman', 'Binghamton', 'Boise State', 'Boston College', 'Boston University', 'Bowling Green', 'Bradley', 'Brown', 'Bryant University', 'Bucknell', 'Buffalo', 'Butler', 'Cal Poly', 'Cal State Bakersfield', 'Cal State Fullerton', 'Cal State Northridge', 'California', 'California Baptist', 'Campbell', 'Canisius', 'Central Arkansas', 'Central Connecticut State', 'Central Michigan', 'Charleston', 'Charleston Southern', 'Charlotte', 'Chattanooga', 'Chicago State', 'Cincinnati', 'Citadel', 'Clemson', 'Cleveland State', 'Coastal Carolina', 'Colgate', 'Colorado', 'Colorado State', 'Columbia', 'Connecticut', 'Coppin State', 'Cornell', 'Creighton', 'Dartmouth', 'Davidson', 'Dayton', 'DePaul', 'Delaware', 'Delaware State', 'Denver', 'Detroit Mercy', 'Drake', 'Drexel', 'Duke', 'Duquesne', 'East Carolina', 'East Tennessee State', 'Eastern Illinois', 'Eastern Kentucky', 'Eastern Michigan', 'Eastern Washington', 'Elon', 'Evansville', 'Fairfield', 'Fairleigh Dickinson', 'Florida', 'Florida AM', 'Florida Atlantic', 'Florida Gulf Coast', 'Florida International', 'Florida State', 'Fordham', 'Fresno State', 'Furman', 'GardnerWebb', 'George Mason', 'George Washington', 'Georgetown', 'Georgia', 'Georgia Southern', 'Georgia State', 'Georgia Tech', 'Gonzaga', 'Grambling State', 'Grand Canyon', 'Green Bay', 'Hampton', 'Hartford', 'Harvard', 'Hawaii', 'High Point', 'Hofstra', 'Holy Cross', 'Houston', 'Houston Baptist', 'Howard', 'IUPUI', 'Idaho', 'Idaho State', 'Illinois', 'Illinois State', 'IllinoisChicago', 'Incarnate Word', 'Indiana', 'Indiana State', 'Iona', 'Iowa', 'Iowa State', 'Jackson State', 'Jacksonville', 'Jacksonville State', 'James Madison', 'Kansas', 'Kansas State', 'Kennesaw State', 'Kent State', 'Kentucky', 'LIU Brooklyn', 'LSU', 'La Salle', 'Lafayette', 'Lamar', 'Lehigh', 'Liberty', 'Lipscomb', 'Long Beach State', 'Longwood', 'Louisiana Tech', 'LouisianaLafayette', 'LouisianaMonroe', 'Louisville', 'Loyola IL', 'Loyola MD', 'Loyola Marymount', 'Maine', 'Manhattan', 'Marist', 'Marquette', 'Marshall', 'Maryland', 'MarylandEastern Shore', 'Massachusetts', 'MassachusettsLowell', 'McNeese State', 'Memphis', 'Mercer', 'Miami FL', 'Miami OH', 'Michigan', 'Michigan State', 'Middle Tennessee', 'Milwaukee', 'Minnesota', 'Mississippi State', 'Mississippi Valley State', 'Missouri', 'Missouri State', 'Monmouth', 'Montana', 'Montana State', 'Morehead State', 'Morgan State', 'Mount St Marys', 'Murray State', 'NJIT', 'Navy', 'Nebraska', 'NebraskaOmaha', 'Nevada', 'New Hampshire', 'New Mexico', 'New Mexico State', 'New Orleans', 'Niagara', 'Nicholls State', 'Norfolk State', 'North Alabama', 'North Carolina', 'North Carolina AT', 'North Carolina Central', 'North Carolina State', 'North CarolinaWilmington', 'North Dakota', 'North Dakota State', 'North Florida', 'North Texas', 'Northeastern', 'Northern Arizona', 'Northern Colorado', 'Northern Illinois', 'Northern Iowa', 'Northern Kentucky', 'Northwestern', 'Northwestern State', 'Notre Dame', 'Oakland', 'Ohio', 'Ohio State', 'Oklahoma', 'Oklahoma State', 'Old Dominion', 'Ole Miss', 'Oral Roberts', 'Oregon', 'Oregon State', 'Pacific', 'Penn State', 'Pennsylvania', 'Pepperdine', 'Pittsburgh', 'Portland', 'Portland State', 'Prairie View AM', 'Presbyterian', 'Princeton', 'Providence', 'Purdue', 'Purdue Fort Wayne', 'Quinnipiac', 'Radford', 'Rhode Island', 'Rice', 'Richmond', 'Rider', 'Robert Morris', 'Rutgers', 'SIUEdwardsville', 'SMU', 'Sacramento State', 'Sacred Heart', 'Saint Josephs PA', 'Saint Louis', 'Saint Marys', 'Sam Houston State', 'Samford', 'San Diego', 'San Diego State', 'San Francisco', 'San Jose State', 'Santa Clara', 'Savannah State', 'Seattle', 'Seton Hall', 'Siena', 'South Alabama', 'South Carolina', 'South Carolina State', 'South Dakota', 'South Dakota State', 'South Florida', 'Southeast Missouri State', 'Southeastern Louisiana', 'Southern Illinois', 'Southern Miss', 'Southern University', 'Southern Utah', 'St Bonaventure', 'St Francis BKN', 'St Francis PA', 'St Johns', 'St Peters', 'Stanford', 'Stephen F Austin', 'Stetson', 'Stony Brook', 'Syracuse', 'TCU', 'Temple', 'Tennessee', 'Tennessee State', 'Tennessee Tech', 'TennesseeMartin', 'Texas', 'Texas AM', 'Texas AMCC', 'Texas Rio Grande Valley', 'Texas Southern', 'Texas State', 'Texas Tech', 'TexasArlington', 'Toledo', 'Towson', 'Troy', 'Tulane', 'Tulsa', 'UAB', 'UC Davis', 'UC Irvine', 'UC Riverside', 'UC Santa Barbara', 'UCF', 'UCLA', 'UMBC', 'UMKC', 'UNC Asheville', 'UNC Greensboro', 'UNLV', 'USC', 'USC Upstate', 'UTEP', 'UTSA', 'Utah', 'Utah State', 'Utah Valley', 'Valparaiso', 'Vanderbilt', 'Vermont', 'Villanova', 'Virginia', 'Virginia Commonwealth', 'Virginia Military', 'Virginia Tech', 'Wagner', 'Wake Forest', 'Washington', 'Washington State', 'Weber State', 'West Virginia', 'Western Carolina', 'Western Illinois', 'Western Kentucky', 'Western Michigan', 'Wichita State', 'William  Mary', 'Winthrop', 'Wisconsin', 'Wofford', 'Wright State', 'Wyoming', 'Xavier', 'Yale', 'Youngstown State']\n",
            "['AMCorpus Chris', 'Abilene Christian', 'Air Force', 'Akron', 'Alabama', 'Alabama AM', 'Alabama St', 'Alabama State', 'Alas Anchorage', 'Albany', 'Albany NY', 'Alcorn St', 'Alcorn State', 'American', 'Appalachian St', 'Arizona', 'Arizona St', 'ArkPine Bluff', 'Arkansas', 'Arkansas St', 'Arkansas State', 'Army', 'Army West Point', 'Auburn', 'Austin Peay', 'Ave Maria', 'BYU', 'Bakersfield', 'Ball St', 'Ball State', 'Baylor', 'Belmont', 'BethuneCookman', 'Binghamton', 'Boise St', 'Boise State', 'Boston College', 'Boston U', 'Bowling Green', 'Bradley', 'Brown', 'Bryant', 'Bucknell', 'Buffalo', 'Butler', 'CSU Bakersfield', 'CSU Fullerton', 'CSUN', 'Cal Baptist', 'Cal Poly', 'Cal St Fullerton', 'Cal St Northridge', 'California', 'Campbell', 'Canisius', 'Cent Conn St', 'Centenary LA', 'Central Ark', 'Central Conn St', 'Central Mich', 'Chaminade', 'Charleston', 'Charleston So', 'Charlotte', 'Chattanooga', 'Chicago St', 'Chicago State', 'Cincinnati', 'Citadel', 'Clemson', 'Cleveland St', 'Cleveland State', 'Coastal Caro', 'Col of Charleston', 'Colgate', 'Colorado', 'Colorado St', 'Colorado State', 'Columbia', 'Coppin St', 'Coppin State', 'Cornell', 'Creighton', 'Dartmouth', 'Davidson', 'Dayton', 'DePaul', 'Delaware', 'Delaware St', 'Delaware State', 'Denver', 'Detroit', 'Detroit Mercy', 'Drake', 'Drexel', 'Duke', 'Duquesne', 'East Carolina', 'East Tenn St', 'Eastern Ill', 'Eastern Illinois', 'Eastern Kentucky', 'Eastern Ky', 'Eastern Mich', 'Eastern Wash', 'Elon', 'Evansville', 'FGCU', 'FIU', 'Fairfield', 'Fairleigh Dickinson', 'Fairleigh Dson', 'Fla Atlantic', 'Florida', 'Florida AM', 'Florida Atlantic', 'Florida St', 'Florida State', 'Fordham', 'Fort Wayne', 'Fresno St', 'Fresno State', 'Furman', 'Ga Southern', 'GardnerWebb', 'Geo Washington', 'George Mason', 'George Washington', 'Georgetown', 'Georgia', 'Georgia St', 'Georgia State', 'Georgia Tech', 'Gonzaga', 'Grambling', 'Grand Canyon', 'Green Bay', 'Hampton', 'Hartford', 'Harvard', 'Hawaii', 'High Point', 'Hofstra', 'Holy Cross', 'Houston', 'Houston Baptist', 'Howard', 'Humboldt State', 'IPFW', 'IUPUI', 'Idaho', 'Idaho St', 'Idaho State', 'IllChicago', 'Illinois', 'Illinois St', 'Illinois State', 'Incarnate Word', 'Indiana', 'Indiana St', 'Indiana State', 'Iona', 'Iowa', 'Iowa St', 'Iowa State', 'Jackson St', 'Jackson State', 'Jacksonville', 'Jacksonville St', 'James Madison', 'Kansas', 'Kansas St', 'Kennesaw St', 'Kennesaw State', 'Kent St', 'Kent State', 'Kentucky', 'LIU Brooklyn', 'LMU', 'LSU', 'LSU Shreveport', 'La Salle', 'LaMonroe', 'Lafayette', 'Lamar', 'Lamar University', 'Lehigh', 'Liberty', 'Lipscomb', 'Little Rock', 'Long Beach St', 'Long Island', 'Longwood', 'Louisiana', 'Louisiana Tech', 'Louisville', 'Loyola Chicago', 'Loyola IL', 'Loyola Maryland', 'Loyola Marymount', 'Loyola Md', 'Maine', 'Manhattan', 'Marist', 'Marquette', 'Marshall', 'Maryland', 'MassLowell', 'Massachusetts', 'McNeese', 'McNeese St', 'MdEast Shore', 'Memphis', 'Mercer', 'Miami FL', 'Miami Fla', 'Miami OH', 'Miami Ohio', 'Mich St', 'Michigan', 'Michigan St', 'MidAtlantic Christ', 'Middle Tenn', 'Milwaukee', 'Minnesota', 'Mississippi', 'Mississippi St', 'Mississippi Val', 'Missouri', 'Missouri St', 'Missouri State', 'Monmouth', 'Montana', 'Montana St', 'Morehead St', 'Morehead State', 'Morgan St', 'Morgan State', 'Mt St Marys', 'Murray St', 'Murray State', 'NC AT', 'NC Central', 'NC State', 'NJIT', 'Navy', 'Neb Omaha', 'Nebraska', 'Nevada', 'New Hampshire', 'New Mexico', 'New Mexico St', 'New Orleans', 'Niagara', 'Nicholls St', 'Nicholls State', 'Norfolk St', 'Norfolk State', 'North Alabama', 'North Carolina', 'North Carolina St', 'North Dakota', 'North Dakota St', 'North Florida', 'North Texas', 'Northeastern', 'Northern Ariz', 'Northern Colo', 'Northern Ill', 'Northern Kentucky', 'Northern Ky', 'Northwestern', 'Northwestern St', 'Notre Dame', 'Nwestern St', 'Oakland', 'Ohio', 'Ohio St', 'Oklahoma', 'Oklahoma St', 'Oklahoma State', 'Old Dominion', 'Ole Miss', 'Omaha', 'Oral Roberts', 'Oregon', 'Oregon St', 'Pacific', 'Penn', 'Penn St', 'Pepperdine', 'Pittsburgh', 'Portland', 'Portland St', 'Portland State', 'Prairie View', 'Prairie View AM', 'Presbyterian', 'Princeton', 'Providence', 'Purdue', 'Quinnipiac', 'Radford', 'Rhode Island', 'Rice', 'Richmond', 'Rider', 'Robert Morris', 'Rowan', 'Rutgers', 'S Carolina St', 'SC Upstate', 'SFA', 'SIU Edwardsville', 'SIUE', 'SMU', 'Sacramento St', 'Sacred Heart', 'Saint Josephs', 'Saint Louis', 'Sam Houston St', 'Samford', 'San Diego', 'San Diego St', 'San Diego State', 'San Francisco', 'San Jose St', 'San Jose State', 'Santa Clara', 'Savannah St', 'Savannah State', 'Seattle', 'Seattle U', 'Seton Hall', 'Siena', 'South Ala', 'South Alabama', 'South Carolina', 'South Carolina St', 'South Dakota', 'South Dakota St', 'South Fla', 'South Florida', 'Southeast Mo St', 'Southeastern La', 'Southern California', 'Southern Ill', 'Southern Miss', 'Southern U', 'Southern Univ', 'Southern Utah', 'St Bonaventure', 'St Francis Bklyn', 'St Francis NY', 'St Francis PA', 'St Francis Pa', 'St Johns', 'St Johns NY', 'St Marys CA', 'St Marys Cal', 'St Peters', 'Stanford', 'Stephen F Austin', 'Stetson', 'Stony Brook', 'Syracuse', 'TCU', 'Temple', 'Tennessee', 'Tennessee St', 'Tennessee State', 'Tennessee Tech', 'Texas', 'Texas AM', 'Texas AMCC', 'Texas Southern', 'Texas St', 'Texas State', 'Texas Tech', 'TexasArlington', 'Toledo', 'Towson', 'Troy', 'Tulane', 'Tulsa', 'UAB', 'UALR', 'UC Davis', 'UC Irvine', 'UC Riverside', 'UC Santa Barb', 'UC Santa Barbara', 'UCF', 'UCLA', 'UConn', 'UIC', 'UMBC', 'UMES', 'UMKC', 'UNC Asheville', 'UNC Greensboro', 'UNC Wilmington', 'UNCG', 'UNCW', 'UNI', 'UNLV', 'USC', 'UT Arlington', 'UT Martin', 'UTEP', 'UTRGV', 'UTSA', 'University of the Southwest', 'Utah', 'Utah St', 'Utah State', 'Utah Valley', 'VCU', 'VMI', 'Valparaiso', 'Vanderbilt', 'Vermont', 'Villanova', 'Virginia', 'Virginia Tech', 'Wagner', 'Wake Forest', 'Washington', 'Washington St', 'Weber St', 'Weber State', 'West Virginia', 'Western Caro', 'Western Ill', 'Western Illinois', 'Western Ky', 'Western Mich', 'Wichita St', 'Wichita State', 'William  Mary', 'Winthrop', 'Wisconsin', 'Wofford', 'Wright St', 'Wright State', 'Wyoming', 'Xavier', 'Yale', 'Youngstown St']\n",
            "['AMCorpus Chris', 'Abilene Christian', 'Adams St', 'Adrian', 'Air Force', 'Akron', 'Alabama', 'Alabama AM', 'Alabama St', 'Alabama State', 'Alas Anchorage', 'AlaskaAnch', 'Albany', 'Albany NY', 'Albany St GA', 'Albion', 'Alcorn St', 'Alcorn State', 'Alice Lloyd', 'Allen', 'Alma', 'American', 'Anderson IN', 'Anderson SC', 'Angelo St', 'Angelo State', 'Antelope Valley', 'Appalachian St', 'Aquinas', 'Arcadia', 'Arizona', 'Arizona Christian', 'Arizona St', 'ArkFort Smith', 'ArkMonticello', 'ArkPine Bluff', 'Arkansas', 'Arkansas St', 'Arkansas State', 'Arkansas Tech', 'Arlington Baptist', 'Army', 'Army West Point', 'Asbury', 'AubMontgomery', 'Auburn', 'Austin', 'Austin Peay', 'Ave Maria', 'Averett', 'Avila', 'BYU', 'BYUHawaii', 'Bakersfield', 'Ball St', 'Ball State', 'Baptist Bible PA', 'Baylor', 'Belmont', 'Belmont Abbey', 'Bemidji St', 'Bemidji State', 'Benedictine Mesa', 'Berea', 'Bethany WV', 'Bethel TN', 'Bethel Tenn', 'Bethesda Christian', 'BethuneCookman', 'Binghamton', 'Biola', 'Black Hills St', 'Bloomsburg', 'Blue Mountain', 'Bluefield Col', 'Bluefield St', 'Bob Jones', 'Boise St', 'Boise State', 'Boston College', 'Boston U', 'Bowie St', 'Bowling Green', 'Boyce', 'Bradley', 'Brescia', 'Brevard', 'Brewton Parker', 'Bridgewater', 'Bridgewater VA', 'Bristol', 'Brown', 'Bryant', 'Bryn Athyn', 'Bucknell', 'Buena Vista', 'Buffalo', 'Butler', 'CCNY', 'CSU Bakersfield', 'CSU Dom Hills', 'CSU Fullerton', 'CSU Stanislaus', 'CSUN', 'Cabrini', 'Cairn', 'Cal Baptist', 'Cal Lutheran', 'Cal Poly', 'Cal St Dom Hills', 'Cal St East Bay', 'Cal St Fullerton', 'Cal St LA', 'Cal St Monterey Bay', 'Cal St Northridge', 'Cal St San Marcos', 'California', 'California Merced', 'Caltech', 'Campbell', 'Campbellsville', 'Canisius', 'Carnegie Mellon', 'Carroll MT', 'Carver Bible', 'Catawba', 'Catholic', 'Cedarville', 'Cent Conn St', 'Centenary LA', 'Centenary La', 'Centenary NJ', 'Central Ark', 'Central Baptist', 'Central Conn St', 'Central Mich', 'Central Penn', 'Central St OH', 'Central State', 'Central Wash', 'Chadron St', 'Chaminade', 'Champion Bapt', 'Chapman', 'Charleston', 'Charleston So', 'Charlotte', 'Chatham', 'Chattanooga', 'Chestnut Hill', 'Cheyney', 'Chicago St', 'Chicago State', 'Chowan', 'Cin Clermont', 'Cincinnati', 'Cincinnati Christian', 'Citadel', 'Claflin', 'Clarion', 'Clemson', 'Cleveland St', 'Cleveland State', 'Coastal Caro', 'Coastal Ga', 'Coe', 'Coker', 'Col of Charleston', 'Col of Idaho', 'Colgate', 'Colo Christian', 'Colorado', 'Colorado Col', 'Colorado Mesa', 'Colorado St', 'Colorado State', 'Columbia', 'Columbia International', 'Columbia Intl', 'Conc Texas', 'Concord', 'Concordia College', 'Concordia MI', 'Concordia Mich', 'Concordia NE', 'Concordia Neb', 'Concordia OR', 'ConcordiaSt Paul', 'Coppin St', 'Coppin State', 'Corban', 'Cornell', 'Cornell College', 'Covenant', 'Creighton', 'Crowleys Ridge', 'Crown MN', 'Cumberland', 'Cumberland TN', 'Curry', 'Dakota St', 'Dallas', 'Dalton St', 'Daniel Webster', 'Dartmouth', 'Davidson', 'Davis  Elkins', 'Dayton', 'DePaul', 'Dean College', 'Defiance', 'Delaware', 'Delaware St', 'Delaware State', 'Denison', 'Denver', 'Detroit', 'Detroit Mercy', 'Dickinson State', 'Dillard', 'Dixie State', 'Doane', 'Dominican Ill', 'Drake', 'Drexel', 'Dubuque', 'Duke', 'Duquesne', 'E Texas Bapt', 'Earlham', 'East Carolina', 'East Central', 'East Mennonite', 'East Tenn St', 'East Tex Baptist', 'EastWest U', 'Eastern', 'Eastern Ill', 'Eastern Illinois', 'Eastern Kentucky', 'Eastern Ky', 'Eastern Mich', 'Eastern NM', 'Eastern Ore', 'Eastern Oregon', 'Eastern Wash', 'Ecclesia', 'Eckerd', 'Edward Waters', 'Elizabeth City St', 'Elmira', 'Elms', 'Elon', 'EmbryRiddle FL', 'Emerson', 'Emmanuel GA', 'Emory', 'Emporia St', 'Erskine', 'Eureka', 'Evansville', 'FDUFlorham', 'FGCU', 'FIU', 'Fairfield', 'Fairleigh Dickinson', 'Fairleigh Dson', 'Farmingdale St', 'Fayetteville St', 'Ferris St', 'Ferrum', 'Findlay', 'Fisher', 'Fisk', 'Fla Atlantic', 'Fla Christian', 'Fla National', 'Florida', 'Florida AM', 'Florida Atlantic', 'Florida Col', 'Florida Mem', 'Florida St', 'Florida State', 'Florida Tech', 'Fontbonne', 'Fordham', 'Fort Hays St', 'Fort Lewis', 'Fort Valley St', 'Fort Wayne', 'Francis Marion', 'Franciscan', 'Fresno Pacific', 'Fresno St', 'Fresno State', 'Frostburg St', 'Frostburg State', 'Furman', 'Ga Southern', 'Ga Southwestern', 'Gallaudet', 'GardnerWebb', 'Geneva', 'Geo Washington', 'George Fox', 'George Mason', 'George Washington', 'Georgetown', 'Georgia', 'Georgia College', 'Georgia St', 'Georgia State', 'Georgia Tech', 'Georgian Court', 'Glenville State', 'GoldeyBeacom', 'Gonzaga', 'Gordon', 'Goshen', 'Goucher', 'Grace Bible College', 'Grace IN', 'Grambling', 'Grand Canyon', 'Great Falls', 'Green Bay', 'Greensboro', 'Hampton', 'HannibalLa Grange', 'HardinSimmons', 'Harding', 'HarrisStowe', 'Hartford', 'Hartwick', 'Harvard', 'Haskell', 'Hawaii', 'Hawaii Hilo', 'Hawaii Pacific', 'HawaiiHilo', 'Heidelberg', 'Henderson St', 'Hendrix', 'High Point', 'Hillsdale Baptist', 'Hiram', 'Hiwassee', 'Hofstra', 'Holy Cross', 'Holy Names', 'Hood', 'Houston', 'Houston Baptist', 'Howard', 'Howard Payne', 'Humboldt State', 'Huntingdon', 'HustonTillotson', 'IIT', 'IPFW', 'IUPUI', 'Idaho', 'Idaho St', 'Idaho State', 'IllChicago', 'IllSpringfield', 'Illinois', 'Illinois St', 'Illinois State', 'Illinois Tech', 'Incarnate Word', 'IndSouth Bend', 'Indiana', 'Indiana St', 'Indiana State', 'IndianaKokomo', 'IndianaNorthwest', 'Indianapolis', 'Iona', 'Iowa', 'Iowa St', 'Iowa State', 'Jackson St', 'Jackson State', 'Jacksonville', 'Jacksonville St', 'James Madison', 'Jarvis Christian', 'John  Wales Colo', 'John  Wales NC', 'John  Wales RI', 'John Brown', 'John Jay', 'Johnson', 'Johnson  Wales CO', 'Johnson  Wales NC', 'Johnson  Wales RI', 'Judson', 'Kansas', 'Kansas St', 'Kean', 'Kennesaw St', 'Kennesaw State', 'Kent St', 'Kent State', 'Kentucky', 'Kentucky St', 'Kentucky Wesleyan', 'Kenyon', 'Keystone', 'Ky Christian', 'Ky Wesleyan', 'LIFE Pacific', 'LIU Brooklyn', 'LMU', 'LSU', 'LSU Shreveport', 'LSUAlexandria', 'La Roche', 'La Salle', 'La Verne', 'LaGrange', 'LaMonroe', 'Lafayette', 'Lake Erie', 'Lakeland', 'Lamar', 'Lamar University', 'Lander', 'Le Moyne', 'LeMoyneOwen', 'LeTourneau', 'Lebanon Valley', 'LeesMcRae', 'Lehigh', 'LenoirRhyne', 'Lesley', 'Lewis', 'Lewis  Clark', 'Liberty', 'Limestone', 'Lincoln MO', 'Lincoln PA', 'Lincoln Pa', 'Lindenwood', 'Linfield', 'Lipscomb', 'Little Rock', 'Long Beach St', 'Long Island', 'Longwood', 'Louisiana', 'Louisiana Col', 'Louisiana Coll', 'Louisiana Tech', 'Louisville', 'Lourdes', 'Loyola Chicago', 'Loyola IL', 'Loyola LA', 'Loyola La', 'Loyola Maryland', 'Loyola Marymount', 'Loyola Md', 'Lynchburg', 'Lyndon St', 'Lyndon State', 'Lyon', 'MIT', 'Madonna', 'Maine', 'MaineFort Kent', 'Malone', 'Manchester', 'Manhattan', 'Manhattanville', 'Mansfield', 'Marian Ind', 'Marist', 'Marquette', 'Mars Hill', 'Marshall', 'Mary', 'Mary Washington', 'Marygrove', 'Maryland', 'Maryville MO', 'Marywood', 'MassBoston', 'MassLowell', 'Massachusetts', 'Masters', 'Mayville St', 'Mayville State', 'McGill', 'McKendree', 'McMurry', 'McNeese', 'McNeese St', 'McPherson', 'MdEast Shore', 'MePresque Isle', 'Medaille', 'Medgar Evers', 'Memphis', 'Menlo', 'Mercer', 'Merchant Marine', 'Mercy', 'Messiah', 'Methodist', 'Miami FL', 'Miami Fla', 'Miami OH', 'Miami Ohio', 'Mich St', 'Michigan', 'Michigan St', 'MichiganDearborn', 'MidAtlantic Christ', 'Middle Ga St', 'Middle Tenn', 'Miles', 'Millersville', 'Milligan', 'Millsaps', 'Milwaukee', 'Milwaukee Engr', 'Minn Duluth', 'MinnCrookston', 'MinnMorris', 'Minnesota', 'MinnesotaMorris', 'Misericordia', 'Mississippi', 'Mississippi Col', 'Mississippi Coll', 'Mississippi St', 'Mississippi Val', 'Missouri', 'Missouri ST', 'Missouri St', 'Missouri State', 'Missouri Valley', 'Mitchell', 'Mo Southern St', 'Mo Western St', 'MoSt Louis', 'Mobile', 'Molloy', 'Monmouth', 'Montana', 'Montana St', 'Montana Tech', 'MontanaWestern', 'Montreat', 'Moravian', 'Morehead St', 'Morehead State', 'Morehouse', 'Morgan St', 'Morgan State', 'Morris', 'Mount Aloysius', 'Mt St Joseph', 'Mt St Mary NY', 'Mt St Marys', 'Mt St Vincent', 'Multnomah Bible', 'Murray St', 'Murray State', 'Muskingum', 'NC AT', 'NC Central', 'NC State', 'NC Wesleyan', 'NJIT', 'NM Highlands', 'NW Christian', 'NYIT', 'Navy', 'Nazareth', 'Neb Omaha', 'Nebraska', 'Nevada', 'New Hampshire', 'New Hope Christian', 'New Mexico', 'New Mexico St', 'New Orleans', 'Newberry', 'Newbury', 'Niagara', 'Nicholls St', 'Nicholls State', 'No New Mexico', 'Norfolk St', 'Norfolk State', 'North Alabama', 'North Carolina', 'North Carolina St', 'North Dakota', 'North Dakota St', 'North Florida', 'North Ga', 'North Greenville', 'North Park', 'North Texas', 'Northeastern', 'Northeastern St', 'Northern Ariz', 'Northern Colo', 'Northern Ill', 'Northern Kentucky', 'Northern Ky', 'Northern Mich', 'Northland', 'Northwest Indian', 'Northwest Nazarene', 'Northwest WA', 'Northwest Wash', 'Northwestern', 'Northwestern Ohio', 'Northwestern St', 'Northwood MI', 'Notre Dame', 'Notre Dame OH', 'Notre Dame Ohio', 'Notre Dame de Namur', 'Nwest Nazarene', 'Nwestern Ohio', 'Nwestern St', 'Oak Hills Christian', 'Oakland', 'Oakland City', 'Oakwood', 'Oberlin', 'Oglethorpe', 'Ohio', 'Ohio Christian', 'Ohio Dominican', 'Ohio Northern', 'Ohio St', 'Ohio Valley', 'Okla Baptist', 'Okla Panhandle', 'Oklahoma', 'Oklahoma St', 'Oklahoma State', 'Old Dominion', 'Ole Miss', 'Olivet', 'Olivet Nazarene', 'Omaha', 'Oneonta St', 'Oral Roberts', 'Oregon', 'Oregon St', 'Oregon Tech', 'Ottawa', 'Ouachita Baptist', 'Our Lady Of The Lake', 'Ozarks', 'Ozarks AR', 'Pacific', 'Pacific Lutheran', 'Pacific Union', 'Paine', 'Palm Beach Atl', 'Paul Quinn', 'Peace', 'Penn', 'Penn St', 'Penn StHarrisburg', 'Pensacola Christian', 'Pepperdine', 'Pfeiffer', 'Phila Biblical', 'Piedmont', 'Piedmont Intl', 'Pine Manor', 'PittBradford', 'Pittsburgh', 'Point Loma', 'Point U', 'PomonaPitzer', 'Portland', 'Portland St', 'Portland State', 'Prairie View', 'Prairie View AM', 'Presbyterian', 'Presentation', 'Princeton', 'Providence', 'Puget Sound', 'Purdue', 'PurdueCalumet', 'PurdueNorth Cent', 'Queens NY', 'Quincy', 'Quinnipiac', 'Radford', 'Randolph', 'Regis CO', 'Reinhardt', 'Rhode Island', 'Rice', 'Richmond', 'Rider', 'Rio Grande', 'Rivier', 'Roanoke', 'Robert Morris', 'Rochester MI', 'Rochester Mich', 'Rockford', 'Rockhurst', 'Rocky Mountain', 'Rogers St', 'Roosevelt', 'Rosemont', 'Rowan', 'Rust', 'Rutgers', 'RutgersNewark', 'S Carolina St', 'SC Upstate', 'SFA', 'SIU Edwardsville', 'SIUE', 'SMU', 'SUNY Maritime', 'SUNY Oneonta', 'Sacramento St', 'Sacred Heart', 'Saint Josephs', 'Saint Leo', 'Saint Louis', 'Salem Intl', 'Salve Regina', 'Sam Houston St', 'Samford', 'San Diego', 'San Diego Christian', 'San Diego St', 'San Diego State', 'San Fran St', 'San Francisco', 'San Jose St', 'San Jose State', 'Santa Clara', 'Sarah Lawrence', 'Savannah St', 'Savannah State', 'Schreiner', 'Seastern Okla', 'Seattle', 'Seattle U', 'Selma', 'Seton Hall', 'Seton Hill', 'Sewanee', 'Shenandoah', 'Siena', 'Siena Heights', 'Silver Lake', 'Simon Fraser', 'Simpson', 'Simpson CA', 'Skidmore', 'Sonoma St', 'Sonoma State', 'South Ala', 'South Alabama', 'South Carolina', 'South Carolina St', 'South Dakota', 'South Dakota Mines', 'South Dakota St', 'South Fla', 'South Florida', 'Southeast Mo St', 'Southeastern La', 'Southeastern Okla', 'Southern California', 'Southern Ill', 'Southern Miss', 'Southern Nazarene', 'Southern Ore', 'Southern U', 'Southern Univ', 'Southern Utah', 'Southern Va', 'Southern Wesleyan', 'SouthernNO', 'Southwestern TX', 'Spalding', 'Spring Arbor', 'Spring Hill', 'St Ambrose', 'St Andrews', 'St Bonaventure', 'St Catharine', 'St Edwards', 'St Francis Bklyn', 'St Francis IL', 'St Francis Ill', 'St Francis NY', 'St Francis PA', 'St Francis Pa', 'St Johns', 'St Johns NY', 'St Jos Brkln', 'St Josephs IN', 'St Martins', 'St Marys CA', 'St Marys Cal', 'St Marys MD', 'St Marys MN', 'St Marys Md', 'St Marys TX', 'St Marys Texas', 'St Peters', 'St Thomas MN', 'Stanford', 'Staten Island', 'Stephen F Austin', 'Stetson', 'Stockton', 'Stony Brook', 'Sul Ross St', 'Susquehanna', 'Swest Minn St', 'Swestern Texas', 'Syracuse', 'TCU', 'Tabor', 'Tampa', 'Temple', 'Tenn Wesleyan', 'Tennessee', 'Tennessee St', 'Tennessee State', 'Tennessee Tech', 'Tex AM Intl', 'Tex AMKingsville', 'Tex Permian Basin', 'Texas', 'Texas AM', 'Texas AMCC', 'Texas AMComm', 'Texas AMIntl', 'Texas College', 'Texas Lutheran', 'Texas Southern', 'Texas St', 'Texas State', 'Texas Tech', 'Texas Wesleyan', 'TexasArlington', 'TexasDallas', 'TexasTyler', 'Thiel', 'Thomas GA', 'Thomas More', 'Tiffin', 'Toccoa Falls', 'Toledo', 'Tougaloo', 'Towson', 'Trevecca Nazarene', 'Trinity Baptist', 'Trinity Christian', 'Trinity FL', 'Trinity Intl', 'Trinity TX', 'Trinity Texas', 'Troy', 'TruettMcConnell', 'Truman', 'Tulane', 'Tulsa', 'Tusculum', 'Tuskegee', 'UAB', 'UALR', 'UC Davis', 'UC Irvine', 'UC Riverside', 'UC San Diego', 'UC Santa Barb', 'UC Santa Barbara', 'UC Santa Cruz', 'UCF', 'UCLA', 'UConn', 'UIC', 'UMBC', 'UMES', 'UMKC', 'UNC Asheville', 'UNC Greensboro', 'UNC Wilmington', 'UNCG', 'UNCW', 'UNI', 'UNLV', 'USC', 'UT Arlington', 'UT Martin', 'UT Permian Basin', 'UT Tyler', 'UTEP', 'UTRGV', 'UTSA', 'UVaWise', 'Union NY', 'Union TN', 'University of the Southwest', 'Urbana', 'Urbana University', 'Ursinus', 'Utah', 'Utah St', 'Utah State', 'Utah Valley', 'Utica', 'VCU', 'VMI', 'Valley City St', 'Valley Forge Chrst', 'Valparaiso', 'Vanderbilt', 'Vanguard', 'Vermont', 'Villanova', 'Virginia', 'Virginia Tech', 'Voorhees', 'Wabash', 'Wagner', 'Wake Forest', 'Waldorf', 'Walla Walla', 'Warner Southern', 'Warren Wilson', 'Wartburg', 'Wash  Lee', 'Wash Advent', 'Washington', 'Washington Adventist', 'Washington Col', 'Washington Md', 'Washington St', 'Wayland Baptist', 'Wayne St NE', 'Webber Intl', 'Weber St', 'Weber State', 'Wentworth', 'Wesley', 'West Alabama', 'West Coast Baptist', 'West Va Tech', 'West Va Wesleyan', 'West Virginia', 'Western Caro', 'Western Ill', 'Western Illinois', 'Western Ky', 'Western Mich', 'Western NM', 'Western New Eng', 'Western Ore', 'Western St', 'Western State', 'Westmin Pa', 'Westmin Utah', 'Westminster MO', 'Westminster PA', 'Wheaton MA', 'Wheelock', 'Whittier', 'Whitworth', 'Wichita St', 'Wichita State', 'Widener', 'Wilberforce', 'Wiley', 'Willamette', 'William  Mary', 'William Carey', 'William Jessup', 'William Jewell', 'William Woods', 'Williams Baptist', 'Wilmington DE', 'Wilmington Del', 'Wilmington Ohio', 'Wilson', 'Winthrop', 'WisLa Crosse', 'WisParkside', 'WisSuperior', 'Wisconsin', 'Wofford', 'Worcester St', 'Wright St', 'Wright State', 'Wyoming', 'Xavier', 'Xavier LA', 'Yale', 'York NE', 'York PA', 'Youngstown St', 'nan']\n"
          ],
          "name": "stdout"
        }
      ]
    },
    {
      "cell_type": "markdown",
      "metadata": {
        "id": "FZVEixJBSJKt",
        "colab_type": "text"
      },
      "source": [
        "3 add calculated columns\n"
      ]
    },
    {
      "cell_type": "code",
      "metadata": {
        "id": "OGmDazXwUEt_",
        "colab_type": "code",
        "colab": {
          "base_uri": "https://localhost:8080/",
          "height": 424
        },
        "outputId": "218fc41c-c555-44ad-eaf8-efa879f09632"
      },
      "source": [
        "dfteams[\"home_points\"] = dfteams.team.apply(lambda row: dfgames.query(\"home_team=='\"+row+\"'\").home_score.sum())\n",
        "dfteams[\"away_points\"] = dfteams.team.apply(lambda row: dfgames.query(\"away_team=='\"+row+\"'\").away_score.sum())\n",
        "#dfteams[\"home_point_diff\"] = dfteams.team.apply(lambda row: dfgames.query(\"home_team=='\"+row+\"'\").apply(lambda x:x[\"home_score\"]-x[\"away_score\"]).sum())\n",
        "dfteams"
      ],
      "execution_count": 6,
      "outputs": [
        {
          "output_type": "execute_result",
          "data": {
            "text/html": [
              "<div>\n",
              "<style scoped>\n",
              "    .dataframe tbody tr th:only-of-type {\n",
              "        vertical-align: middle;\n",
              "    }\n",
              "\n",
              "    .dataframe tbody tr th {\n",
              "        vertical-align: top;\n",
              "    }\n",
              "\n",
              "    .dataframe thead th {\n",
              "        text-align: right;\n",
              "    }\n",
              "</style>\n",
              "<table border=\"1\" class=\"dataframe\">\n",
              "  <thead>\n",
              "    <tr style=\"text-align: right;\">\n",
              "      <th></th>\n",
              "      <th>ncaa_division</th>\n",
              "      <th>team</th>\n",
              "      <th>home_points</th>\n",
              "      <th>away_points</th>\n",
              "    </tr>\n",
              "  </thead>\n",
              "  <tbody>\n",
              "    <tr>\n",
              "      <th>0</th>\n",
              "      <td>America East</td>\n",
              "      <td>Vermont</td>\n",
              "      <td>4991</td>\n",
              "      <td>5103</td>\n",
              "    </tr>\n",
              "    <tr>\n",
              "      <th>1</th>\n",
              "      <td>America East</td>\n",
              "      <td>Stony Brook</td>\n",
              "      <td>4560</td>\n",
              "      <td>4400</td>\n",
              "    </tr>\n",
              "    <tr>\n",
              "      <th>2</th>\n",
              "      <td>America East</td>\n",
              "      <td>UMBC</td>\n",
              "      <td>4971</td>\n",
              "      <td>4792</td>\n",
              "    </tr>\n",
              "    <tr>\n",
              "      <th>3</th>\n",
              "      <td>America East</td>\n",
              "      <td>Hartford</td>\n",
              "      <td>4377</td>\n",
              "      <td>4765</td>\n",
              "    </tr>\n",
              "    <tr>\n",
              "      <th>4</th>\n",
              "      <td>America East</td>\n",
              "      <td>Albany</td>\n",
              "      <td>1016</td>\n",
              "      <td>1134</td>\n",
              "    </tr>\n",
              "    <tr>\n",
              "      <th>...</th>\n",
              "      <td>...</td>\n",
              "      <td>...</td>\n",
              "      <td>...</td>\n",
              "      <td>...</td>\n",
              "    </tr>\n",
              "    <tr>\n",
              "      <th>348</th>\n",
              "      <td>Western Athletic</td>\n",
              "      <td>California Baptist</td>\n",
              "      <td>0</td>\n",
              "      <td>0</td>\n",
              "    </tr>\n",
              "    <tr>\n",
              "      <th>349</th>\n",
              "      <td>Western Athletic</td>\n",
              "      <td>Cal State Bakersfield</td>\n",
              "      <td>0</td>\n",
              "      <td>0</td>\n",
              "    </tr>\n",
              "    <tr>\n",
              "      <th>350</th>\n",
              "      <td>Western Athletic</td>\n",
              "      <td>Seattle</td>\n",
              "      <td>4079</td>\n",
              "      <td>2471</td>\n",
              "    </tr>\n",
              "    <tr>\n",
              "      <th>351</th>\n",
              "      <td>Western Athletic</td>\n",
              "      <td>UMKC</td>\n",
              "      <td>4719</td>\n",
              "      <td>4521</td>\n",
              "    </tr>\n",
              "    <tr>\n",
              "      <th>352</th>\n",
              "      <td>Western Athletic</td>\n",
              "      <td>Chicago State</td>\n",
              "      <td>821</td>\n",
              "      <td>1149</td>\n",
              "    </tr>\n",
              "  </tbody>\n",
              "</table>\n",
              "<p>353 rows × 4 columns</p>\n",
              "</div>"
            ],
            "text/plain": [
              "        ncaa_division                   team  home_points  away_points\n",
              "0        America East                Vermont         4991         5103\n",
              "1        America East            Stony Brook         4560         4400\n",
              "2        America East                   UMBC         4971         4792\n",
              "3        America East               Hartford         4377         4765\n",
              "4        America East                 Albany         1016         1134\n",
              "..                ...                    ...          ...          ...\n",
              "348  Western Athletic     California Baptist            0            0\n",
              "349  Western Athletic  Cal State Bakersfield            0            0\n",
              "350  Western Athletic                Seattle         4079         2471\n",
              "351  Western Athletic                   UMKC         4719         4521\n",
              "352  Western Athletic          Chicago State          821         1149\n",
              "\n",
              "[353 rows x 4 columns]"
            ]
          },
          "metadata": {
            "tags": []
          },
          "execution_count": 6
        }
      ]
    },
    {
      "cell_type": "markdown",
      "metadata": {
        "id": "BS2bYs5Fc00d",
        "colab_type": "text"
      },
      "source": [
        "4 write csv"
      ]
    },
    {
      "cell_type": "code",
      "metadata": {
        "id": "bSYdo1Wac3Ks",
        "colab_type": "code",
        "colab": {}
      },
      "source": [
        "dfteams.to_csv('Games-Calculated.csv')"
      ],
      "execution_count": 7,
      "outputs": []
    }
  ]
}