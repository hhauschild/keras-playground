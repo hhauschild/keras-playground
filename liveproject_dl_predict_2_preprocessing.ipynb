{
  "nbformat": 4,
  "nbformat_minor": 0,
  "metadata": {
    "colab": {
      "name": "liveproject_dl-predict_2_preprocessing.ipynb",
      "provenance": [],
      "authorship_tag": "ABX9TyMY2JERNit6boL79Qv9Tie/",
      "include_colab_link": true
    },
    "kernelspec": {
      "name": "python3",
      "display_name": "Python 3"
    }
  },
  "cells": [
    {
      "cell_type": "markdown",
      "metadata": {
        "id": "view-in-github",
        "colab_type": "text"
      },
      "source": [
        "<a href=\"https://colab.research.google.com/github/hhauschild/keras-playground/blob/master/liveproject_dl_predict_2_preprocessing.ipynb\" target=\"_parent\"><img src=\"https://colab.research.google.com/assets/colab-badge.svg\" alt=\"Open In Colab\"/></a>"
      ]
    },
    {
      "cell_type": "markdown",
      "metadata": {
        "id": "feEuxuDxyEvU",
        "colab_type": "text"
      },
      "source": [
        "1 create data frames\n"
      ]
    },
    {
      "cell_type": "code",
      "metadata": {
        "id": "0CAH7ZwnyH4U",
        "colab_type": "code",
        "colab": {
          "base_uri": "https://localhost:8080/",
          "height": 313
        },
        "outputId": "3d85a5a9-86c7-41e7-f5de-761d60745a32"
      },
      "source": [
        "# create dataframes\n",
        "import pandas as pd\n",
        "\n",
        "teamurl = r\"https://liveproject-resources.s3.amazonaws.com/other/deeplearningbasketballscores/Teams.csv\"\n",
        "dfteams = pd.read_csv(teamurl, header=None, names=[\"ncaa_division\",\"team\"]);\n",
        "print(dfteams.head())\n",
        "\n",
        "gameurl = r\"https://liveproject-resources.s3.amazonaws.com/other/deeplearningbasketballscores/Games.csv\"\n",
        "dateparser = lambda x: pd.datetime.strptime(x, \"%Y-%m-%d\")\n",
        "#dfgames = pd.read_csv(gameurl, header = None, names=[\"date\",\"home_team\",\"home_score\", \"away_team\",\"away_score\" ], parse_dates=[\"date\"], date_parser=dateparser, escapechar= \"&\");\n",
        "dfgames = pd.read_csv(gameurl, header = None, names=[\"date\",\"home_team\",\"home_score\", \"away_team\",\"away_score\" ], parse_dates=[\"date\"], dtype={\"home_team\":str,\"home_score\":int,\"away_team\":str,\"away_score\":int});\n",
        "dfgames.head()"
      ],
      "execution_count": 1,
      "outputs": [
        {
          "output_type": "stream",
          "text": [
            "  ncaa_division         team\n",
            "0  America East      Vermont\n",
            "1  America East  Stony Brook\n",
            "2  America East         UMBC\n",
            "3  America East     Hartford\n",
            "4  America East       Albany\n"
          ],
          "name": "stdout"
        },
        {
          "output_type": "execute_result",
          "data": {
            "text/html": [
              "<div>\n",
              "<style scoped>\n",
              "    .dataframe tbody tr th:only-of-type {\n",
              "        vertical-align: middle;\n",
              "    }\n",
              "\n",
              "    .dataframe tbody tr th {\n",
              "        vertical-align: top;\n",
              "    }\n",
              "\n",
              "    .dataframe thead th {\n",
              "        text-align: right;\n",
              "    }\n",
              "</style>\n",
              "<table border=\"1\" class=\"dataframe\">\n",
              "  <thead>\n",
              "    <tr style=\"text-align: right;\">\n",
              "      <th></th>\n",
              "      <th>date</th>\n",
              "      <th>home_team</th>\n",
              "      <th>home_score</th>\n",
              "      <th>away_team</th>\n",
              "      <th>away_score</th>\n",
              "    </tr>\n",
              "  </thead>\n",
              "  <tbody>\n",
              "    <tr>\n",
              "      <th>0</th>\n",
              "      <td>2015-11-13</td>\n",
              "      <td>Hawaii</td>\n",
              "      <td>87</td>\n",
              "      <td>Montana St.</td>\n",
              "      <td>76</td>\n",
              "    </tr>\n",
              "    <tr>\n",
              "      <th>1</th>\n",
              "      <td>2015-11-13</td>\n",
              "      <td>Eastern Mich.</td>\n",
              "      <td>70</td>\n",
              "      <td>Vermont</td>\n",
              "      <td>50</td>\n",
              "    </tr>\n",
              "    <tr>\n",
              "      <th>2</th>\n",
              "      <td>2015-11-13</td>\n",
              "      <td>Columbia</td>\n",
              "      <td>107</td>\n",
              "      <td>Kean</td>\n",
              "      <td>62</td>\n",
              "    </tr>\n",
              "    <tr>\n",
              "      <th>3</th>\n",
              "      <td>2015-11-13</td>\n",
              "      <td>La.-Monroe</td>\n",
              "      <td>88</td>\n",
              "      <td>McMurry</td>\n",
              "      <td>43</td>\n",
              "    </tr>\n",
              "    <tr>\n",
              "      <th>4</th>\n",
              "      <td>2015-11-13</td>\n",
              "      <td>Yale</td>\n",
              "      <td>70</td>\n",
              "      <td>Fairfield</td>\n",
              "      <td>57</td>\n",
              "    </tr>\n",
              "  </tbody>\n",
              "</table>\n",
              "</div>"
            ],
            "text/plain": [
              "        date      home_team  home_score    away_team  away_score\n",
              "0 2015-11-13         Hawaii          87  Montana St.          76\n",
              "1 2015-11-13  Eastern Mich.          70      Vermont          50\n",
              "2 2015-11-13       Columbia         107         Kean          62\n",
              "3 2015-11-13     La.-Monroe          88      McMurry          43\n",
              "4 2015-11-13           Yale          70    Fairfield          57"
            ]
          },
          "metadata": {
            "tags": []
          },
          "execution_count": 1
        }
      ]
    },
    {
      "cell_type": "markdown",
      "metadata": {
        "id": "e998rBnLERG4",
        "colab_type": "text"
      },
      "source": [
        "2. Clean data: inspect team names"
      ]
    },
    {
      "cell_type": "code",
      "metadata": {
        "id": "xtWPjMO78out",
        "colab_type": "code",
        "colab": {
          "base_uri": "https://localhost:8080/",
          "height": 73
        },
        "outputId": "e45b907a-822c-4250-e771-8ce694e24516"
      },
      "source": [
        "print(sorted(dfteams.team.unique()))\n",
        "print(sorted(dfgames.home_team.unique()))\n",
        "#print(sorted(dfgames.away_team.unique()))"
      ],
      "execution_count": 2,
      "outputs": [
        {
          "output_type": "stream",
          "text": [
            "['Abilene Christian', 'Air Force', 'Akron', 'Alabama', 'Alabama A&M', 'Alabama State', 'Albany', 'Alcorn State', 'American University', 'Appalachian State', 'Arizona', 'Arizona State', 'Arkansas', 'Arkansas State', 'Arkansas-Little Rock', 'Arkansas-Pine Bluff', 'Army', 'Auburn', 'Austin Peay', 'BYU', 'Ball State', 'Baylor', 'Belmont', 'Bethune-Cookman', 'Binghamton', 'Boise State', 'Boston College', 'Boston University', 'Bowling Green', 'Bradley', 'Brown', 'Bryant University', 'Bucknell', 'Buffalo', 'Butler', 'Cal Poly', 'Cal State Bakersfield', 'Cal State Fullerton', 'Cal State Northridge', 'California', 'California Baptist', 'Campbell', 'Canisius', 'Central Arkansas', 'Central Connecticut State', 'Central Michigan', 'Charleston', 'Charleston Southern', 'Charlotte', 'Chattanooga', 'Chicago State', 'Cincinnati', 'Citadel', 'Clemson', 'Cleveland State', 'Coastal Carolina', 'Colgate', 'Colorado', 'Colorado State', 'Columbia', 'Connecticut', 'Coppin State', 'Cornell', 'Creighton', 'Dartmouth', 'Davidson', 'Dayton', 'DePaul', 'Delaware', 'Delaware State', 'Denver', 'Detroit Mercy', 'Drake', 'Drexel', 'Duke', 'Duquesne', 'East Carolina', 'East Tennessee State', 'Eastern Illinois', 'Eastern Kentucky', 'Eastern Michigan', 'Eastern Washington', 'Elon', 'Evansville', 'Fairfield', 'Fairleigh Dickinson', 'Florida', 'Florida A&M', 'Florida Atlantic', 'Florida Gulf Coast', 'Florida International', 'Florida State', 'Fordham', 'Fresno State', 'Furman', 'Gardner-Webb', 'George Mason', 'George Washington', 'Georgetown', 'Georgia', 'Georgia Southern', 'Georgia State', 'Georgia Tech', 'Gonzaga', 'Grambling State', 'Grand Canyon', 'Green Bay', 'Hampton', 'Hartford', 'Harvard', 'Hawaii', 'High Point', 'Hofstra', 'Holy Cross', 'Houston', 'Houston Baptist', 'Howard', 'IUPUI', 'Idaho', 'Idaho State', 'Illinois', 'Illinois State', 'Illinois-Chicago', 'Incarnate Word', 'Indiana', 'Indiana State', 'Iona', 'Iowa', 'Iowa State', 'Jackson State', 'Jacksonville', 'Jacksonville State', 'James Madison', 'Kansas', 'Kansas State', 'Kennesaw State', 'Kent State', 'Kentucky', 'LIU Brooklyn', 'LSU', 'La Salle', 'Lafayette', 'Lamar', 'Lehigh', 'Liberty', 'Lipscomb', 'Long Beach State', 'Longwood', 'Louisiana Tech', 'Louisiana-Lafayette', 'Louisiana-Monroe', 'Louisville', 'Loyola (IL)', 'Loyola (MD)', 'Loyola Marymount', 'Maine', 'Manhattan', 'Marist', 'Marquette', 'Marshall', 'Maryland', 'Maryland-Eastern Shore', 'Massachusetts', 'Massachusetts-Lowell', 'McNeese State', 'Memphis', 'Mercer', 'Miami (FL)', 'Miami (OH)', 'Michigan', 'Michigan State', 'Middle Tennessee', 'Milwaukee', 'Minnesota', 'Mississippi State', 'Mississippi Valley State', 'Missouri', 'Missouri State', 'Monmouth', 'Montana', 'Montana State', 'Morehead State', 'Morgan State', \"Mount St Mary's\", 'Murray State', 'NJIT', 'Navy', 'Nebraska', 'Nebraska-Omaha', 'Nevada', 'New Hampshire', 'New Mexico', 'New Mexico State', 'New Orleans', 'Niagara', 'Nicholls State', 'Norfolk State', 'North Alabama', 'North Carolina', 'North Carolina A&T', 'North Carolina Central', 'North Carolina State', 'North Carolina-Wilmington', 'North Dakota', 'North Dakota State', 'North Florida', 'North Texas', 'Northeastern', 'Northern Arizona', 'Northern Colorado', 'Northern Illinois', 'Northern Iowa', 'Northern Kentucky', 'Northwestern', 'Northwestern State', 'Notre Dame', 'Oakland', 'Ohio', 'Ohio State', 'Oklahoma', 'Oklahoma State', 'Old Dominion', 'Ole Miss', 'Oral Roberts', 'Oregon', 'Oregon State', 'Pacific', 'Penn State', 'Pennsylvania', 'Pepperdine', 'Pittsburgh', 'Portland', 'Portland State', 'Prairie View A&M', 'Presbyterian', 'Princeton', 'Providence', 'Purdue', 'Purdue Fort Wayne', 'Quinnipiac', 'Radford', 'Rhode Island', 'Rice', 'Richmond', 'Rider', 'Robert Morris', 'Rutgers', 'SIU-Edwardsville', 'SMU', 'Sacramento State', 'Sacred Heart', \"Saint Joseph's (PA)\", 'Saint Louis', \"Saint Mary's\", 'Sam Houston State', 'Samford', 'San Diego', 'San Diego State', 'San Francisco', 'San Jose State', 'Santa Clara', 'Savannah State', 'Seattle', 'Seton Hall', 'Siena', 'South Alabama', 'South Carolina', 'South Carolina State', 'South Dakota', 'South Dakota State', 'South Florida', 'Southeast Missouri State', 'Southeastern Louisiana', 'Southern Illinois', 'Southern Miss', 'Southern University', 'Southern Utah', 'St Bonaventure', 'St Francis (BKN)', 'St Francis (PA)', \"St John's\", \"St Peter's\", 'Stanford', 'Stephen F Austin', 'Stetson', 'Stony Brook', 'Syracuse', 'TCU', 'Temple', 'Tennessee', 'Tennessee State', 'Tennessee Tech', 'Tennessee-Martin', 'Texas', 'Texas A&M', 'Texas A&M-CC', 'Texas Rio Grande Valley', 'Texas Southern', 'Texas State', 'Texas Tech', 'Texas-Arlington', 'Toledo', 'Towson', 'Troy', 'Tulane', 'Tulsa', 'UAB', 'UC Davis', 'UC Irvine', 'UC Riverside', 'UC Santa Barbara', 'UCF', 'UCLA', 'UMBC', 'UMKC', 'UNC Asheville', 'UNC Greensboro', 'UNLV', 'USC', 'USC Upstate', 'UTEP', 'UTSA', 'Utah', 'Utah State', 'Utah Valley', 'Valparaiso', 'Vanderbilt', 'Vermont', 'Villanova', 'Virginia', 'Virginia Commonwealth', 'Virginia Military', 'Virginia Tech', 'Wagner', 'Wake Forest', 'Washington', 'Washington State', 'Weber State', 'West Virginia', 'Western Carolina', 'Western Illinois', 'Western Kentucky', 'Western Michigan', 'Wichita State', 'William & Mary', 'Winthrop', 'Wisconsin', 'Wofford', 'Wright State', 'Wyoming', 'Xavier', 'Yale', 'Youngstown State']\n",
            "['A&amp;M-Corpus Chris', 'Abilene Christian', 'Air Force', 'Akron', 'Alabama', 'Alabama A&amp;M', 'Alabama St.', 'Alabama State', 'Alas. Anchorage', 'Albany', 'Albany (NY)', 'Alcorn St.', 'Alcorn State', 'American', 'Appalachian St.', 'Arizona', 'Arizona St.', 'Ark.-Pine Bluff', 'Arkansas', 'Arkansas St.', 'Arkansas State', 'Army', 'Army West Point', 'Auburn', 'Austin Peay', 'Ave Maria', 'BYU', 'Bakersfield', 'Ball St.', 'Ball State', 'Baylor', 'Belmont', 'Bethune-Cookman', 'Binghamton', 'Boise St.', 'Boise State', 'Boston College', 'Boston U.', 'Bowling Green', 'Bradley', 'Brown', 'Bryant', 'Bucknell', 'Buffalo', 'Butler', 'CSU Bakersfield', 'CSU Fullerton', 'CSUN', 'Cal Baptist', 'Cal Poly', 'Cal St. Fullerton', 'Cal St. Northridge', 'California', 'Campbell', 'Canisius', 'Cent. Conn. St.', 'Centenary (LA)', 'Central Ark.', 'Central Conn. St.', 'Central Mich.', 'Chaminade', 'Charleston', 'Charleston So.', 'Charlotte', 'Chattanooga', 'Chicago St.', 'Chicago State', 'Cincinnati', 'Citadel', 'Clemson', 'Cleveland St.', 'Cleveland State', 'Coastal Caro.', 'Col. of Charleston', 'Colgate', 'Colorado', 'Colorado St.', 'Colorado State', 'Columbia', 'Coppin St.', 'Coppin State', 'Cornell', 'Creighton', 'Dartmouth', 'Davidson', 'Dayton', 'DePaul', 'Delaware', 'Delaware St.', 'Delaware State', 'Denver', 'Detroit', 'Detroit Mercy', 'Drake', 'Drexel', 'Duke', 'Duquesne', 'East Carolina', 'East Tenn. St.', 'Eastern Ill.', 'Eastern Illinois', 'Eastern Kentucky', 'Eastern Ky.', 'Eastern Mich.', 'Eastern Wash.', 'Elon', 'Evansville', 'FGCU', 'FIU', 'Fairfield', 'Fairleigh D&#039;son', 'Fairleigh Dickinson', 'Fla. Atlantic', 'Florida', 'Florida A&amp;M', 'Florida Atlantic', 'Florida St.', 'Florida State', 'Fordham', 'Fort Wayne', 'Fresno St.', 'Fresno State', 'Furman', 'Ga. Southern', 'Gardner-Webb', 'Geo. Washington', 'George Mason', 'George Washington', 'Georgetown', 'Georgia', 'Georgia St.', 'Georgia State', 'Georgia Tech', 'Gonzaga', 'Grambling', 'Grand Canyon', 'Green Bay', 'Hampton', 'Hartford', 'Harvard', 'Hawaii', 'High Point', 'Hofstra', 'Holy Cross', 'Houston', 'Houston Baptist', 'Howard', 'Humboldt State', 'IPFW', 'IUPUI', 'Idaho', 'Idaho St.', 'Idaho State', 'Ill.-Chicago', 'Illinois', 'Illinois St.', 'Illinois State', 'Incarnate Word', 'Indiana', 'Indiana St.', 'Indiana State', 'Iona', 'Iowa', 'Iowa St.', 'Iowa State', 'Jackson St.', 'Jackson State', 'Jacksonville', 'Jacksonville St.', 'James Madison', 'Kansas', 'Kansas St.', 'Kennesaw St.', 'Kennesaw State', 'Kent St.', 'Kent State', 'Kentucky', 'LIU Brooklyn', 'LMU', 'LSU', 'LSU Shreveport', 'La Salle', 'La.-Monroe', 'Lafayette', 'Lamar', 'Lamar University', 'Lehigh', 'Liberty', 'Lipscomb', 'Little Rock', 'Long Beach St.', 'Long Island', 'Longwood', 'Louisiana', 'Louisiana Tech', 'Louisville', 'Loyola (IL)', 'Loyola (Md.)', 'Loyola Chicago', 'Loyola Maryland', 'Loyola Marymount', 'Maine', 'Manhattan', 'Marist', 'Marquette', 'Marshall', 'Maryland', 'Mass.-Lowell', 'Massachusetts', 'McNeese ', 'McNeese St.', 'Md.-East. Shore', 'Memphis', 'Mercer', 'Miami (FL)', 'Miami (Fla.)', 'Miami (OH)', 'Miami (Ohio)', 'Mich. St. ', 'Michigan', 'Michigan St.', 'Mid-Atlantic Christ.', 'Middle Tenn.', 'Milwaukee', 'Minnesota', 'Mississippi', 'Mississippi St.', 'Mississippi Val.', 'Missouri', 'Missouri St.', 'Missouri State', 'Monmouth', 'Montana', 'Montana St.', 'Morehead St.', 'Morehead State', 'Morgan St.', 'Morgan State', 'Mt. St. Mary&#039;s', 'Murray St.', 'Murray State', 'N&#039;western St.', 'N.C. A&amp;T', 'N.C. Central', 'NC State', 'NJIT', 'Navy', 'Neb. Omaha', 'Nebraska', 'Nevada', 'New Hampshire', 'New Mexico', 'New Mexico St.', 'New Orleans', 'Niagara', 'Nicholls St.', 'Nicholls State', 'Norfolk St.', 'Norfolk State', 'North Alabama', 'North Carolina', 'North Carolina St.', 'North Dakota', 'North Dakota St.', 'North Florida', 'North Texas', 'Northeastern', 'Northern Ariz.', 'Northern Colo.', 'Northern Ill.', 'Northern Kentucky', 'Northern Ky.', 'Northwestern', 'Northwestern St.', 'Notre Dame', 'Oakland', 'Ohio', 'Ohio St.', 'Ohio St. ', 'Oklahoma', 'Oklahoma St.', 'Oklahoma State', 'Old Dominion', 'Ole Miss', 'Omaha', 'Oral Roberts', 'Oregon', 'Oregon St.', 'Pacific', 'Penn', 'Penn St.', 'Pepperdine', 'Pittsburgh', 'Portland', 'Portland St.', 'Portland State', 'Prairie View', 'Prairie View A&amp;M', 'Presbyterian', 'Princeton', 'Providence', 'Purdue', 'Quinnipiac', 'Radford', 'Rhode Island', 'Rice', 'Richmond', 'Rider', 'Robert Morris', 'Rowan', 'Rutgers', 'S. Carolina St.', 'S.C. Upstate', 'SFA', 'SIU Edwardsville', 'SIUE', 'SMU', 'Sacramento St.', 'Sacred Heart', 'Saint Joseph&#039;s', \"Saint Joseph's\", 'Saint Louis', 'Sam Houston St.', 'Samford', 'San Diego', 'San Diego St.', 'San Diego State', 'San Francisco', 'San Jose St.', 'San Jose State', 'Santa Clara', 'Savannah St.', 'Savannah State', 'Seattle', 'Seattle U', 'Seton Hall', 'Siena', 'South Ala.', 'South Alabama', 'South Carolina', 'South Carolina St.', 'South Dakota', 'South Dakota St.', 'South Fla.', 'South Florida', 'Southeast Mo. St.', 'Southeastern La.', 'Southern California', 'Southern Ill.', 'Southern Miss', 'Southern Miss.', 'Southern U.', 'Southern Univ.', 'Southern Utah', 'St. Bonaventure', 'St. Francis (B&#039;klyn)', 'St. Francis (NY)', 'St. Francis (PA)', 'St. Francis (Pa.)', 'St. John&#039;s ', 'St. John&#039;s (NY)', 'St. Mary&#039;s (CA)', 'St. Mary&#039;s (Cal.)', 'St. Peter&#039;s', 'Stanford', 'Stephen F. Austin', 'Stetson', 'Stony Brook', 'Syracuse', 'TCU', 'Temple', 'Tennessee', 'Tennessee St.', 'Tennessee State', 'Tennessee Tech', 'Texas', 'Texas A&amp;M', 'Texas A&amp;M-C.C.', 'Texas Southern', 'Texas St.', 'Texas State', 'Texas Tech', 'Texas-Arlington', 'Toledo', 'Towson', 'Troy', 'Tulane', 'Tulsa', 'UAB', 'UALR', 'UC Davis', 'UC Irvine', 'UC Riverside', 'UC Santa Barb.', 'UC Santa Barbara', 'UCF', 'UCLA', 'UConn', 'UIC', 'UMBC', 'UMES', 'UMKC', 'UNC Asheville', 'UNC Greensboro', 'UNC Wilmington', 'UNCG', 'UNCW', 'UNI', 'UNLV', 'USC', 'UT Arlington ', 'UT Martin', 'UTEP', 'UTRGV', 'UTSA', 'University of the Southwest', 'Utah', 'Utah St.', 'Utah State', 'Utah Valley', 'VCU', 'VMI', 'Valparaiso', 'Vanderbilt', 'Vermont', 'Villanova', 'Virginia', 'Virginia Tech', 'Wagner', 'Wake Forest', 'Washington', 'Washington St.', 'Weber St.', 'Weber State', 'West Virginia', 'Western Caro.', 'Western Ill.', 'Western Illinois', 'Western Ky.', 'Western Mich.', 'Wichita St.', 'Wichita State', 'William &amp; Mary', 'Winthrop', 'Wisconsin', 'Wofford', 'Wright St.', 'Wright State', 'Wyoming', 'Xavier', 'Yale', 'Youngstown St.']\n"
          ],
          "name": "stdout"
        }
      ]
    },
    {
      "cell_type": "markdown",
      "metadata": {
        "id": "B64xAOkfHIcF",
        "colab_type": "text"
      },
      "source": [
        "2.1 clean HTML escaping\n"
      ]
    },
    {
      "cell_type": "code",
      "metadata": {
        "id": "EXrluz_BJCcx",
        "colab_type": "code",
        "colab": {
          "base_uri": "https://localhost:8080/",
          "height": 36
        },
        "outputId": "92c94820-ccfd-4802-8f2a-4c806472fb04"
      },
      "source": [
        "import html\n",
        "html.unescape('A&amp;M-Corpus Chris')"
      ],
      "execution_count": 3,
      "outputs": [
        {
          "output_type": "execute_result",
          "data": {
            "application/vnd.google.colaboratory.intrinsic": {
              "type": "string"
            },
            "text/plain": [
              "'A&M-Corpus Chris'"
            ]
          },
          "metadata": {
            "tags": []
          },
          "execution_count": 3
        }
      ]
    },
    {
      "cell_type": "code",
      "metadata": {
        "id": "d2vXWB_cHT5E",
        "colab_type": "code",
        "colab": {
          "base_uri": "https://localhost:8080/",
          "height": 73
        },
        "outputId": "a2cf3251-128d-4768-d550-a416100fa011"
      },
      "source": [
        "\n",
        "dfgames.home_team=dfgames.home_team.apply(lambda x:html.unescape(x))\n",
        "dfgames.away_team=dfgames.away_team.apply(lambda x:html.unescape(str(x)))\n",
        "\n",
        "print(sorted(dfgames.home_team.unique()))\n",
        "print(sorted(dfgames.away_team.unique()))"
      ],
      "execution_count": 4,
      "outputs": [
        {
          "output_type": "stream",
          "text": [
            "['A&M-Corpus Chris', 'Abilene Christian', 'Air Force', 'Akron', 'Alabama', 'Alabama A&M', 'Alabama St.', 'Alabama State', 'Alas. Anchorage', 'Albany', 'Albany (NY)', 'Alcorn St.', 'Alcorn State', 'American', 'Appalachian St.', 'Arizona', 'Arizona St.', 'Ark.-Pine Bluff', 'Arkansas', 'Arkansas St.', 'Arkansas State', 'Army', 'Army West Point', 'Auburn', 'Austin Peay', 'Ave Maria', 'BYU', 'Bakersfield', 'Ball St.', 'Ball State', 'Baylor', 'Belmont', 'Bethune-Cookman', 'Binghamton', 'Boise St.', 'Boise State', 'Boston College', 'Boston U.', 'Bowling Green', 'Bradley', 'Brown', 'Bryant', 'Bucknell', 'Buffalo', 'Butler', 'CSU Bakersfield', 'CSU Fullerton', 'CSUN', 'Cal Baptist', 'Cal Poly', 'Cal St. Fullerton', 'Cal St. Northridge', 'California', 'Campbell', 'Canisius', 'Cent. Conn. St.', 'Centenary (LA)', 'Central Ark.', 'Central Conn. St.', 'Central Mich.', 'Chaminade', 'Charleston', 'Charleston So.', 'Charlotte', 'Chattanooga', 'Chicago St.', 'Chicago State', 'Cincinnati', 'Citadel', 'Clemson', 'Cleveland St.', 'Cleveland State', 'Coastal Caro.', 'Col. of Charleston', 'Colgate', 'Colorado', 'Colorado St.', 'Colorado State', 'Columbia', 'Coppin St.', 'Coppin State', 'Cornell', 'Creighton', 'Dartmouth', 'Davidson', 'Dayton', 'DePaul', 'Delaware', 'Delaware St.', 'Delaware State', 'Denver', 'Detroit', 'Detroit Mercy', 'Drake', 'Drexel', 'Duke', 'Duquesne', 'East Carolina', 'East Tenn. St.', 'Eastern Ill.', 'Eastern Illinois', 'Eastern Kentucky', 'Eastern Ky.', 'Eastern Mich.', 'Eastern Wash.', 'Elon', 'Evansville', 'FGCU', 'FIU', 'Fairfield', \"Fairleigh D'son\", 'Fairleigh Dickinson', 'Fla. Atlantic', 'Florida', 'Florida A&M', 'Florida Atlantic', 'Florida St.', 'Florida State', 'Fordham', 'Fort Wayne', 'Fresno St.', 'Fresno State', 'Furman', 'Ga. Southern', 'Gardner-Webb', 'Geo. Washington', 'George Mason', 'George Washington', 'Georgetown', 'Georgia', 'Georgia St.', 'Georgia State', 'Georgia Tech', 'Gonzaga', 'Grambling', 'Grand Canyon', 'Green Bay', 'Hampton', 'Hartford', 'Harvard', 'Hawaii', 'High Point', 'Hofstra', 'Holy Cross', 'Houston', 'Houston Baptist', 'Howard', 'Humboldt State', 'IPFW', 'IUPUI', 'Idaho', 'Idaho St.', 'Idaho State', 'Ill.-Chicago', 'Illinois', 'Illinois St.', 'Illinois State', 'Incarnate Word', 'Indiana', 'Indiana St.', 'Indiana State', 'Iona', 'Iowa', 'Iowa St.', 'Iowa State', 'Jackson St.', 'Jackson State', 'Jacksonville', 'Jacksonville St.', 'James Madison', 'Kansas', 'Kansas St.', 'Kennesaw St.', 'Kennesaw State', 'Kent St.', 'Kent State', 'Kentucky', 'LIU Brooklyn', 'LMU', 'LSU', 'LSU Shreveport', 'La Salle', 'La.-Monroe', 'Lafayette', 'Lamar', 'Lamar University', 'Lehigh', 'Liberty', 'Lipscomb', 'Little Rock', 'Long Beach St.', 'Long Island', 'Longwood', 'Louisiana', 'Louisiana Tech', 'Louisville', 'Loyola (IL)', 'Loyola (Md.)', 'Loyola Chicago', 'Loyola Maryland', 'Loyola Marymount', 'Maine', 'Manhattan', 'Marist', 'Marquette', 'Marshall', 'Maryland', 'Mass.-Lowell', 'Massachusetts', 'McNeese ', 'McNeese St.', 'Md.-East. Shore', 'Memphis', 'Mercer', 'Miami (FL)', 'Miami (Fla.)', 'Miami (OH)', 'Miami (Ohio)', 'Mich. St. ', 'Michigan', 'Michigan St.', 'Mid-Atlantic Christ.', 'Middle Tenn.', 'Milwaukee', 'Minnesota', 'Mississippi', 'Mississippi St.', 'Mississippi Val.', 'Missouri', 'Missouri St.', 'Missouri State', 'Monmouth', 'Montana', 'Montana St.', 'Morehead St.', 'Morehead State', 'Morgan St.', 'Morgan State', \"Mt. St. Mary's\", 'Murray St.', 'Murray State', \"N'western St.\", 'N.C. A&T', 'N.C. Central', 'NC State', 'NJIT', 'Navy', 'Neb. Omaha', 'Nebraska', 'Nevada', 'New Hampshire', 'New Mexico', 'New Mexico St.', 'New Orleans', 'Niagara', 'Nicholls St.', 'Nicholls State', 'Norfolk St.', 'Norfolk State', 'North Alabama', 'North Carolina', 'North Carolina St.', 'North Dakota', 'North Dakota St.', 'North Florida', 'North Texas', 'Northeastern', 'Northern Ariz.', 'Northern Colo.', 'Northern Ill.', 'Northern Kentucky', 'Northern Ky.', 'Northwestern', 'Northwestern St.', 'Notre Dame', 'Oakland', 'Ohio', 'Ohio St.', 'Ohio St. ', 'Oklahoma', 'Oklahoma St.', 'Oklahoma State', 'Old Dominion', 'Ole Miss', 'Omaha', 'Oral Roberts', 'Oregon', 'Oregon St.', 'Pacific', 'Penn', 'Penn St.', 'Pepperdine', 'Pittsburgh', 'Portland', 'Portland St.', 'Portland State', 'Prairie View', 'Prairie View A&M', 'Presbyterian', 'Princeton', 'Providence', 'Purdue', 'Quinnipiac', 'Radford', 'Rhode Island', 'Rice', 'Richmond', 'Rider', 'Robert Morris', 'Rowan', 'Rutgers', 'S. Carolina St.', 'S.C. Upstate', 'SFA', 'SIU Edwardsville', 'SIUE', 'SMU', 'Sacramento St.', 'Sacred Heart', \"Saint Joseph's\", 'Saint Louis', 'Sam Houston St.', 'Samford', 'San Diego', 'San Diego St.', 'San Diego State', 'San Francisco', 'San Jose St.', 'San Jose State', 'Santa Clara', 'Savannah St.', 'Savannah State', 'Seattle', 'Seattle U', 'Seton Hall', 'Siena', 'South Ala.', 'South Alabama', 'South Carolina', 'South Carolina St.', 'South Dakota', 'South Dakota St.', 'South Fla.', 'South Florida', 'Southeast Mo. St.', 'Southeastern La.', 'Southern California', 'Southern Ill.', 'Southern Miss', 'Southern Miss.', 'Southern U.', 'Southern Univ.', 'Southern Utah', 'St. Bonaventure', \"St. Francis (B'klyn)\", 'St. Francis (NY)', 'St. Francis (PA)', 'St. Francis (Pa.)', \"St. John's \", \"St. John's (NY)\", \"St. Mary's (CA)\", \"St. Mary's (Cal.)\", \"St. Peter's\", 'Stanford', 'Stephen F. Austin', 'Stetson', 'Stony Brook', 'Syracuse', 'TCU', 'Temple', 'Tennessee', 'Tennessee St.', 'Tennessee State', 'Tennessee Tech', 'Texas', 'Texas A&M', 'Texas A&M-C.C.', 'Texas Southern', 'Texas St.', 'Texas State', 'Texas Tech', 'Texas-Arlington', 'Toledo', 'Towson', 'Troy', 'Tulane', 'Tulsa', 'UAB', 'UALR', 'UC Davis', 'UC Irvine', 'UC Riverside', 'UC Santa Barb.', 'UC Santa Barbara', 'UCF', 'UCLA', 'UConn', 'UIC', 'UMBC', 'UMES', 'UMKC', 'UNC Asheville', 'UNC Greensboro', 'UNC Wilmington', 'UNCG', 'UNCW', 'UNI', 'UNLV', 'USC', 'UT Arlington ', 'UT Martin', 'UTEP', 'UTRGV', 'UTSA', 'University of the Southwest', 'Utah', 'Utah St.', 'Utah State', 'Utah Valley', 'VCU', 'VMI', 'Valparaiso', 'Vanderbilt', 'Vermont', 'Villanova', 'Virginia', 'Virginia Tech', 'Wagner', 'Wake Forest', 'Washington', 'Washington St.', 'Weber St.', 'Weber State', 'West Virginia', 'Western Caro.', 'Western Ill.', 'Western Illinois', 'Western Ky.', 'Western Mich.', 'Wichita St.', 'Wichita State', 'William & Mary', 'Winthrop', 'Wisconsin', 'Wofford', 'Wright St.', 'Wright State', 'Wyoming', 'Xavier', 'Yale', 'Youngstown St.']\n",
            "['A&M-Corpus Chris', 'Abilene Christian', 'Adams St.', 'Adrian', 'Air Force', 'Akron', 'Alabama', 'Alabama A&M', 'Alabama St.', 'Alabama State', 'Alas. Anchorage', 'Alaska-Anch.', 'Albany', 'Albany (NY)', 'Albany St. (GA)', 'Albion', 'Alcorn St.', 'Alcorn State', 'Alice Lloyd', 'Allen', 'Alma', 'American', 'Anderson (IN)', 'Anderson (SC)', 'Angelo St.', 'Angelo State', 'Antelope Valley', 'Appalachian St.', 'Aquinas', 'Arcadia', 'Arizona', 'Arizona Christian', 'Arizona St.', 'Ark.-Fort Smith', 'Ark.-Monticello', 'Ark.-Pine Bluff', 'Arkansas', 'Arkansas St.', 'Arkansas State', 'Arkansas Tech', 'Arlington Baptist', 'Army', 'Army West Point', 'Asbury', 'Aub.-Montgomery', 'Auburn', 'Austin', 'Austin Peay', 'Ave Maria', 'Averett', 'Avila', 'BYU', 'BYU-Hawaii', 'Bakersfield', 'Ball St.', 'Ball State', 'Baptist Bible (PA)', 'Baylor', 'Belmont', 'Belmont Abbey', 'Bemidji St.', 'Bemidji State', 'Benedictine Mesa', 'Berea', 'Bethany (WV)', 'Bethel (TN)', 'Bethel (Tenn.)', 'Bethesda Christian', 'Bethune-Cookman', 'Binghamton', 'Biola', 'Black Hills St.', 'Bloomsburg', 'Blue Mountain', 'Bluefield Col.', 'Bluefield St.', 'Bob Jones', 'Boise St.', 'Boise State', 'Boston College', 'Boston U.', 'Bowie St.', 'Bowling Green', 'Boyce', 'Bradley', 'Brescia', 'Brevard', 'Brewton Parker', 'Bridgewater ', 'Bridgewater (VA)', 'Bristol', 'Brown', 'Bryant', 'Bryn Athyn', 'Bucknell', 'Buena Vista', 'Buffalo', 'Butler', 'CCNY', 'CSU Bakersfield', 'CSU Dom. Hills', 'CSU Fullerton', 'CSU Stanislaus', 'CSUN', 'Cabrini', 'Cairn', 'Cal Baptist', 'Cal Lutheran', 'Cal Poly', 'Cal St. Dom. Hills', 'Cal St. East Bay', 'Cal St. Fullerton', 'Cal St. L.A.', 'Cal St. Monterey Bay', 'Cal St. Northridge', 'Cal St. San Marcos', 'California', 'California Merced', 'Caltech', 'Campbell', 'Campbellsville', 'Canisius', 'Carnegie Mellon', 'Carroll (MT)', 'Carver Bible', 'Catawba', 'Catholic', 'Cedarville', 'Cent. Conn. St.', 'Centenary (LA)', 'Centenary (La.)', 'Centenary (N.J.)', 'Centenary (NJ)', 'Central Ark.', 'Central Baptist', 'Central Conn. St.', 'Central Mich.', 'Central Penn', 'Central St. (OH)', 'Central State ', 'Central Wash.', 'Chadron St.', 'Chaminade', 'Champion Bapt.', 'Chapman', 'Charleston', 'Charleston So.', 'Charlotte', 'Chatham', 'Chattanooga', 'Chestnut Hill', 'Cheyney', 'Chicago St.', 'Chicago State', 'Chowan', 'Cin Clermont', 'Cincinnati', 'Cincinnati Christian', 'Citadel', 'Claflin', 'Clarion', 'Clemson', 'Cleveland St.', 'Cleveland State', 'Coastal Caro.', 'Coastal Ga.', 'Coe', 'Coker', 'Col. of Charleston', 'Col. of Idaho', 'Colgate', 'Colo. Christian', 'Colorado', 'Colorado Col.', 'Colorado Mesa', 'Colorado St.', 'Colorado State', 'Columbia', \"Columbia Int'l\", 'Columbia International', 'Conc. (Texas)', 'Concord', 'Concordia (MI)', 'Concordia (Mich.)', 'Concordia (NE)', 'Concordia (Neb.)', 'Concordia (OR)', 'Concordia College', 'Concordia-St. Paul', 'Coppin St.', 'Coppin State', 'Corban', 'Cornell', 'Cornell College', 'Covenant', 'Creighton', \"Crowley's Ridge\", 'Crown (MN)', 'Cumberland ', 'Cumberland (TN)', 'Curry', 'Dakota St.', 'Dallas', 'Dalton St.', 'Daniel Webster', 'Dartmouth', 'Davidson', 'Davis & Elkins', 'Dayton', 'DePaul', 'Dean College', 'Defiance', 'Delaware', 'Delaware St.', 'Delaware State', 'Denison', 'Denver', 'Detroit', 'Detroit Mercy', 'Dickinson State', 'Dillard', 'Dixie State', 'Doane', 'Dominican (Ill.)', 'Drake', 'Drexel', 'Dubuque', 'Duke', 'Duquesne', 'E. Texas Bapt.', 'Earlham', 'East Carolina', 'East Central', 'East Tenn. St.', 'East Tex. Baptist', 'East-West U.', 'East. Mennonite', 'Eastern', 'Eastern Ill.', 'Eastern Illinois', 'Eastern Kentucky', 'Eastern Ky.', 'Eastern Mich.', 'Eastern N.M.', 'Eastern Ore.', 'Eastern Oregon', 'Eastern Wash.', 'Ecclesia', 'Eckerd', 'Edward Waters', 'Elizabeth City St.', 'Elmira', 'Elms', 'Elon', 'Embry-Riddle (FL)', 'Emerson', 'Emmanuel (GA)', 'Emory', 'Emporia St.', 'Erskine', 'Eureka', 'Evansville', 'FDU-Florham', 'FGCU', 'FIU', 'Fairfield', \"Fairleigh D'son\", 'Fairleigh Dickinson', 'Farmingdale St.', 'Fayetteville St.', 'Ferris St.', 'Ferrum', 'Findlay', 'Fisher', 'Fisk', 'Fla. Atlantic', 'Fla. Christian', 'Fla. National', 'Florida', 'Florida A&M', 'Florida Atlantic', 'Florida Col.', 'Florida Mem.', 'Florida St.', 'Florida State', 'Florida Tech', 'Fontbonne', 'Fordham', 'Fort Hays St.', 'Fort Lewis', 'Fort Valley St.', 'Fort Wayne', 'Francis Marion', 'Franciscan', 'Fresno Pacific', 'Fresno St.', 'Fresno State', 'Frostburg St.', 'Frostburg State', 'Furman', 'Ga. Southern', 'Ga. Southwestern', 'Gallaudet', 'Gardner-Webb', 'Geneva', 'Geo. Washington', 'George Fox', 'George Mason', 'George Washington', 'Georgetown', 'Georgia', 'Georgia College', 'Georgia St.', 'Georgia State', 'Georgia Tech', 'Georgian Court', 'Glenville State', 'Goldey-Beacom', 'Gonzaga', 'Gordon', 'Goshen', 'Goucher', 'Grace (IN)', 'Grace Bible College', 'Grambling', 'Grand Canyon', 'Great Falls', 'Green Bay', 'Greensboro', 'Hampton', 'Hannibal-La Grange', 'Hardin-Simmons', 'Harding', 'Harris-Stowe', 'Hartford', 'Hartwick', 'Harvard', 'Haskell', 'Hawaii', 'Hawaii Hilo', 'Hawaii Pacific', 'Hawaii-Hilo', 'Heidelberg', 'Henderson St.', 'Hendrix', 'High Point', 'Hillsdale Baptist', 'Hiram', 'Hiwassee', 'Hofstra', 'Holy Cross', 'Holy Names', 'Hood', 'Houston', 'Houston Baptist', 'Howard', 'Howard Payne', 'Humboldt State', 'Huntingdon', 'Huston-Tillotson', 'IIT', 'IPFW', 'IUPUI', 'Idaho', 'Idaho St.', 'Idaho State', 'Ill.-Chicago', 'Ill.-Springfield', 'Illinois', 'Illinois St.', 'Illinois State', 'Illinois Tech', 'Incarnate Word', 'Ind.-South Bend', 'Indiana', 'Indiana St.', 'Indiana State', 'Indiana-Kokomo', 'Indiana-Northwest', 'Indianapolis', 'Iona', 'Iowa', 'Iowa St.', 'Iowa State', 'Jackson St.', 'Jackson State', 'Jacksonville', 'Jacksonville St.', 'James Madison', 'Jarvis Christian', 'John Brown', 'John Jay', 'John. & Wales (Colo.)', 'John. & Wales (N.C.)', 'John. & Wales (R.I.)', 'Johnson', 'Johnson & Wales (CO)', 'Johnson & Wales (NC)', 'Johnson & Wales (RI)', 'Judson', 'Kansas', 'Kansas St.', 'Kean', 'Kennesaw St.', 'Kennesaw State', 'Kent St.', 'Kent State', 'Kentucky', 'Kentucky St.', 'Kentucky Wesleyan', 'Kenyon', 'Keystone', 'Ky. Christian', 'Ky. Wesleyan', 'LIFE Pacific', 'LIU Brooklyn', 'LMU', 'LSU', 'LSU Shreveport', 'LSU-Alexandria', 'La Roche', 'La Salle', 'La Verne', 'La.-Monroe', 'LaGrange', 'Lafayette', 'Lake Erie', 'Lakeland', 'Lamar', 'Lamar University', 'Lander', 'Le Moyne', 'LeMoyne-Owen', 'LeTourneau', 'Lebanon Valley', 'Lees-McRae', 'Lehigh', 'Lenoir-Rhyne', 'Lesley', 'Lewis', 'Lewis & Clark', 'Liberty', 'Limestone', 'Lincoln (MO)', 'Lincoln (PA)', 'Lincoln (Pa.)', 'Lindenwood', 'Linfield', 'Lipscomb', 'Little Rock', 'Long Beach St.', 'Long Island', 'Longwood', 'Louisiana', 'Louisiana Col.', 'Louisiana Coll.', 'Louisiana Tech', 'Louisville', 'Lourdes', 'Loyola (IL)', 'Loyola (LA)', 'Loyola (La.)', 'Loyola (Md.)', 'Loyola Chicago', 'Loyola Maryland', 'Loyola Marymount', 'Lynchburg', 'Lyndon St.', 'Lyndon State', 'Lyon', 'MIT', 'Madonna', 'Maine', 'Maine-Fort Kent', 'Malone', 'Manchester', 'Manhattan', 'Manhattanville', 'Mansfield', 'Marian (Ind.)', 'Marist', 'Marquette', 'Mars Hill', 'Marshall', 'Mary', 'Mary Washington', 'Marygrove', 'Maryland', 'Maryville (MO)', 'Marywood', 'Mass.-Boston', 'Mass.-Lowell', 'Massachusetts', \"Master's\", 'Mayville St.', 'Mayville State', 'McGill', 'McKendree', 'McMurry', 'McNeese ', 'McNeese St.', 'McPherson', 'Md.-East. Shore', 'Me.-Presque Isle', 'Medaille', 'Medgar Evers', 'Memphis', 'Menlo', 'Mercer', 'Merchant Marine', 'Mercy', 'Messiah', 'Methodist', 'Miami (FL)', 'Miami (Fla.)', 'Miami (OH)', 'Miami (Ohio)', 'Mich. St. ', 'Michigan', 'Michigan St.', 'Michigan-Dearborn', 'Mid-Atlantic Christ.', 'Middle Ga. St.', 'Middle Tenn.', 'Miles', 'Millersville', 'Milligan', 'Millsaps', 'Milwaukee', 'Milwaukee Engr.', 'Minn. Duluth', 'Minn.-Crookston', 'Minn.-Morris', 'Minnesota', 'Minnesota-Morris', 'Misericordia', 'Mississippi', 'Mississippi Col.', 'Mississippi Coll.', 'Mississippi St.', 'Mississippi Val.', 'Missouri', 'Missouri S&T', 'Missouri St.', 'Missouri State', 'Missouri Valley', 'Mitchell', 'Mo. Southern St.', 'Mo. Western St.', 'Mo.-St. Louis', 'Mobile', 'Molloy', 'Monmouth', 'Montana', 'Montana St.', 'Montana Tech', 'Montana-Western', 'Montreat', 'Moravian', 'Morehead St.', 'Morehead State', 'Morehouse', 'Morgan St.', 'Morgan State', 'Morris', 'Mount Aloysius', 'Mt. St. Joseph', 'Mt. St. Mary (NY)', \"Mt. St. Mary's\", 'Mt. St. Vincent', 'Multnomah Bible', 'Murray St.', 'Murray State', 'Muskingum', \"N'west Nazarene\", \"N'western Ohio\", \"N'western St.\", 'N.C. A&T', 'N.C. Central', 'N.C. Wesleyan', 'N.M. Highlands', 'NC State', 'NJIT', 'NW Christian', 'NYIT', 'Navy', 'Nazareth', 'Neb. Omaha', 'Nebraska', 'Nevada', 'New Hampshire', 'New Hope Christian', 'New Mexico', 'New Mexico St.', 'New Orleans', 'Newberry', 'Newbury', 'Niagara', 'Nicholls St.', 'Nicholls State', 'No. New Mexico', 'Norfolk St.', 'Norfolk State', 'North Alabama', 'North Carolina', 'North Carolina St.', 'North Dakota', 'North Dakota St.', 'North Florida', 'North Ga.', 'North Greenville', 'North Park', 'North Texas', 'Northeastern', 'Northeastern St.', 'Northern Ariz.', 'Northern Colo.', 'Northern Ill.', 'Northern Kentucky', 'Northern Ky.', 'Northern Mich.', 'Northland', 'Northwest (WA)', 'Northwest (Wash.)', 'Northwest Indian', 'Northwest Nazarene', 'Northwestern', 'Northwestern Ohio', 'Northwestern St.', 'Northwood (MI)', 'Notre Dame', 'Notre Dame (OH)', 'Notre Dame (Ohio)', 'Notre Dame de Namur', 'Oak Hills Christian', 'Oakland', 'Oakland City', 'Oakwood', 'Oberlin', 'Oglethorpe', 'Ohio', 'Ohio Christian', 'Ohio Dominican', 'Ohio Northern', 'Ohio St.', 'Ohio St. ', 'Ohio Valley', 'Okla. Baptist', 'Okla. Panhandle', 'Oklahoma', 'Oklahoma St.', 'Oklahoma State', 'Old Dominion', 'Ole Miss', 'Olivet', 'Olivet Nazarene', 'Omaha', 'Oneonta St.', 'Oral Roberts', 'Oregon', 'Oregon St.', 'Oregon Tech', 'Ottawa', 'Ouachita Baptist', 'Our Lady Of The Lake', 'Ozarks ', 'Ozarks (AR)', 'Pacific', 'Pacific Lutheran', 'Pacific Union', 'Paine', 'Palm Beach Atl.', 'Paul Quinn', 'Peace', 'Penn', 'Penn St.', 'Penn St.-Harrisburg', 'Pensacola Christian', 'Pepperdine', 'Pfeiffer', 'Phila. Biblical', 'Piedmont', \"Piedmont Int'l\", 'Pine Manor', 'Pitt.-Bradford', 'Pittsburgh', 'Point Loma', 'Point U.', 'Pomona-Pitzer', 'Portland', 'Portland St.', 'Portland State', 'Prairie View', 'Prairie View A&M', 'Presbyterian', 'Presentation', 'Princeton', 'Providence', 'Puget Sound', 'Purdue', 'Purdue-Calumet', 'Purdue-North Cent.', 'Queens (N.Y.)', 'Queens (NY)', 'Quincy', 'Quinnipiac', 'Radford', 'Randolph', 'Regis (CO)', 'Reinhardt', 'Rhode Island', 'Rice', 'Richmond', 'Rider', 'Rio Grande', 'Rivier', 'Roanoke', 'Robert Morris', 'Rochester (MI)', 'Rochester (Mich.)', 'Rockford', 'Rockhurst', 'Rocky Mountain', 'Rogers St.', 'Roosevelt', 'Rosemont', 'Rowan', 'Rust', 'Rutgers', 'Rutgers-Newark', \"S'eastern Okla.\", \"S'west Minn. St.\", \"S'western (Texas)\", 'S. Carolina St.', 'S.C. Upstate', 'SFA', 'SIU Edwardsville', 'SIUE', 'SMU', 'SUNY Maritime', 'SUNY Oneonta', 'Sacramento St.', 'Sacred Heart', \"Saint Joseph's\", 'Saint Leo', 'Saint Louis', \"Salem Int'l\", 'Salve Regina', 'Sam Houston St.', 'Samford', 'San Diego', 'San Diego Christian', 'San Diego St.', 'San Diego State', 'San Fran. St.', 'San Francisco', 'San Jose St.', 'San Jose State', 'Santa Clara', 'Sarah Lawrence', 'Savannah St.', 'Savannah State', 'Schreiner', 'Seattle', 'Seattle U', 'Selma', 'Seton Hall', 'Seton Hill', 'Sewanee', 'Shenandoah', 'Siena', 'Siena Heights', 'Silver Lake', 'Simon Fraser', 'Simpson', 'Simpson (CA)', 'Skidmore', 'Sonoma St.', 'Sonoma State', 'South Ala.', 'South Alabama', 'South Carolina', 'South Carolina St.', 'South Dakota', 'South Dakota Mines', 'South Dakota St.', 'South Fla.', 'South Florida', 'Southeast Mo. St.', 'Southeastern La.', 'Southeastern Okla.', 'Southern California', 'Southern Ill.', 'Southern Miss', 'Southern Miss.', 'Southern Nazarene', 'Southern Ore.', 'Southern U.', 'Southern Univ.', 'Southern Utah', 'Southern Va.', 'Southern Wesleyan', 'Southern-N.O.', 'Southwestern (TX)', 'Spalding', 'Spring Arbor', 'Spring Hill', 'St. Ambrose', 'St. Andrews', 'St. Bonaventure', 'St. Catharine', \"St. Edward's\", \"St. Francis (B'klyn)\", 'St. Francis (IL)', 'St. Francis (Ill.)', 'St. Francis (NY)', 'St. Francis (PA)', 'St. Francis (Pa.)', \"St. John's \", \"St. John's (NY)\", 'St. Jos. (Brkln.)', \"St. Joseph's (IN)\", \"St. Martin's\", \"St. Mary's (CA)\", \"St. Mary's (Cal.)\", \"St. Mary's (MD)\", \"St. Mary's (MN)\", \"St. Mary's (Md.)\", \"St. Mary's (TX)\", \"St. Mary's (Texas)\", \"St. Peter's\", 'St. Thomas (MN)', 'Stanford', 'Staten Island', 'Stephen F. Austin', 'Stetson', 'Stockton', 'Stony Brook', 'Sul Ross St.', 'Susquehanna', 'Syracuse', 'TCU', 'Tabor', 'Tampa', 'Temple', 'Tenn. Wesleyan', 'Tennessee', 'Tennessee St.', 'Tennessee State', 'Tennessee Tech', \"Tex. A&M Int'l\", 'Tex. A&M-Kingsville', 'Tex. Permian Basin', 'Texas', 'Texas A&M', 'Texas A&M-C.C.', 'Texas A&M-Comm.', \"Texas A&M-Int'l\", 'Texas College', 'Texas Lutheran', 'Texas Southern', 'Texas St.', 'Texas State', 'Texas Tech', 'Texas Wesleyan', 'Texas-Arlington', 'Texas-Dallas', 'Texas-Tyler', 'Thiel', 'Thomas (GA)', 'Thomas More', 'Tiffin', 'Toccoa Falls', 'Toledo', 'Tougaloo', 'Towson', 'Trevecca Nazarene', 'Trinity (FL)', 'Trinity (TX)', 'Trinity (Texas)', 'Trinity Baptist', 'Trinity Christian', \"Trinity Int'l\", 'Troy', 'Truett-McConnell', 'Truman', 'Tulane', 'Tulsa', 'Tusculum', 'Tuskegee', 'UAB', 'UALR', 'UC Davis', 'UC Irvine', 'UC Riverside', 'UC San Diego', 'UC Santa Barb.', 'UC Santa Barbara', 'UC Santa Cruz', 'UCF', 'UCLA', 'UConn', 'UIC', 'UMBC', 'UMES', 'UMKC', 'UNC Asheville', 'UNC Greensboro', 'UNC Wilmington', 'UNCG', 'UNCW', 'UNI', 'UNLV', 'USC', 'UT Arlington ', 'UT Martin', 'UT Permian Basin', 'UT Tyler', 'UTEP', 'UTRGV', 'UTSA', 'UVa-Wise', 'Union (NY)', 'Union (TN)', 'University of the Southwest', 'Urbana', 'Urbana University', 'Ursinus', 'Utah', 'Utah St.', 'Utah State', 'Utah Valley', 'Utica', 'VCU', 'VMI', 'Valley City St.', 'Valley Forge Chrst.', 'Valparaiso', 'Vanderbilt', 'Vanguard', 'Vermont', 'Villanova', 'Virginia', 'Virginia Tech', 'Voorhees', 'Wabash', 'Wagner', 'Wake Forest', 'Waldorf', 'Walla Walla', 'Warner Southern', 'Warren Wilson', 'Wartburg', 'Wash. & Lee', 'Wash. Advent.', 'Washington', 'Washington (Md.)', 'Washington Adventist', 'Washington Col.', 'Washington St.', 'Wayland Baptist', 'Wayne St. (NE)', \"Webber Int'l\", 'Weber St.', 'Weber State', 'Wentworth', 'Wesley', 'West Alabama', 'West Coast Baptist', 'West Va. Tech', 'West Va. Wesleyan', 'West Virginia', 'Western Caro.', 'Western Ill.', 'Western Illinois', 'Western Ky.', 'Western Mich.', 'Western N.M.', 'Western New Eng.', 'Western Ore.', 'Western St.', 'Western State', 'Westmin. (Pa.)', 'Westmin. (Utah)', 'Westminster (MO)', 'Westminster (PA)', 'Wheaton (MA)', 'Wheelock', 'Whittier', 'Whitworth', 'Wichita St.', 'Wichita State', 'Widener', 'Wilberforce', 'Wiley', 'Willamette', 'William & Mary', 'William Carey', 'William Jessup', 'William Jewell', 'William Woods', 'Williams Baptist', 'Wilmington (DE)', 'Wilmington (Del.)', 'Wilmington (Ohio)', 'Wilson', 'Winthrop', 'Wis.-La Crosse', 'Wis.-Parkside', 'Wis.-Superior', 'Wisconsin', 'Wofford', 'Worcester St.', 'Wright St.', 'Wright State', 'Wyoming', 'Xavier', 'Xavier (LA)', 'Yale', 'York (NE)', 'York (PA)', 'Youngstown St.', 'nan']\n"
          ],
          "name": "stdout"
        }
      ]
    },
    {
      "cell_type": "markdown",
      "metadata": {
        "id": "shUqFgzEPzdk",
        "colab_type": "text"
      },
      "source": [
        "2.2 text normalzation"
      ]
    },
    {
      "cell_type": "code",
      "metadata": {
        "id": "JAzdtDak2Wwf",
        "colab_type": "code",
        "colab": {}
      },
      "source": [
        "normalizedTeamCache={}\n",
        "\n"
      ],
      "execution_count": 20,
      "outputs": []
    },
    {
      "cell_type": "markdown",
      "metadata": {
        "id": "UON6QJ7VEHDR",
        "colab_type": "text"
      },
      "source": [
        "we normalize the team names by looking up their Wikipedia pages using DuckDuckGo, and take the name of the page as new team name."
      ]
    },
    {
      "cell_type": "code",
      "metadata": {
        "id": "CF_YC8Hjb_6X",
        "colab_type": "code",
        "colab": {}
      },
      "source": [
        "from bs4 import BeautifulSoup\n",
        "import urllib\n",
        "import re\n",
        "import time\n",
        "\n",
        "def wpname(s):\n",
        "  if s in normalizedTeamCache:\n",
        "    return normalizedTeamCache[s]\n",
        "  #print(\"lookup \"+s)\n",
        "  q=urllib.parse.quote(\"wikipedia \"+s+\" men's basketball\").replace(\"%20\",\"+\")\n",
        "  #todo: cache results!\n",
        "  time.sleep(1) # do not flood duckduckgo\n",
        "  site = urllib.request.urlopen('http://duckduckgo.com/html?q='+q+'&kl=us-en&t=ffab&df=y')\n",
        "  data = site.read()\n",
        "  parsed = BeautifulSoup(data)\n",
        "  first_link = parsed.findAll('div', {'class': re.compile('links_main*')})[0].a['href']\n",
        "  linkRe = re.compile(r'.*uddg=')\n",
        "  link = urllib.parse.unquote( re.sub(\".*uddg=\",\"\",first_link))\n",
        "  wikipediaName = re.sub(\".*wiki/\",\"\",link)\n",
        "  #print(\"found \"+wikipediaName)\n",
        "  normalizedTeamCache[s]=wikipediaName\n",
        "  return wikipediaName"
      ],
      "execution_count": 8,
      "outputs": []
    },
    {
      "cell_type": "code",
      "metadata": {
        "id": "DKKN6khcPyY0",
        "colab_type": "code",
        "colab": {
          "base_uri": "https://localhost:8080/",
          "height": 144
        },
        "outputId": "8c7b956a-712c-4b7a-9416-754cc2d5067f"
      },
      "source": [
        "import re\n",
        "import string\n",
        "punctuation_table = str.maketrans('','',string.punctuation)\n",
        "print(\"updating dfteams\")\n",
        "dfteams.team=dfteams.team.apply(lambda x:wpname(str(x).strip().translate(punctuation_table)))\n",
        "print(\"updating dfgames.home_team\")\n",
        "dfgames.home_team=dfgames.home_team.apply(lambda x:wpname(str(x).strip().translate(punctuation_table)))\n",
        "print(\"updating dfgames.away_team\")\n",
        "dfgames.away_team=dfgames.away_team.apply(lambda x:wpname(str(x).strip().translate(punctuation_table)))\n",
        "\n",
        "print(sorted(dfteams.team.unique()))\n",
        "print(sorted(dfgames.home_team.unique()))\n",
        "print(sorted(dfgames.away_team.unique()))\n"
      ],
      "execution_count": 15,
      "outputs": [
        {
          "output_type": "stream",
          "text": [
            "updating dfteams\n",
            "updating dfgames.home_team\n",
            "updating dfgames.away_team\n",
            "['1926%E2%80%9327_Vanderbilt_Commodores_men%27s_basketball_team', '1972_Olympic_Men%27s_Basketball_Final', '1973_ACC_Men%27s_Basketball_Tournament', '2018%E2%80%9319_UMKC_Kangaroos_men%27s_basketball_team', '2019%E2%80%9320_Siena_Saints_men%27s_basketball_team', '2019_SEC_Men%27s_Basketball_Tournament', 'Abilene_Christian_Wildcats_men%27s_basketball', 'Alabama_Crimson_Tide_men%27s_basketball', 'Alabama_State_Hornets_basketball', 'Albany_Great_Danes_men%27s_basketball', 'Alcorn_State_Braves_basketball', 'American_Eagles_men%27s_basketball', 'Appalachian_State_Mountaineers_men%27s_basketball', 'Arizona_State_Sun_Devils_men%27s_basketball', 'Arizona_Wildcats_men%27s_basketball', 'Arkansas%E2%80%93Pine_Bluff_Golden_Lions_men%27s_basketball', 'Arkansas_Razorbacks_men%27s_basketball', 'Arkansas_State_Red_Wolves_men%27s_basketball', 'Army_Black_Knights_men%27s_basketball', 'Auburn_Tigers_men%27s_basketball', 'Austin_Peay_Governors_basketball', 'BYU_Cougars_men%27s_basketball', 'Ball_State_Cardinals_men%27s_basketball', 'Basketball', 'Baylor_Bears_basketball', 'Belmont_Bruins_men%27s_basketball', 'Bethune%E2%80%93Cookman_Wildcats_men%27s_basketball', 'Binghamton_Bearcats_men%27s_basketball', 'Boise_State_Broncos_men%27s_basketball', 'Boston_College_Eagles_men%27s_basketball', 'Boston_University_Terriers_men%27s_basketball', 'Bowling_Green_Falcons_men%27s_basketball', 'Brown_Bears_men%27s_basketball', 'Bryant_Bulldogs_men%27s_basketball', 'Bucknell_Bison_men%27s_basketball', 'Butler_Bulldogs_men%27s_basketball', 'Cal_State_Bakersfield_Roadrunners_men%27s_basketball', 'Cal_State_Fullerton_Titans_men%27s_basketball', 'Cal_State_Northridge_Matadors_men%27s_basketball', 'California_Baptist_Lancers_men%27s_basketball', 'California_Golden_Bears_men%27s_basketball', 'Campbell_Fighting_Camels_basketball', 'Category:Montana_State_Bobcats_men%27s_basketball', 'Central_Arkansas_Bears_basketball', 'Central_Connecticut_Blue_Devils_men%27s_basketball', 'Central_Michigan_Chippewas_men%27s_basketball', 'Charleston_Southern_Buccaneers_men%27s_basketball', 'Charlotte_49ers_men%27s_basketball', 'Chattanooga_Mocs_men%27s_basketball', 'Chicago_State_Cougars_men%27s_basketball', 'Cincinnati_Bearcats_men%27s_basketball', 'Clemson_Tigers_men%27s_basketball', 'Cleveland_State_Vikings_men%27s_basketball', 'Coastal_Carolina_Chanticleers_men%27s_basketball', 'Colgate_Raiders_men%27s_basketball', 'Colorado_Buffaloes_men%27s_basketball', 'Colorado_State_Rams_men%27s_basketball', 'Columbia_Lions_men%27s_basketball', 'Coppin_State_Eagles_men%27s_basketball', 'Creighton_Bluejays_men%27s_basketball', 'Dartmouth_Big_Green_men%27s_basketball', 'Davidson_Wildcats_men%27s_basketball', 'Dayton_Flyers_men%27s_basketball', 'DePaul_Blue_Demons_men%27s_basketball', 'Delaware_State_Hornets_men%27s_basketball', 'Denver_Pioneers_men%27s_basketball', 'Detroit_Mercy_Titans_men%27s_basketball', 'Drexel_Dragons_men%27s_basketball', 'Duke_Blue_Devils_men%27s_basketball', 'Duquesne_Dukes_men%27s_basketball', 'East_Carolina_Pirates_men%27s_basketball', 'East_Tennessee_State_Buccaneers_men%27s_basketball', 'Eastern_Illinois_Panthers_men%27s_basketball', 'Eastern_Kentucky_Colonels_men%27s_basketball', 'Eastern_Michigan_Eagles_men%27s_basketball', 'Eastern_Washington_Eagles_men%27s_basketball', 'Elon_Phoenix_men%27s_basketball', 'Evansville_Purple_Aces_men%27s_basketball', 'Fairfield_Stags_men%27s_basketball', 'Fairleigh_Dickinson_Knights_men%27s_basketball', 'Florida_Atlantic_Owls_men%27s_basketball', 'Florida_Gators_men%27s_basketball', 'Florida_Gulf_Coast_Eagles_men%27s_basketball', 'Florida_State_Seminoles_men%27s_basketball', 'Fordham_Rams_men%27s_basketball', 'Fresno_State_Bulldogs_men%27s_basketball', 'Furman_Paladins_men%27s_basketball', 'Gardner%E2%80%93Webb_Runnin%27_Bulldogs_men%27s_basketball', 'George_Mason_Patriots_men%27s_basketball', 'George_Washington_Colonials_men%27s_basketball', 'Georgetown_Hoyas_men%27s_basketball', 'Georgia_Southern_Eagles_men%27s_basketball', 'Georgia_State_Panthers_men%27s_basketball', 'Georgia_Tech_Yellow_Jackets_men%27s_basketball', 'Georgia_men%27s_national_basketball_team', 'Gonzaga_Bulldogs_men%27s_basketball', 'Grambling_State_Tigers_men%27s_basketball', 'Grand_Canyon_Antelopes_men%27s_basketball', 'Green_Bay_Phoenix_men%27s_basketball', 'Hampton_Pirates_men%27s_basketball', 'Hartford_Hawks_men%27s_basketball', 'Harvard_Crimson_men%27s_basketball', 'High_Point_Panthers_men%27s_basketball', 'Hofstra_Pride_men%27s_basketball', 'Houston_Baptist_Huskies_men%27s_basketball', 'Houston_Cougars_men%27s_basketball', 'IUPUI_Jaguars_men%27s_basketball', 'Idaho_State_Bengals_men%27s_basketball', 'Idaho_Vandals_men%27s_basketball', 'Illinois_Fighting_Illini_men%27s_basketball', 'Illinois_State_Redbirds_men%27s_basketball', 'Incarnate_Word_Cardinals', 'Indiana_Hoosiers_men%27s_basketball', 'Indiana_State_Sycamores_men%27s_basketball', 'Iona_Gaels_men%27s_basketball', 'Iowa_Hawkeyes_men%27s_basketball', 'Jackson_State_Tigers_basketball', 'Jacksonville_State_Gamecocks_men%27s_basketball', 'James_Madison_Dukes_men%27s_basketball', 'Kansas_Jayhawks_men%27s_basketball', 'Kansas_State_Wildcats_men%27s_basketball', 'Kennesaw_State_Owls_men%27s_basketball', 'Kent_State_Golden_Flashes_men%27s_basketball', 'Kentucky_Wildcats_men%27s_basketball', 'LIU_Brooklyn_Blackbirds_men%27s_basketball', 'LSU_Tigers_basketball', 'La_Salle_Explorers_men%27s_basketball', 'Lafayette_Leopards_men%27s_basketball', 'Lamar_Cardinals_basketball', 'Lehigh_Mountain_Hawks_men%27s_basketball', 'Liberty_Flames_basketball', 'Lipscomb_Bisons_men%27s_basketball', 'List_of_NCAA_Division_I_men%27s_basketball_champions', 'Little_Rock_Trojans_men%27s_basketball', 'Longwood_Lancers_men%27s_basketball', 'Louisiana_Ragin%27_Cajuns_men%27s_basketball', 'Louisiana_Tech_Bulldogs_basketball', 'Louisville_Cardinals_men%27s_basketball', 'Loyola_Marymount_Lions_men%27s_basketball', 'Loyola_Ramblers_men%27s_basketball', 'MAAC_Men%27s_Basketball_Tournament', 'Maine_Black_Bears_men%27s_basketball', 'Manhattan_Jaspers_basketball', 'Marist_Red_Foxes_men%27s_basketball', 'Marquette_Golden_Eagles_men%27s_basketball', 'Marshall_Thundering_Herd_men%27s_basketball', 'Maryland_Eastern_Shore_Hawks_men%27s_basketball', 'Maryland_Terrapins_men%27s_basketball', 'Massachusetts', 'McNeese_State_University', 'Memphis_Tigers_men%27s_basketball', 'Miami_Hurricanes_men%27s_basketball', 'Michigan_State_Spartans_men%27s_basketball', 'Middle_Tennessee_Blue_Raiders_men%27s_basketball', 'Milwaukee_Panthers_men%27s_basketball', 'Minnesota_Golden_Gophers_men%27s_basketball', 'Mississippi_State_Bulldogs_men%27s_basketball', 'Mississippi_Valley_State_Delta_Devils_basketball', 'Missouri_State_Bears_basketball', 'Missouri_Tigers_men%27s_basketball', 'Monmouth_Hawks_men%27s_basketball', 'Morehead_State_Eagles_men%27s_basketball', 'Mount_St._Mary%27s_Mountaineers_men%27s_basketball', 'NC_State_Wolfpack_men%27s_basketball', 'Navy_Midshipmen_men%27s_basketball', 'Nebraska_Cornhuskers_men%27s_basketball', 'New_Hampshire_Wildcats_men%27s_basketball', 'Niagara_Purple_Eagles_men%27s_basketball', 'Nicholls_Colonels_men%27s_basketball', 'Norfolk_State_Spartans_men%27s_basketball', 'North_Alabama_Lions_men%27s_basketball', 'North_Carolina_Central_Eagles_men%27s_basketball', 'North_Carolina_Tar_Heels_men%27s_basketball', 'North_Dakota_State_Bison_men%27s_basketball', 'North_Florida_Ospreys_men%27s_basketball', 'North_Texas_Mean_Green_men%27s_basketball', 'Northeastern_Huskies_men%27s_basketball', 'Northern_Arizona_Lumberjacks_men%27s_basketball', 'Northern_Colorado_Bears_men%27s_basketball', 'Northern_Illinois_Huskies_men%27s_basketball', 'Northern_Iowa_Panthers_men%27s_basketball', 'Northern_Kentucky_Norse_men%27s_basketball', 'Northwestern_Wildcats_men%27s_basketball', 'Notre_Dame_Fighting_Irish_men%27s_basketball', 'Oakland_Golden_Grizzlies_men%27s_basketball', 'Ohio_State_Buckeyes_men%27s_basketball', 'Oklahoma_Sooners_men%27s_basketball', 'Oklahoma_State_Cowboys_basketball', 'Old_Dominion_Monarchs_basketball', 'Oregon_Ducks_men%27s_basketball', 'Pacific_Tigers_men%27s_basketball', 'Penn_Quakers_men%27s_basketball', 'Penn_State_Nittany_Lions_basketball', 'Pepperdine_Waves_men%27s_basketball', 'Pittsburgh_Panthers_men%27s_basketball', 'Portland_Pilots_men%27s_basketball', 'Portland_State_Vikings_men%27s_basketball', 'Presbyterian_Blue_Hose_men%27s_basketball', 'Princeton_Tigers_men%27s_basketball', 'Providence_Friars_men%27s_basketball', 'Purdue_Boilermakers_men%27s_basketball', 'Purdue_Fort_Wayne_Mastodons_men%27s_basketball', 'Quinnipiac_Bobcats_men%27s_basketball', 'Rhode_Island_Rams_men%27s_basketball', 'Rice_Owls_men%27s_basketball', 'Richmond_Spiders_men%27s_basketball', 'Rider_Broncs_men%27s_basketball', 'Rutgers_Scarlet_Knights_men%27s_basketball', 'SEC_Men%27s_Basketball_Tournament', 'SIU_Edwardsville_Cougars_men%27s_basketball', 'SMU_Mustangs_men%27s_basketball', 'Sacramento_State_Hornets_men%27s_basketball', 'Sacred_Heart_Pioneers_men%27s_basketball', 'Saint_Francis_Red_Flash_men%27s_basketball', 'Saint_Louis_Billikens_men%27s_basketball', 'San_Francisco_Dons_men%27s_basketball', 'Santa_Clara_Broncos_men%27s_basketball', 'Savannah_State_Tigers_basketball', 'Seattle_Redhawks_men%27s_basketball', 'Seton_Hall_Pirates_men%27s_basketball', 'South_Alabama_Jaguars_men%27s_basketball', 'South_Carolina_Gamecocks_men%27s_basketball', 'South_Dakota_Coyotes_men%27s_basketball', 'South_Dakota_State_Jackrabbits_men%27s_basketball', 'South_Florida_Bulls_men%27s_basketball', 'Southeast_Missouri_State_Redhawks_men%27s_basketball', 'Southeastern_Louisiana_Lions_basketball', 'Southern_Illinois_Salukis_men%27s_basketball', 'Southern_Miss_Golden_Eagles_basketball', 'Southern_Utah_Thunderbirds_men%27s_basketball', 'St._Bonaventure_Bonnies_men%27s_basketball', 'St._Francis_Brooklyn_Terriers_men%27s_basketball', 'St._John%27s_Red_Storm_men%27s_basketball', 'Stanford_Cardinal_men%27s_basketball', 'Stephen_F._Austin_Lumberjacks_basketball', 'Stetson_Hatters_men%27s_basketball', 'Stony_Brook_Seawolves_men%27s_basketball', 'Syracuse_Orange_men%27s_basketball', 'TCU_Horned_Frogs_men%27s_basketball', 'Temple_Owls_men%27s_basketball', 'Tennessee_Tech_Golden_Eagles_men%27s_basketball', 'Tennessee_Volunteers_basketball', 'Texas_Longhorns_men%27s_basketball', 'Texas_Southern_Tigers_basketball', 'Texas_State_Bobcats_men%27s_basketball', 'Texas_Tech_Red_Raiders_basketball', 'The_Citadel_Bulldogs_basketball', 'Toledo_Rockets_men%27s_basketball', 'Towson_Tigers_men%27s_basketball', 'Tulane_Green_Wave_men%27s_basketball', 'Tulsa_Golden_Hurricane_men%27s_basketball', 'UAB_Blazers_men%27s_basketball', 'UCLA_Bruins_men%27s_basketball', 'UC_Irvine_Anteaters_men%27s_basketball', 'UC_Riverside_Highlanders_men%27s_basketball', 'UC_Santa_Barbara_Gauchos_men%27s_basketball', 'UMBC_Retrievers_men%27s_basketball', 'UNC_Asheville_Bulldogs_men%27s_basketball', 'UNC_Greensboro_Spartans_men%27s_basketball', 'UNLV_Runnin%27_Rebels_basketball', 'USC_Trojans_men%27s_basketball', 'USC_Upstate_Spartans_men%27s_basketball', 'UTEP_Miners_men%27s_basketball', 'UT_Martin_Skyhawks_men%27s_basketball', 'United_States_men%27s_national_basketball_team', 'University_of_Massachusetts_Lowell', 'Utah_State_Aggies_men%27s_basketball', 'Utah_Utes_men%27s_basketball', 'Utah_Valley_Wolverines_men%27s_basketball', 'VCU_Rams_men%27s_basketball', 'Valparaiso_Crusaders_men%27s_basketball', 'Vermont_Catamounts_men%27s_basketball', 'Villanova_Wildcats_men%27s_basketball', 'Virginia_Cavaliers_men%27s_basketball', 'Virginia_Tech_Hokies_men%27s_basketball', 'Wagner_Seahawks_men%27s_basketball', 'Wake_Forest_Demon_Deacons_men%27s_basketball', 'Washington_Huskies_men%27s_basketball', 'Washington_State_Cougars_men%27s_basketball', 'Weber_State_Wildcats_men%27s_basketball', 'West_Virginia_Mountaineers_men%27s_basketball', 'Western_Carolina_Catamounts_men%27s_basketball', 'Western_Illinois_Leathernecks_men%27s_basketball', 'Western_Michigan_Broncos_men%27s_basketball', 'Wichita_State_Shockers_men%27s_basketball', 'William_%26_Mary_Tribe_men%27s_basketball', 'Wilmington,_North_Carolina', 'Winthrop_Eagles_men%27s_basketball', 'Wisconsin_Badgers_men%27s_basketball', 'Wofford_Terriers_men%27s_basketball', 'Wyoming_Cowboys_and_Cowgirls', 'Yale_Bulldogs_men%27s_basketball', 'Youngstown_State_Penguins_men%27s_basketball']\n",
            "['1938%E2%80%9339_Long_Island_Blackbirds_men%27s_basketball_team', '1982_Virginia_vs._Chaminade_men%27s_basketball_game', '2015%E2%80%9316_IPFW_Mastodons_men%27s_basketball_team', '2018%E2%80%9319_UMKC_Kangaroos_men%27s_basketball_team', '2019%E2%80%9320_McNeese_State_Cowboys_basketball_team', 'ACC_Men%27s_Basketball_Tournament', 'Abilene_Christian_Wildcats_men%27s_basketball', 'Air_Force_Falcons_men%27s_basketball', 'Akron_Zips_men%27s_basketball', 'Alabama_Crimson_Tide_men%27s_basketball', 'Alabama_State_Hornets_basketball', 'Albany_Great_Danes_men%27s_basketball', 'Alcorn_State_Braves_basketball', 'Anchorage,_Alaska', 'Appalachian_State_Mountaineers_men%27s_basketball', 'Arizona_State_Sun_Devils_men%27s_basketball', 'Arizona_Wildcats_men%27s_basketball', 'Arkansas_Razorbacks_men%27s_basketball', 'Arkansas_State_Red_Wolves_men%27s_basketball', 'Army_Black_Knights_men%27s_basketball', 'Auburn_Tigers_men%27s_basketball', 'Austin_Peay_Governors_basketball', 'Ave_Maria_Gyrenes', 'BYU%E2%80%93Hawaii_Seasiders_men%27s_basketball', 'BYU_Cougars_men%27s_basketball', 'Ball_State_Cardinals_men%27s_basketball', 'Basketball', 'Baylor_Bears_basketball', 'Belmont_Bruins_men%27s_basketball', 'Bethune%E2%80%93Cookman_Wildcats_men%27s_basketball', 'Binghamton_Bearcats_men%27s_basketball', 'Boise_State_Broncos_men%27s_basketball', 'Boston_College_Eagles_men%27s_basketball', 'Boston_University_Terriers_men%27s_basketball', 'Bowling_Green_Falcons_men%27s_basketball', 'Bradley_Braves_men%27s_basketball', 'Brown_Bears_men%27s_basketball', 'Bryant_Bulldogs_men%27s_basketball', 'Bucknell_Bison_men%27s_basketball', 'Buffalo_Bulls_men%27s_basketball', 'Butler_Bulldogs_men%27s_basketball', 'Cal_Poly_Mustangs_men%27s_basketball', 'Cal_State_Bakersfield_Roadrunners', 'Cal_State_Bakersfield_Roadrunners_men%27s_basketball', 'Cal_State_Fullerton_Titans_men%27s_basketball', 'Cal_State_Northridge_Matadors_men%27s_basketball', 'California_Baptist_Lancers_men%27s_basketball', 'California_Golden_Bears_men%27s_basketball', 'Campbell_Fighting_Camels_basketball', 'Canisius_Golden_Griffins_men%27s_basketball', 'Category:American_men%27s_basketball_players', 'Category:Rowan_Profs_men%27s_basketball', 'Centenary_Gentlemen_basketball', 'Central_Connecticut_Blue_Devils_men%27s_basketball', 'Central_Michigan_Chippewas_men%27s_basketball', 'Central_Park', 'Charleston_Southern_Buccaneers_men%27s_basketball', 'Charlotte_49ers_men%27s_basketball', 'Chattanooga_Mocs_men%27s_basketball', 'Chicago_State_Cougars_men%27s_basketball', 'Chris_Mooney_(basketball)', 'Cincinnati_Bearcats_men%27s_basketball', 'Clemson_Tigers_men%27s_basketball', 'Cleveland_State_Vikings_men%27s_basketball', 'Coastal_Carolina_Chanticleers_men%27s_basketball', 'Colgate_Raiders_men%27s_basketball', 'College_of_Charleston_Cougars_men%27s_basketball', 'Colorado_Buffaloes_men%27s_basketball', 'Colorado_State_Rams_men%27s_basketball', 'Columbia_Lions_men%27s_basketball', 'Coppin_State_Eagles_men%27s_basketball', 'Cornell_Big_Red_men%27s_basketball', 'Creighton_Bluejays_men%27s_basketball', 'Dartmouth_Big_Green_men%27s_basketball', 'Davidson_Wildcats_men%27s_basketball', 'Dayton_Flyers_men%27s_basketball', 'DePaul_Blue_Demons_men%27s_basketball', 'Delaware_State_Hornets_men%27s_basketball', 'Denver_Pioneers_men%27s_basketball', 'Detroit_Mercy_Titans_men%27s_basketball', 'Drake_Bulldogs_men%27s_basketball', 'Drexel_Dragons_men%27s_basketball', 'Duke_Blue_Devils_men%27s_basketball', 'Duquesne_Dukes_men%27s_basketball', 'East_Carolina_Pirates_men%27s_basketball', 'East_Tennessee_State_Buccaneers_men%27s_basketball', 'Eastern_Illinois_Panthers_men%27s_basketball', 'Eastern_Kentucky_Colonels_men%27s_basketball', 'Eastern_Michigan_Eagles_men%27s_basketball', 'Eastern_Washington_Eagles_men%27s_basketball', 'Elon_Phoenix_men%27s_basketball', 'Evansville_Purple_Aces_men%27s_basketball', 'FIU_Panthers_men%27s_basketball', 'Fairfield_Stags_men%27s_basketball', 'Fairleigh_Dickinson_Knights_men%27s_basketball', 'Florida_Atlantic_Owls_men%27s_basketball', 'Florida_Gators_men%27s_basketball', 'Florida_Gulf_Coast_Eagles_men%27s_basketball', 'Florida_State_Seminoles_men%27s_basketball', 'Fordham_Rams_men%27s_basketball', 'Fresno_State_Bulldogs_men%27s_basketball', 'Furman_Paladins_men%27s_basketball', 'Gardner%E2%80%93Webb_Runnin%27_Bulldogs_men%27s_basketball', 'George_Mason_Patriots_men%27s_basketball', 'George_Washington_Colonials_men%27s_basketball', 'Georgetown_Hoyas_men%27s_basketball', 'Georgia_Southern_Eagles_men%27s_basketball', 'Georgia_State_Panthers_men%27s_basketball', 'Georgia_Tech_Yellow_Jackets_men%27s_basketball', 'Georgia_men%27s_national_basketball_team', 'Gonzaga_Bulldogs_men%27s_basketball', 'Grambling_State_Tigers_men%27s_basketball', 'Grand_Canyon_Antelopes_men%27s_basketball', 'Green_Bay_Phoenix_men%27s_basketball', 'Hampton_Pirates_men%27s_basketball', 'Hartford_Hawks_men%27s_basketball', 'Harvard_Crimson_men%27s_basketball', 'High_Point_Panthers_men%27s_basketball', 'Hofstra_Pride_men%27s_basketball', 'Holy_Cross_Crusaders_men%27s_basketball', 'Houston_Baptist_Huskies_men%27s_basketball', 'Houston_Cougars_men%27s_basketball', 'Howard_Bison_men%27s_basketball', 'Humboldt_State_Lumberjacks_men%27s_basketball', 'IUPUI_Jaguars_men%27s_basketball', 'Idaho_State_Bengals_men%27s_basketball', 'Idaho_Vandals_men%27s_basketball', 'Illinois_Fighting_Illini_men%27s_basketball', 'Illinois_State_Redbirds_men%27s_basketball', 'Incarnate_Word_Cardinals_men%27s_basketball', 'Indiana_Hoosiers_men%27s_basketball', 'Indiana_State_Sycamores_men%27s_basketball', 'Iona_Gaels_men%27s_basketball', 'Iowa_Hawkeyes_men%27s_basketball', 'Iowa_State_Cyclones_men%27s_basketball', 'Jackson_State_Tigers_basketball', 'Jacksonville_State_Gamecocks_men%27s_basketball', 'James_Madison_Dukes_men%27s_basketball', 'Kansas_Jayhawks_men%27s_basketball', 'Kansas_State_Wildcats_men%27s_basketball', 'Kennesaw_State_Owls_men%27s_basketball', 'Kent_State_Golden_Flashes_men%27s_basketball', 'Kentucky_Wildcats_men%27s_basketball', 'LIU_Brooklyn_Blackbirds_men%27s_basketball', 'LSU_Tigers_basketball', 'La_Salle_Explorers_men%27s_basketball', 'Lafayette_Leopards_men%27s_basketball', 'Lamar_Cardinals_basketball', 'Lehigh_Mountain_Hawks_men%27s_basketball', 'Liberty_Flames_basketball', 'Lipscomb_Bisons_men%27s_basketball', 'Little_Rock_Trojans_men%27s_basketball', 'Long_Beach_State_Beach_men%27s_basketball', 'Longwood_Lancers_men%27s_basketball', 'Louisiana_Ragin%27_Cajuns_men%27s_basketball', 'Louisiana_Tech_Bulldogs_basketball', 'Louisville_Cardinals_men%27s_basketball', 'Loyola_Greyhounds_men%27s_basketball', 'Loyola_Marymount_Lions_men%27s_basketball', 'Loyola_Ramblers_men%27s_basketball', 'Maine_Black_Bears_men%27s_basketball', 'Manhattan_Jaspers_basketball', 'Marist_Red_Foxes_men%27s_basketball', 'Marquette_Golden_Eagles_men%27s_basketball', 'Marshall_Thundering_Herd_men%27s_basketball', 'Maryland_Eastern_Shore_Hawks_men%27s_basketball', 'Maryland_Terrapins_men%27s_basketball', 'Massachusetts', 'McNeese_State_University', 'Memphis_Tigers_men%27s_basketball', 'Mercer_Bears_men%27s_basketball', 'Miami_Hurricanes_men%27s_basketball', 'Miami_RedHawks_men%27s_basketball', 'Michigan_State_Spartans_men%27s_basketball', 'Mid-Atlantic_accent', 'Middle_Tennessee_Blue_Raiders_men%27s_basketball', 'Milwaukee_Panthers_men%27s_basketball', 'Minnesota_Golden_Gophers_men%27s_basketball', 'Mississippi_State_Bulldogs_men%27s_basketball', 'Missouri_State_Bears_basketball', 'Missouri_Tigers_men%27s_basketball', 'Monmouth_Hawks_men%27s_basketball', 'Montana_State_Bobcats_men%27s_basketball', 'Morehead_State_Eagles_men%27s_basketball', 'Morgan_State_Bears_men%27s_basketball', 'Mount_St._Mary%27s_Mountaineers_men%27s_basketball', 'Murray_State_Racers_men%27s_basketball', 'NCAA_Division_I_Men%27s_Basketball_Tournament', 'NC_State_Wolfpack_men%27s_basketball', 'NJIT_Highlanders_men%27s_basketball', 'Navy_Midshipmen_men%27s_basketball', 'Nebraska_Cornhuskers_men%27s_basketball', 'Nevada_Wolf_Pack_men%27s_basketball', 'New_Hampshire_Wildcats_men%27s_basketball', 'New_Mexico_State_Aggies_men%27s_basketball', 'New_Orleans_Privateers_men%27s_basketball', 'Niagara_Purple_Eagles_men%27s_basketball', 'Nicholls_Colonels_men%27s_basketball', 'Norfolk_State_Spartans_men%27s_basketball', 'North_Alabama_Lions_men%27s_basketball', 'North_Carolina_Central_Eagles_men%27s_basketball', 'North_Carolina_Tar_Heels_men%27s_basketball', 'North_Dakota_State_Bison_men%27s_basketball', 'North_Florida_Ospreys_men%27s_basketball', 'North_Texas_Mean_Green_men%27s_basketball', 'Northeastern_Huskies_men%27s_basketball', 'Northern_Arizona_Lumberjacks_men%27s_basketball', 'Northern_Iowa_Panthers_men%27s_basketball', 'Northern_Kentucky_Norse_men%27s_basketball', 'Northwestern_Wildcats_men%27s_basketball', 'Notre_Dame_Fighting_Irish_men%27s_basketball', 'Oakland_Golden_Grizzlies_men%27s_basketball', 'Ohio_State_Buckeyes_men%27s_basketball', 'Oklahoma_Sooners_men%27s_basketball', 'Oklahoma_State_Cowboys_basketball', 'Old_Dominion_Monarchs_basketball', 'Ole_Miss_Rebels_men%27s_basketball', 'Omaha_Mavericks_men%27s_basketball', 'Oral_Roberts_Golden_Eagles_men%27s_basketball', 'Oregon_Ducks_men%27s_basketball', 'Oregon_State_Beavers_men%27s_basketball', 'Pacific_Tigers_men%27s_basketball', 'Penn_Quakers_men%27s_basketball', 'Penn_State_Nittany_Lions_basketball', 'Pepperdine_Waves_men%27s_basketball', 'Pine_Bluff,_Arkansas', 'Pittsburgh_Panthers_men%27s_basketball', 'Portland_Pilots_men%27s_basketball', 'Portland_State_Vikings_men%27s_basketball', 'Prairie_View_A%26M_Panthers_basketball', 'Presbyterian_Blue_Hose_men%27s_basketball', 'Princeton_Tigers_men%27s_basketball', 'Providence_Friars_men%27s_basketball', 'Purdue_Boilermakers_men%27s_basketball', 'Purdue_Fort_Wayne_Mastodons_men%27s_basketball', 'Quinnipiac_Bobcats_men%27s_basketball', 'Radford_Highlanders_men%27s_basketball', 'Rhode_Island_Rams_men%27s_basketball', 'Rice_Owls_men%27s_basketball', 'Richmond_Spiders_men%27s_basketball', 'Rider_Broncs_men%27s_basketball', 'Robert_Morris_Colonials_men%27s_basketball', 'Rutgers_Scarlet_Knights_men%27s_basketball', 'SIU_Edwardsville_Cougars_men%27s_basketball', 'SMU_Mustangs_men%27s_basketball', 'Sacramento_State_Hornets_men%27s_basketball', 'Sacred_Heart_Pioneers_men%27s_basketball', 'Saint_Francis_Red_Flash_men%27s_basketball', 'Saint_Joseph%27s_Hawks_men%27s_basketball', 'Saint_Louis_Billikens_men%27s_basketball', 'Saint_Mary%27s_Gaels_men%27s_basketball', 'Sam_Houston_State_Bearkats_men%27s_basketball', 'San_Diego_State_Aztecs_men%27s_basketball', 'San_Francisco_Dons_men%27s_basketball', 'San_Jose_State_Spartans_men%27s_basketball', 'Santa_Clara_Broncos_men%27s_basketball', 'Savannah_State_Tigers_basketball', 'Savannah_State_Tigers_men%27s_basketball', 'Seattle_Redhawks_men%27s_basketball', 'Seton_Hall_Pirates_men%27s_basketball', 'Siena_Saints_men%27s_basketball', 'South_Alabama_Jaguars_men%27s_basketball', 'South_Carolina_Gamecocks_men%27s_basketball', 'South_Dakota_Coyotes_men%27s_basketball', 'South_Florida_Bulls_men%27s_basketball', 'Southeast_Missouri_State_Redhawks_men%27s_basketball', 'Southeastern_Louisiana_Lions_basketball', 'Southern_Illinois_Salukis_men%27s_basketball', 'Southern_Miss_Golden_Eagles_basketball', 'Southern_Utah_Thunderbirds_men%27s_basketball', 'St._Bonaventure_Bonnies_men%27s_basketball', 'St._Francis_Brooklyn_Terriers_men%27s_basketball', 'St._John%27s_Red_Storm_men%27s_basketball', 'Stanford_Cardinal_men%27s_basketball', 'Stephen_F._Austin_Lumberjacks_basketball', 'Stetson_Hatters_men%27s_basketball', 'Stony_Brook_Seawolves_men%27s_basketball', 'Syracuse_Orange_men%27s_basketball', 'TCU_Horned_Frogs_men%27s_basketball', 'Temple_Owls_men%27s_basketball', 'Tennessee_Tech_Golden_Eagles_men%27s_basketball', 'Tennessee_Volunteers_basketball', 'Texas%E2%80%93Rio_Grande_Valley_Vaqueros_men%27s_basketball', 'Texas_A%26M_Aggies_men%27s_basketball', 'Texas_Longhorns_men%27s_basketball', 'Texas_Southern_Tigers_basketball', 'Texas_State_Bobcats_men%27s_basketball', 'Texas_Tech_Red_Raiders_basketball', 'The_Citadel_Bulldogs_basketball', 'Toledo_Rockets_men%27s_basketball', 'Towson_Tigers_men%27s_basketball', 'Troy_Trojans_men%27s_basketball', 'Tulane_Green_Wave_men%27s_basketball', 'Tulsa_Golden_Hurricane_men%27s_basketball', 'UAB_Blazers_men%27s_basketball', 'UALR_Trojans_men%27s_basketball', 'UCF_Knights_men%27s_basketball', 'UCLA_Bruins_men%27s_basketball', 'UC_Davis_Aggies_men%27s_basketball', 'UC_Irvine_Anteaters_men%27s_basketball', 'UC_Riverside_Highlanders_men%27s_basketball', 'UC_Santa_Barbara_Gauchos_men%27s_basketball', 'UConn_Huskies_men%27s_basketball', 'UIC_Flames_men%27s_basketball', 'UMBC_Retrievers_men%27s_basketball', 'UMES_Hawks_men%27s_basketball', 'UMass_Lowell_River_Hawks_men%27s_basketball', 'UNC_Asheville_Bulldogs_men%27s_basketball', 'UNC_Greensboro_Spartans_men%27s_basketball', 'UNC_Wilmington_Seahawks_men%27s_basketball', 'UNLV_Runnin%27_Rebels_basketball', 'USC_Trojans_men%27s_basketball', 'USC_Upstate_Spartans_men%27s_basketball', 'UTEP_Miners_men%27s_basketball', 'UTSA_Roadrunners_men%27s_basketball', 'UT_Arlington_Mavericks_men%27s_basketball', 'UT_Martin_Skyhawks_men%27s_basketball', 'University_of_the_Southwest', 'Utah_State_Aggies_men%27s_basketball', 'Utah_Utes_men%27s_basketball', 'Utah_Valley_Wolverines_men%27s_basketball', 'VCU_Rams_men%27s_basketball', 'VMI_Keydets_basketball', 'Valparaiso_Crusaders_men%27s_basketball', 'Vanderbilt_Commodores_men%27s_basketball', 'Vermont_Catamounts_men%27s_basketball', 'Villanova_Wildcats_men%27s_basketball', 'Virginia_Cavaliers_men%27s_basketball', 'Virginia_Tech_Hokies_men%27s_basketball', 'Wagner_Seahawks_men%27s_basketball', 'Wake_Forest_Demon_Deacons_men%27s_basketball', 'Washington_Huskies_men%27s_basketball', 'Washington_State_Cougars_men%27s_basketball', 'Weber_State_Wildcats_men%27s_basketball', 'West_Virginia_Mountaineers_men%27s_basketball', 'Western_Carolina_Catamounts_men%27s_basketball', 'Western_Illinois_Leathernecks_men%27s_basketball', 'Western_Michigan_Broncos_men%27s_basketball', 'Wichita_State_Shockers_men%27s_basketball', 'William_%26_Mary_Tribe_men%27s_basketball', 'Winthrop_Eagles_men%27s_basketball', 'Wisconsin_Badgers_men%27s_basketball', 'Wofford_Terriers_men%27s_basketball', 'Wright_State_Raiders_men%27s_basketball', 'Wyoming_Cowboys_and_Cowgirls', 'Xavier_Musketeers_men%27s_basketball', 'Yale_Bulldogs_men%27s_basketball', 'Youngstown_State_Penguins_men%27s_basketball']\n",
            "['', '%C3%8DR_men%27s_basketball', '1938%E2%80%9339_Long_Island_Blackbirds_men%27s_basketball_team', '1949%E2%80%9350_CCNY_Beavers_men%27s_basketball_team', '1965%E2%80%9366_Texas_Western_Miners_men%27s_basketball_team', '1982_Virginia_vs._Chaminade_men%27s_basketball_game', '1989_NCAA_Division_I_Men%27s_Basketball_Tournament', '2015%E2%80%9316_IPFW_Mastodons_men%27s_basketball_team', '2018%E2%80%9319_UMKC_Kangaroos_men%27s_basketball_team', '2019%E2%80%9320_McNeese_State_Cowboys_basketball_team', '2020_NCAA_Division_I_Men%27s_Basketball_Tournament', 'ACC_Men%27s_Basketball_Tournament', 'Aaron_Miles_(basketball)', 'Abilene_Christian_Wildcats_men%27s_basketball', 'Adrian_Moss_(basketball,_born_1988)', 'Air_Force_Falcons_men%27s_basketball', 'Akron_Zips_men%27s_basketball', 'Alabama_Crimson_Tide_men%27s_basketball', 'Alabama_State_Hornets_basketball', 'Albany_Great_Danes_men%27s_basketball', 'Alcorn_State_Braves_basketball', 'Alice_Lloyd', 'Alma_Scots_men%27s_basketball', 'Ambrose', 'Anchorage,_Alaska', 'Angelo_State_Rams_men%27s_basketball', 'Anthony_Randolph', 'Appalachian_State_Mountaineers_men%27s_basketball', 'Arizona_State_Sun_Devils_men%27s_basketball', 'Arizona_Wildcats_men%27s_basketball', 'Arkansas_Razorbacks_men%27s_basketball', 'Arkansas_State_Red_Wolves_men%27s_basketball', 'Army_Black_Knights_men%27s_basketball', 'Art_Chapman_(basketball)', 'Auburn_Tigers_men%27s_basketball', 'Austin_Nichols_(basketball)', 'Austin_Peay_Governors_basketball', 'Ave_Maria_Gyrenes', 'BYU%E2%80%93Hawaii_Seasiders_men%27s_basketball', 'BYU_Cougars_men%27s_basketball', 'Ball_State_Cardinals_men%27s_basketball', 'Baptist_Bible_College_(Missouri)', 'Basket_Brescia_Leonessa', 'Basketball', 'Baylor_Bears_basketball', 'Belmont_Abbey_Crusaders_men%27s_basketball', 'Belmont_Bruins_men%27s_basketball', 'Bemidji_State_Beavers', 'Ben_Gordon', 'Ben_Wilson_(basketball)', 'Benedictine_University', 'Bethany_College_(West_Virginia)', 'Bethel_Wildcats_men%27s_basketball', 'Bethesda_University', 'Bethune%E2%80%93Cookman_Wildcats_men%27s_basketball', 'Bill_McGill', 'Binghamton_Bearcats_men%27s_basketball', 'Blue_Mountain_State', 'Bluefield_College', 'Bobby_Jones_(basketball,_born_1951)', 'Boise_State_Broncos_men%27s_basketball', 'Boston_College_Eagles_men%27s_basketball', 'Boston_University_Terriers_men%27s_basketball', 'Bowling_Green_Falcons_men%27s_basketball', 'Bradley_Braves_men%27s_basketball', 'Brewton%E2%80%93Parker_College', 'Bristol', 'Brown_Bears_men%27s_basketball', 'Bryant_Bulldogs_men%27s_basketball', 'Bryn_Athyn_College', 'Bucknell_Bison_men%27s_basketball', 'Buena_Vista', 'Buffalo_Bulls_men%27s_basketball', 'Butch_Lee', 'Butler_Bulldogs_men%27s_basketball', 'CS_Concordia_Chiajna_(basketball)', 'Cairn_University', 'Cal_Lutheran_Kingsmen_and_Regals', 'Cal_Poly_Mustangs_men%27s_basketball', 'Cal_State_Bakersfield_Roadrunners', 'Cal_State_Bakersfield_Roadrunners_men%27s_basketball', 'Cal_State_East_Bay_Pioneers', 'Cal_State_Fullerton_Titans_men%27s_basketball', 'Cal_State_Northridge_Matadors_men%27s_basketball', 'Cal_State_San_Marcos_Cougars', 'California_Baptist_Lancers_men%27s_basketball', 'California_Golden_Bears_men%27s_basketball', 'California_State_University,_Dominguez_Hills', 'California_State_University,_Stanislaus', 'Campbell_Fighting_Camels_basketball', 'Campbellsville_University', 'Canisius_Golden_Griffins_men%27s_basketball', 'Carsen_Edwards', 'Category:Albion_Britons_men%27s_basketball_players', 'Category:American_men%27s_basketball_players', 'Category:Antelope_Valley_Marauders_men%27s_basketball_players', 'Category:Arcadia_Knights_men%27s_basketball_coaches', 'Category:Arkansas%E2%80%93Monticello_Boll_Weevils_basketball', 'Category:Averett_Cougars_men%27s_basketball', 'Category:Basketball_teams_in_Piedmont', 'Category:Bethel_Pilots_men%27s_basketball', 'Category:Biola_Eagles_men%27s_basketball', 'Category:Black_Hills_State_Yellow_Jackets_men%27s_basketball', 'Category:Bloomsburg_Huskies_men%27s_basketball_players', 'Category:Bluefield_State_Big_Blues_men%27s_basketball', 'Category:Brevard_Tornados_men%27s_basketball', 'Category:Bridgewater_Eagles_men%27s_basketball', 'Category:Cal_State_Monterey_Bay_Otters_men%27s_basketball', 'Category:Caltech_Beavers_men%27s_basketball', 'Category:Carnegie_Mellon_Tartans_men%27s_basketball', 'Category:Catawba_Indians_men%27s_basketball', 'Category:Chadron_State_Eagles_men%27s_basketball', 'Category:Coe_Kohawks_men%27s_basketball', 'Category:Concordia_Cobbers_men%27s_basketball', 'Category:Cumberland_Phoenix_men%27s_basketball', 'Category:Davis_%26_Elkins_Senators_men%27s_basketball_players', 'Category:Defiance_Yellow_Jackets_men%27s_basketball', 'Category:Denison_Big_Red_men%27s_basketball', 'Category:Doane_Tigers_men%27s_basketball_players', 'Category:Dubuque_Spartans_men%27s_basketball', 'Category:Earlham_Quakers_men%27s_basketball', 'Category:East_Central_Tigers_men%27s_basketball', 'Category:Eastern_Oregon_Mountaineers_men%27s_basketball_players', 'Category:Elizabeth_City_State_Vikings_men%27s_basketball', 'Category:Emerson_Lions_men%27s_basketball', 'Category:Emory_Eagles_men%27s_basketball', 'Category:Erskine_Flying_Fleet_men%27s_basketball', 'Category:Eureka_Red_Devils_men%27s_basketball_players', 'Category:Farmingdale_State_Rams_men%27s_basketball', 'Category:Fisk_Bulldogs_basketball_players', 'Category:Fresno_Pacific_Sunbirds_men%27s_basketball_players', 'Category:Geneva_Golden_Tornadoes_men%27s_basketball_players', 'Category:Glenville_State_Pioneers_basketball', 'Category:Hardin%E2%80%93Simmons_Cowboys_basketball_players', 'Category:Harding_Bisons_men%27s_basketball', 'Category:Hartwick_Hawks_men%27s_basketball', 'Category:Haskell_Indian_Nations_Fighting_Indians_men%27s_basketball_coaches', 'Category:Hawaii_Pacific_Sharks_men%27s_basketball_players', 'Category:Heidelberg_Student_Princes_men%27s_basketball_players', 'Category:Hendrix_Warriors_men%27s_basketball', 'Category:Hiram_Terriers_men%27s_basketball', 'Category:Hiwassee_Tigers_men%27s_basketball_players', 'Category:Howard_Payne_Yellow_Jackets_men%27s_basketball_players', 'Category:Indianapolis_Greyhounds_men%27s_basketball', 'Category:LSU%E2%80%93Alexandria_Generals_men%27s_basketball', 'Category:La_Verne_Leopards_men%27s_basketball', 'Category:Lakeland_Muskies_men%27s_basketball', 'Category:Lebanon_Valley_Flying_Dutchmen_men%27s_basketball_players', 'Category:Lewis_%26_Clark_Pioneers_men%27s_basketball', 'Category:Lynchburg_Hornets_men%27s_basketball', 'Category:Manhattanville_Valiants_men%27s_basketball', 'Category:Mansfield_Mounties_men%27s_basketball', 'Category:Maryville_Scots_men%27s_basketball', 'Category:Mayville_State_Comets_men%27s_basketball', 'Category:McMurry_War_Hawks_men%27s_basketball', 'Category:McPherson_Bulldogs_men%27s_basketball_players', 'Category:Menlo_Oaks_men%27s_basketball', 'Category:Merchant_Marine_Mariners_men%27s_basketball', 'Category:Millersville_Marauders_men%27s_basketball', 'Category:Milligan_Buffaloes_men%27s_basketball', 'Category:Minnesota%E2%80%93Duluth_Bulldogs_men%27s_basketball', 'Category:Moravian_Greyhounds_men%27s_basketball', 'Category:Muskingum_Fighting_Muskies_men%27s_basketball', 'Category:NYIT_Bears_men%27s_basketball', 'Category:Newbury_Nighthawks_men%27s_basketball', 'Category:North_Greenville_Crusaders_men%27s_basketball', 'Category:North_Park_Vikings_men%27s_basketball', 'Category:Northwood_Timberwolves_men%27s_basketball_players', 'Category:Notre_Dame_de_Namur_Argonauts_men%27s_basketball', 'Category:Oberlin_Yeomen_basketball', 'Category:Oglethorpe_Stormy_Petrels_men%27s_basketball', 'Category:Olivet_Nazarene_Tigers_men%27s_basketball_players', 'Category:Ouachita_Baptist_Tigers_men%27s_basketball', 'Category:Ozarks_Eagles_men%27s_basketball', 'Category:Pacific_Lutheran_Lutes_men%27s_basketball_players', 'Category:Pfeiffer_Falcons_men%27s_basketball_players', 'Category:Point_Loma_Nazarene_Sea_Lions_men%27s_basketball_players', 'Category:Pomona-Pitzer_Sagehens_men%27s_basketball_players', 'Category:Puget_Sound_Loggers_men%27s_basketball', 'Category:Queens_Royals_men%27s_basketball', 'Category:Quincy_Hawks_men%27s_basketball', 'Category:Regis_Rangers_men%27s_basketball', 'Category:Rockford_Regents_men%27s_basketball', 'Category:Rockhurst_Hawks_men%27s_basketball', 'Category:Rocky_Mountain_Athletic_Conference_men%27s_basketball', 'Category:Rowan_Profs_men%27s_basketball', 'Category:Saint_Leo_Lions_men%27s_basketball', 'Category:Sewanee_Tigers_men%27s_basketball', 'Category:Simon_Fraser_Clan_men%27s_basketball_players', 'Category:Sonoma_State_Seawolves_men%27s_basketball', 'Category:Southern_Nazarene_Crimson_Storm_men%27s_basketball_players', 'Category:Spring_Arbor_Cougars_men%27s_basketball', 'Category:Spring_Hill_Badgers_men%27s_basketball', 'Category:St._Thomas_Aquinas_Spartans_men%27s_basketball', 'Category:Stockton_Ospreys_men%27s_basketball', 'Category:Tampa_Spartans_men%27s_basketball_coaches', 'Category:Texas_Lutheran_Bulldogs_men%27s_basketball', 'Category:Texas_Wesleyan_Rams_men%27s_basketball_players', 'Category:Thiel_Tomcats_men%27s_basketball', 'Category:Tiffin_Dragons_men%27s_basketball', 'Category:Truman_Bulldogs_men%27s_basketball_players', 'Category:Tusculum_Pioneers_men%27s_basketball', 'Category:Tuskegee_Golden_Tigers_men%27s_basketball', 'Category:UMass%E2%80%93Boston_Beacons_men%27s_basketball', 'Category:Ursinus_Bears_men%27s_basketball', 'Category:Utica_Pioneers_men%27s_basketball', 'Category:Valley_City_State_Vikings_men%27s_basketball_players', 'Category:Voorhees_Tigers_men%27s_basketball', 'Category:Wabash_Valley_Warriors_men%27s_basketball_coaches', 'Category:Warren_Wilson_Owls_men%27s_basketball_players', 'Category:Wayland_Baptist_Pioneers_men%27s_basketball_players', 'Category:Westminster_Titans_men%27s_basketball', 'Category:Wheelock_Wildcats_men%27s_basketball', 'Category:Whitworth_Pirates_men%27s_basketball', 'Category:Widener_Pride_men%27s_basketball', 'Category:Wilberforce_Bulldogs_men%27s_basketball', 'Category:William_Jewell_Cardinals_men%27s_basketball', 'Catholic_University_Cardinals_men%27s_basketball', 'Cedarville_University', 'Centenary_Gentlemen_basketball', 'Central_Connecticut_Blue_Devils_men%27s_basketball', 'Central_Michigan_Chippewas_men%27s_basketball', 'Central_Park', 'Charleston_Southern_Buccaneers_men%27s_basketball', 'Charlotte_49ers_men%27s_basketball', 'Chattanooga_Mocs_men%27s_basketball', 'Chestnut_Hill,_Massachusetts', 'Chicago_State_Cougars_men%27s_basketball', 'Chowan_Hawks_men%27s_basketball', 'Chris_Mooney_(basketball)', 'Cincinnati_Bearcats_men%27s_basketball', 'Clarion_Golden_Eagles_men%27s_basketball', 'Clemson_Tigers_men%27s_basketball', 'Cleveland_State_Vikings_men%27s_basketball', 'Coastal_Carolina_Chanticleers_men%27s_basketball', 'Colgate_Raiders_men%27s_basketball', 'College_basketball', 'College_of_Charleston_Cougars_men%27s_basketball', 'Colombia_men%27s_national_basketball_team', 'Colorado_Buffaloes_men%27s_basketball', 'Colorado_State_Rams_men%27s_basketball', 'Columbia_Lions_men%27s_basketball', 'Concord-Carlisle_High_School', 'Concordia_College_(New_York)', 'Concordia_University_(Saint_Paul,_Minnesota)', 'Coppin_State_Eagles_men%27s_basketball', 'Corban_Wroe', 'Cornell_Big_Red_men%27s_basketball', 'Cornell_College', 'Covenant_College', 'Creighton_Bluejays_men%27s_basketball', 'Crowley%27s_Ridge', 'Crown_College_(Minnesota)', 'Daniel_Webster', 'Dartmouth_Big_Green_men%27s_basketball', 'David_Grace_(basketball)', 'Davidson_Wildcats_men%27s_basketball', 'Dayton_Flyers_men%27s_basketball', 'DePaul_Blue_Demons_men%27s_basketball', 'Dean_College', 'Delaware_State_Hornets_men%27s_basketball', 'Denver_Pioneers_men%27s_basketball', 'Detroit_Mercy_Titans_men%27s_basketball', 'Dixie_Classic_(basketball_tournament)', 'Dominican_Republic_men%27s_national_basketball_team', 'Donnie_Boyce', 'Drake_Bulldogs_men%27s_basketball', 'Drexel_Dragons_men%27s_basketball', 'Duke_Blue_Devils_men%27s_basketball', 'Duquesne_Dukes_men%27s_basketball', 'ECAC_Men%27s_Basketball_Tournaments', 'East_Carolina_Pirates_men%27s_basketball', 'East_Tennessee_State_Buccaneers_men%27s_basketball', 'Eastern_Illinois_Panthers_men%27s_basketball', 'Eastern_Kentucky_Colonels_men%27s_basketball', 'Eastern_Michigan_Eagles_men%27s_basketball', 'Eastern_Washington_Eagles_men%27s_basketball', 'Ecclesia_Athletic_Association', 'Eckerd_College', 'Elmira_College', 'Elon_Phoenix_men%27s_basketball', 'Emmanuel_Mudiay', 'Emporia_State_Hornets_basketball', 'Evansville_Purple_Aces_men%27s_basketball', 'FIU_Panthers_men%27s_basketball', 'Fairfield_Stags_men%27s_basketball', 'Fairleigh_Dickinson_Knights_men%27s_basketball', 'Fairleigh_Dickinson_University', 'Ferrum_Panthers_men%27s_basketball', 'Findlay_Oilers', 'Florida_Atlantic_Owls_men%27s_basketball', 'Florida_Gators_men%27s_basketball', 'Florida_Gulf_Coast_Eagles_men%27s_basketball', 'Florida_State_Seminoles_men%27s_basketball', 'Fordham_Rams_men%27s_basketball', 'Fort_Hays', 'Fort_Kent,_Maine', 'Fort_Lewis', 'Francis_Marion', 'Franciscans', 'Fresno_State_Bulldogs_men%27s_basketball', 'Frostburg_State_University', 'Furman_Paladins_men%27s_basketball', 'Gallaudet_University', 'Gardner%E2%80%93Webb_Runnin%27_Bulldogs_men%27s_basketball', 'George_Fox', 'George_Mason_Patriots_men%27s_basketball', 'George_Washington_Colonials_men%27s_basketball', 'Georgetown_Hoyas_men%27s_basketball', 'Georgia_Southern_Eagles_men%27s_basketball', 'Georgia_State_Panthers_men%27s_basketball', 'Georgia_Tech_Yellow_Jackets_men%27s_basketball', 'Georgia_men%27s_national_basketball_team', 'Goldey%E2%80%93Beacom_College', 'Gonzaga_Bulldogs_men%27s_basketball', 'Goucher_College', 'Grambling_State_Tigers_men%27s_basketball', 'Grand_Canyon_Antelopes_men%27s_basketball', 'Green_Bay_Phoenix_men%27s_basketball', 'Hampton_Pirates_men%27s_basketball', 'Hannibal%E2%80%93LaGrange_University', 'Harris%E2%80%93Stowe_State_University', 'Hartford_Hawks_men%27s_basketball', 'Harvard_Crimson_men%27s_basketball', 'High_Point_Panthers_men%27s_basketball', 'Hillsdale_Chargers', 'Hilo,_Hawaii', 'Hofstra_Pride_men%27s_basketball', 'Holy_Cross_Crusaders_men%27s_basketball', 'Holy_Names_Hawks', 'Houston_Baptist_Huskies_men%27s_basketball', 'Houston_Cougars_men%27s_basketball', 'Howard_Bison_men%27s_basketball', 'Humboldt_State_Lumberjacks_men%27s_basketball', 'Huntingdon', 'Huston%E2%80%93Tillotson_University', 'IUPUI_Jaguars_men%27s_basketball', 'Idaho_State_Bengals_men%27s_basketball', 'Idaho_Vandals_men%27s_basketball', 'Illinois_Fighting_Illini_men%27s_basketball', 'Illinois_State_Redbirds_men%27s_basketball', 'Incarnate_Word_Cardinals_men%27s_basketball', 'Indiana_Hoosiers_men%27s_basketball', 'Indiana_State_Sycamores_men%27s_basketball', 'Iona_Gaels_men%27s_basketball', 'Iowa_Hawkeyes_men%27s_basketball', 'Iowa_State_Cyclones_men%27s_basketball', 'Isaiah_Thomas_(basketball)', 'Isle_of_Man', 'J._J._Avila', 'Jackson_State_Tigers_basketball', 'Jacksonville_State_Gamecocks_men%27s_basketball', 'Jacob_Wiley', 'James_Anderson_(basketball)', 'James_Madison_Dukes_men%27s_basketball', 'Jarron_Cumberland', 'Jarvis_Christian_College', 'Jay_John', 'Joe_Johnson_(basketball)', 'John_Brown_(basketball,_born_1992)', 'John_Chaney_(basketball,_born_1932)', 'John_Coker_(basketball)', 'John_Roche_(basketball)', 'John_Wales', 'John_Wallace_(basketball)', 'Johnson_%26_Wales_University', 'Judson_Wallace', 'Kansas_Jayhawks_men%27s_basketball', 'Kansas_State_Wildcats_men%27s_basketball', 'Katin_Reinhardt', 'Kennesaw_State_Owls_men%27s_basketball', 'Kent_State_Golden_Flashes_men%27s_basketball', 'Kentucky_Wesleyan_Panthers_men%27s_basketball', 'Kentucky_Wildcats_men%27s_basketball', 'LIU_Brooklyn_Blackbirds_men%27s_basketball', 'LSU_Tigers_basketball', 'LaGrange_College', 'La_Salle_Explorers_men%27s_basketball', 'Lafayette_Leopards_men%27s_basketball', 'Lamar_Cardinals_basketball', 'Lander_Bearcats', 'LeMoyne%E2%80%93Owen_Magicians_men%27s_basketball', 'LeTourneau_University', 'Le_Moyne_Dolphins', 'Lees%E2%80%93McRae_Bobcats_men%27s_basketball', 'Lehigh_Mountain_Hawks_men%27s_basketball', 'Lenoir%E2%80%93Rhyne_Bears_men%27s_basketball', 'Lesley_Visser', 'Li_Nan_(basketball)', 'Liberty_Flames_basketball', 'Limestone_Saints', 'Lincoln', 'Lincoln_(Pennsylvania)_Lions', 'Lindenwood_Lions_men%27s_basketball', 'Linfield_Wildcats_men%27s_basketball', 'Lipscomb_Bisons_men%27s_basketball', 'List_of_NCAA_Division_I_men%27s_basketball_champions', 'List_of_NCCAA_men%27s_basketball_champions', 'List_of_Ohio_Valley_Conference_men%27s_basketball_champions', 'List_of_Southeastern_Conference_men%27s_basketball_champions', 'List_of_Southern_Conference_men%27s_basketball_champions', 'List_of_men%27s_national_basketball_teams', 'Little_Rock_Trojans_men%27s_basketball', 'Long_Beach_State_Beach_men%27s_basketball', 'Longwood_Lancers_men%27s_basketball', 'Louisiana_Ragin%27_Cajuns_men%27s_basketball', 'Louisiana_Tech_Bulldogs_basketball', 'Louisville_Cardinals_men%27s_basketball', 'Loyola_Greyhounds_men%27s_basketball', 'Loyola_Marymount_Lions_men%27s_basketball', 'Loyola_Ramblers_men%27s_basketball', 'Lyndon_State_College', 'Lyon', 'Madonna_(entertainer)', 'Maine_Black_Bears_men%27s_basketball', 'Manchester_United_F.C.', 'Manhattan_Jaspers_basketball', 'Marist_Red_Foxes_men%27s_basketball', 'Mark_Simpson_(basketball)', 'Marquette_Golden_Eagles_men%27s_basketball', 'Mars_Hill_Lions_men%27s_basketball', 'Marshall_Thundering_Herd_men%27s_basketball', 'Mary_Washington_Eagles', 'Marygrove_College', 'Maryland_Eastern_Shore_Hawks_men%27s_basketball', 'Maryland_Terrapins_men%27s_basketball', 'Massachusetts', 'Matt_Carroll_(basketball)', 'Matt_Kenyon_(basketball)', 'McKendree_Bearcats', 'McNeese_State_University', 'Medaille_College', 'Medgar_Evers_College', 'Memphis_Tigers_men%27s_basketball', 'Merced,_California', 'Mercer_Bears_men%27s_basketball', 'Miami_Hurricanes_men%27s_basketball', 'Miami_RedHawks_men%27s_basketball', 'Michael_Malone_(basketball)', 'Michigan_State_Spartans_men%27s_basketball', 'Michigan_Wolverines_men%27s_basketball', 'Mid-Atlantic_accent', 'Middle_Tennessee_Blue_Raiders_men%27s_basketball', 'Mike_Anderson_(basketball)', 'Milwaukee_Panthers_men%27s_basketball', 'Minnesota_Golden_Gophers_men%27s_basketball', 'Misericordia_University', 'Mississippi_State_Bulldogs_men%27s_basketball', 'Missouri_State_Bears_basketball', 'Missouri_Tigers_men%27s_basketball', 'Missouri_Valley_Conference_Men%27s_Basketball_Tournament', 'Mitchell_Watt_(basketball)', 'Molloy_Lions_men%27s_basketball', 'Monmouth_Hawks_men%27s_basketball', 'Montana_State_Bobcats_men%27s_basketball', 'Montreat_College', 'Morehead_State_Eagles_men%27s_basketball', 'Morehouse_College', 'Morgan_State_Bears_men%27s_basketball', 'Mount_Aloysius_College', 'Mount_St._Mary%27s_Mountaineers_men%27s_basketball', 'Multnomah_University', 'Murray_State_Racers_men%27s_basketball', 'NAIA_Men%27s_Basketball_Championships', 'NCAA_Division_I_Men%27s_Basketball_Tournament', 'NC_State_Wolfpack_men%27s_basketball', 'NJIT_Highlanders_men%27s_basketball', 'National_Basketball_Association', 'Navy_Midshipmen_men%27s_basketball', 'Nazareth_Golden_Flyers_men%27s_basketball', 'Nebraska_Cornhuskers_men%27s_basketball', 'Nevada_Wolf_Pack_men%27s_basketball', 'New_Hampshire_Wildcats_men%27s_basketball', 'New_Hope_Christian_College', 'New_Mexico_State_Aggies_men%27s_basketball', 'New_Orleans_Privateers_men%27s_basketball', 'Newberry_Wolves_men%27s_basketball', 'Niagara_Purple_Eagles_men%27s_basketball', 'Nicholls_Colonels_men%27s_basketball', 'Norfolk_State_Spartans_men%27s_basketball', 'North_Alabama_Lions_men%27s_basketball', 'North_Carolina_A%26T_Aggies_men%27s_basketball', 'North_Carolina_Central_Eagles_men%27s_basketball', 'North_Carolina_Tar_Heels_men%27s_basketball', 'North_Dakota_State_Bison_men%27s_basketball', 'North_Florida_Ospreys_men%27s_basketball', 'North_Texas_Mean_Green_men%27s_basketball', 'Northeastern_Huskies_men%27s_basketball', 'Northern_Arizona_Lumberjacks_men%27s_basketball', 'Northern_Iowa_Panthers_men%27s_basketball', 'Northern_Kentucky_Norse_men%27s_basketball', 'Northwest_Missouri_State_Bearcats_men%27s_basketball', 'Northwest_Nazarene_Crusaders_men%27s_basketball', 'Northwestern_Wildcats_men%27s_basketball', 'Notre_Dame_Fighting_Irish_men%27s_basketball', 'Oak_Hill_Academy_(Mouth_of_Wilson,_Virginia)', 'Oakland_Golden_Grizzlies_men%27s_basketball', 'Oakwood_University', 'Ohio_Bobcats_men%27s_basketball', 'Ohio_State_Buckeyes_men%27s_basketball', 'Oklahoma', 'Oklahoma_Sooners_men%27s_basketball', 'Oklahoma_State_Cowboys_basketball', 'Old_Dominion_Monarchs_basketball', 'Ole_Miss_Rebels_men%27s_basketball', 'Olivet_Comets_men%27s_basketball', 'Olivet_Nazarene_Tigers_men%27s_basketball', 'Omaha_Mavericks_men%27s_basketball', 'Oral_Roberts_Golden_Eagles_men%27s_basketball', 'Oregon_Ducks_men%27s_basketball', 'Oregon_State_Beavers_men%27s_basketball', 'Our_Lady_of_the_Lake_University', 'Ozarks', 'Pacific_Tigers_men%27s_basketball', 'Palm_Beach_Atlantic_Sailfish', 'Paul_Millsap', 'Paul_Quinn', 'Penn_Quakers_men%27s_basketball', 'Penn_State_Harrisburg', 'Penn_State_Nittany_Lions_basketball', 'Pensacola_Christian_College', 'Pepperdine_Waves_men%27s_basketball', 'Pine_Bluff,_Arkansas', 'Pine_Manor_College', 'Pittsburgh_Panthers_men%27s_basketball', 'Portland_Pilots_men%27s_basketball', 'Portland_State_Vikings_men%27s_basketball', 'Prairie_View_A%26M_Panthers_basketball', 'Presbyterian_Blue_Hose_men%27s_basketball', 'Princeton_Tigers_men%27s_basketball', 'Providence_Friars_men%27s_basketball', 'Purdue_Boilermakers_men%27s_basketball', 'Purdue_Fort_Wayne_Mastodons_men%27s_basketball', 'Purdue_University_Northwest', 'Quinnipiac_Bobcats_men%27s_basketball', 'Radford_Highlanders_men%27s_basketball', 'Rhode_Island_Rams_men%27s_basketball', 'Rice_Owls_men%27s_basketball', 'Richmond_Spiders_men%27s_basketball', 'Rider_Broncs_men%27s_basketball', 'Rivier_University', 'Roanoke_Maroons_men%27s_basketball', 'Robert_Morris_Colonials_men%27s_basketball', 'Ron_Lewis_(basketball)', 'Roosevelt', 'Roy_Rogers_(basketball)', 'Rust_College', 'Rutgers_Scarlet_Knights_men%27s_basketball', 'SIU_Edwardsville_Cougars_men%27s_basketball', 'SMU_Mustangs_men%27s_basketball', 'Sacramento_State_Hornets_men%27s_basketball', 'Sacred_Heart_Pioneers_men%27s_basketball', 'Saint_Francis_Red_Flash_men%27s_basketball', 'Saint_Joseph%27s_Hawks_men%27s_basketball', 'Saint_Louis_Billikens_men%27s_basketball', 'Saint_Mary%27s_Gaels_men%27s_basketball', 'Saint_Vincent_and_the_Grenadines_men%27s_national_basketball_team', 'Salve_Regina_Seahawks', 'Sam_Bowie', 'Sam_Claflin', 'Sam_Houston_State_Bearkats_men%27s_basketball', 'San_Diego_State_Aztecs_men%27s_basketball', 'San_Francisco_Dons_men%27s_basketball', 'San_Jose_State_Spartans_men%27s_basketball', 'Santa_Clara_Broncos_men%27s_basketball', 'Sarah_Lawrence_College', 'Savannah_State_Tigers_basketball', 'Savannah_State_Tigers_men%27s_basketball', 'Scott_Fisher_(basketball)', 'Seattle_Redhawks_men%27s_basketball', 'Seton_Hall_Pirates_men%27s_basketball', 'Shante_Carver', 'Shenandoah_Hornets', 'Sherman_Dillard', 'Siena_Saints_men%27s_basketball', 'Silver_Lake', 'Sonoma_State_Seawolves', 'South_Alabama_Jaguars_men%27s_basketball', 'South_Bend,_Indiana', 'South_Carolina_Gamecocks_men%27s_basketball', 'South_Dakota_Coyotes_men%27s_basketball', 'South_Florida_Bulls_men%27s_basketball', 'Southeast_Missouri_State_Redhawks_men%27s_basketball', 'Southeastern_Louisiana_Lions_basketball', 'Southern_Illinois_Salukis_men%27s_basketball', 'Southern_Miss_Golden_Eagles_basketball', 'Southern_Utah_Thunderbirds_men%27s_basketball', 'Southwestern_Athletic_Conference_Men%27s_Basketball_Player_of_the_Year', 'Soviet_Union_men%27s_national_basketball_team', 'Spalding_(company)', 'Sport_in_Ottawa', 'St._Bonaventure_Bonnies_men%27s_basketball', 'St._Catherine', 'St._Edward%27s_Hilltoppers_men%27s_basketball', 'St._Francis_Brooklyn_Terriers_men%27s_basketball', 'St._John%27s_Red_Storm_men%27s_basketball', 'St._Mary%27s_Rattlers', 'St_Andrews', 'Stanford_Cardinal_men%27s_basketball', 'State_University_of_New_York_at_Oneonta', 'Staten_Island', 'Stephen_Curry', 'Stephen_F._Austin_Lumberjacks_basketball', 'Stetson_Hatters_men%27s_basketball', 'Steve_Hood', 'Steven_Adams', 'Steven_Thomas_(basketball)', 'Stony_Brook_Seawolves_men%27s_basketball', 'Sul_Ross_State_University', 'Susquehanna_River_Hawks_men%27s_basketball', 'Syracuse_Orange_men%27s_basketball', 'TCU_Horned_Frogs_men%27s_basketball', 'Tabor_Bluejays', 'Talk:Whittier_Poets_men%27s_basketball', 'Talk:William_Carey_Crusaders_men%27s_basketball', 'Temple_Owls_men%27s_basketball', 'Tennessee_Tech_Golden_Eagles_men%27s_basketball', 'Tennessee_Volunteers_basketball', 'Texas%E2%80%93Permian_Basin_Falcons_men%27s_basketball', 'Texas%E2%80%93Rio_Grande_Valley_Vaqueros_men%27s_basketball', 'Texas_A%26M%E2%80%93Kingsville_Javelinas_men%27s_basketball', 'Texas_A%26M_Aggies_men%27s_basketball', 'Texas_Longhorns_men%27s_basketball', 'Texas_Southern_Tigers_basketball', 'Texas_State_Bobcats_men%27s_basketball', 'Texas_Tech_Red_Raiders_basketball', 'The_Citadel_Bulldogs_basketball', 'Thomas_Schreiner_(basketball)', 'Toccoa_Falls', 'Toledo_Rockets_men%27s_basketball', 'Tom_Asbury', 'Tony_Allen_(basketball)', 'Tougaloo_College', 'Towson_Tigers_men%27s_basketball', 'Trevecca_Nazarene_Trojans', 'Trinity_Baptist_College', 'Trinity_Christian_College', 'Trinity_Tigers_men%27s_basketball', 'Troy_Trojans_men%27s_basketball', 'Truett_McConnell_Bears_men%27s_basketball', 'Tulane_Green_Wave_men%27s_basketball', 'Tulsa_Golden_Hurricane_men%27s_basketball', 'Tyler,_Texas', 'Tyler_Ennis_(basketball)', 'UAB_Blazers_men%27s_basketball', 'UALR_Trojans_men%27s_basketball', 'UCF_Knights_men%27s_basketball', 'UCLA_Bruins_men%27s_basketball', 'UC_Davis_Aggies_men%27s_basketball', 'UC_Irvine_Anteaters_men%27s_basketball', 'UC_Riverside_Highlanders_men%27s_basketball', 'UC_San_Diego_Tritons_men%27s_basketball', 'UC_Santa_Barbara_Gauchos_men%27s_basketball', 'UC_Santa_Cruz_Banana_Slugs', 'UConn_Huskies_men%27s_basketball', 'UIC_Flames_men%27s_basketball', 'UMBC_Retrievers_men%27s_basketball', 'UMES_Hawks_men%27s_basketball', 'UMass_Lowell_River_Hawks_men%27s_basketball', 'UNC_Asheville_Bulldogs_men%27s_basketball', 'UNC_Greensboro_Spartans_men%27s_basketball', 'UNC_Wilmington_Seahawks_men%27s_basketball', 'UNLV_Runnin%27_Rebels_basketball', 'USC_Trojans_men%27s_basketball', 'USC_Upstate_Spartans_men%27s_basketball', 'UTEP_Miners_men%27s_basketball', 'UTSA_Roadrunners_men%27s_basketball', 'UT_Arlington_Mavericks_men%27s_basketball', 'UT_Martin_Skyhawks_men%27s_basketball', 'University_of_Montana_Western', 'University_of_Texas_of_the_Permian_Basin', 'University_of_Virginia%27s_College_at_Wise', 'University_of_the_Southwest', 'Urbana_University', 'Uruguay_men%27s_national_basketball_team', 'Utah_State_Aggies_men%27s_basketball', 'Utah_Utes_men%27s_basketball', 'Utah_Valley_Wolverines_men%27s_basketball', 'VCU_Rams_men%27s_basketball', 'VMI_Keydets_basketball', 'Valley_Forge', 'Valparaiso_Crusaders_men%27s_basketball', 'Vanderbilt_Commodores_men%27s_basketball', 'Vanguard_University', 'Vermont_Catamounts_men%27s_basketball', 'Villanova_Wildcats_men%27s_basketball', 'Virginia_Cavaliers_men%27s_basketball', 'Virginia_Tech_Hokies_men%27s_basketball', 'Wagner_Seahawks_men%27s_basketball', 'Wake_Forest_Demon_Deacons_men%27s_basketball', 'Waldorf_University', 'Wales_men%27s_national_basketball_team', 'Walla_Walla', 'Walter_Skidmore', 'Wartburg_College', 'Washington_Huskies_men%27s_basketball', 'Washington_State_Cougars_men%27s_basketball', 'Wayne_Turner_(basketball)', 'Weber_State_Wildcats_men%27s_basketball', 'Wentworth_Institute_of_Technology', 'Wesley_Johnson_(basketball)', 'West_Coast_Baptist_College', 'West_Virginia_Mountaineers_men%27s_basketball', 'Western_Carolina_Catamounts_men%27s_basketball', 'Western_Illinois_Leathernecks_men%27s_basketball', 'Western_Michigan_Broncos_men%27s_basketball', 'Wheaton_College_(Massachusetts)', 'Wichita_State_Shockers_men%27s_basketball', 'Willamette_Bearcats', 'William_%26_Mary_Tribe_men%27s_basketball', 'William_Jessup', 'William_Woods_University', 'Wilmington,_Ohio', 'Winston-Salem_State_Rams_men%27s_basketball', 'Winthrop_Eagles_men%27s_basketball', 'Wisconsin_Badgers_men%27s_basketball', 'Wofford_Terriers_men%27s_basketball', 'Worcester,_Massachusetts', 'Wright_State_Raiders_men%27s_basketball', 'Wyoming_Cowboys_and_Cowgirls', 'Xavier_Musketeers_men%27s_basketball', 'Yale_Bulldogs_men%27s_basketball', 'Youngstown_State_Penguins_men%27s_basketball']\n"
          ],
          "name": "stdout"
        }
      ]
    },
    {
      "cell_type": "markdown",
      "metadata": {
        "id": "FZVEixJBSJKt",
        "colab_type": "text"
      },
      "source": [
        "3 add calculated columns\n"
      ]
    },
    {
      "cell_type": "code",
      "metadata": {
        "id": "OGmDazXwUEt_",
        "colab_type": "code",
        "colab": {
          "base_uri": "https://localhost:8080/",
          "height": 424
        },
        "outputId": "d3d289a8-8fb4-4ffa-8bfb-bf97de9dca63"
      },
      "source": [
        "dfteams[\"home_points\"] = dfteams.team.apply(lambda row: dfgames.query(\"home_team=='\"+row+\"'\").home_score.sum())\n",
        "dfteams[\"away_points\"] = dfteams.team.apply(lambda row: dfgames.query(\"away_team=='\"+row+\"'\").away_score.sum())\n",
        "#dfteams[\"home_point_diff\"] = dfteams.team.apply(lambda row: dfgames.query(\"home_team=='\"+row+\"'\").apply(lambda x:x[\"home_score\"]-x[\"away_score\"]).sum())\n",
        "dfteams"
      ],
      "execution_count": 16,
      "outputs": [
        {
          "output_type": "execute_result",
          "data": {
            "text/html": [
              "<div>\n",
              "<style scoped>\n",
              "    .dataframe tbody tr th:only-of-type {\n",
              "        vertical-align: middle;\n",
              "    }\n",
              "\n",
              "    .dataframe tbody tr th {\n",
              "        vertical-align: top;\n",
              "    }\n",
              "\n",
              "    .dataframe thead th {\n",
              "        text-align: right;\n",
              "    }\n",
              "</style>\n",
              "<table border=\"1\" class=\"dataframe\">\n",
              "  <thead>\n",
              "    <tr style=\"text-align: right;\">\n",
              "      <th></th>\n",
              "      <th>ncaa_division</th>\n",
              "      <th>team</th>\n",
              "      <th>home_points</th>\n",
              "      <th>away_points</th>\n",
              "    </tr>\n",
              "  </thead>\n",
              "  <tbody>\n",
              "    <tr>\n",
              "      <th>0</th>\n",
              "      <td>America East</td>\n",
              "      <td>Vermont_Catamounts_men%27s_basketball</td>\n",
              "      <td>4991</td>\n",
              "      <td>5103</td>\n",
              "    </tr>\n",
              "    <tr>\n",
              "      <th>1</th>\n",
              "      <td>America East</td>\n",
              "      <td>Stony_Brook_Seawolves_men%27s_basketball</td>\n",
              "      <td>4560</td>\n",
              "      <td>4400</td>\n",
              "    </tr>\n",
              "    <tr>\n",
              "      <th>2</th>\n",
              "      <td>America East</td>\n",
              "      <td>UMBC_Retrievers_men%27s_basketball</td>\n",
              "      <td>4971</td>\n",
              "      <td>4792</td>\n",
              "    </tr>\n",
              "    <tr>\n",
              "      <th>3</th>\n",
              "      <td>America East</td>\n",
              "      <td>Hartford_Hawks_men%27s_basketball</td>\n",
              "      <td>4377</td>\n",
              "      <td>4765</td>\n",
              "    </tr>\n",
              "    <tr>\n",
              "      <th>4</th>\n",
              "      <td>America East</td>\n",
              "      <td>Albany_Great_Danes_men%27s_basketball</td>\n",
              "      <td>4732</td>\n",
              "      <td>4852</td>\n",
              "    </tr>\n",
              "    <tr>\n",
              "      <th>...</th>\n",
              "      <td>...</td>\n",
              "      <td>...</td>\n",
              "      <td>...</td>\n",
              "      <td>...</td>\n",
              "    </tr>\n",
              "    <tr>\n",
              "      <th>348</th>\n",
              "      <td>Western Athletic</td>\n",
              "      <td>California_Baptist_Lancers_men%27s_basketball</td>\n",
              "      <td>930</td>\n",
              "      <td>1184</td>\n",
              "    </tr>\n",
              "    <tr>\n",
              "      <th>349</th>\n",
              "      <td>Western Athletic</td>\n",
              "      <td>Cal_State_Bakersfield_Roadrunners_men%27s_bask...</td>\n",
              "      <td>3572</td>\n",
              "      <td>3174</td>\n",
              "    </tr>\n",
              "    <tr>\n",
              "      <th>350</th>\n",
              "      <td>Western Athletic</td>\n",
              "      <td>Seattle_Redhawks_men%27s_basketball</td>\n",
              "      <td>5640</td>\n",
              "      <td>3330</td>\n",
              "    </tr>\n",
              "    <tr>\n",
              "      <th>351</th>\n",
              "      <td>Western Athletic</td>\n",
              "      <td>2018%E2%80%9319_UMKC_Kangaroos_men%27s_basketb...</td>\n",
              "      <td>4719</td>\n",
              "      <td>4521</td>\n",
              "    </tr>\n",
              "    <tr>\n",
              "      <th>352</th>\n",
              "      <td>Western Athletic</td>\n",
              "      <td>Chicago_State_Cougars_men%27s_basketball</td>\n",
              "      <td>7416</td>\n",
              "      <td>8285</td>\n",
              "    </tr>\n",
              "  </tbody>\n",
              "</table>\n",
              "<p>353 rows × 4 columns</p>\n",
              "</div>"
            ],
            "text/plain": [
              "        ncaa_division  ... away_points\n",
              "0        America East  ...        5103\n",
              "1        America East  ...        4400\n",
              "2        America East  ...        4792\n",
              "3        America East  ...        4765\n",
              "4        America East  ...        4852\n",
              "..                ...  ...         ...\n",
              "348  Western Athletic  ...        1184\n",
              "349  Western Athletic  ...        3174\n",
              "350  Western Athletic  ...        3330\n",
              "351  Western Athletic  ...        4521\n",
              "352  Western Athletic  ...        8285\n",
              "\n",
              "[353 rows x 4 columns]"
            ]
          },
          "metadata": {
            "tags": []
          },
          "execution_count": 16
        }
      ]
    },
    {
      "cell_type": "markdown",
      "metadata": {
        "id": "BS2bYs5Fc00d",
        "colab_type": "text"
      },
      "source": [
        "4 write csv"
      ]
    },
    {
      "cell_type": "code",
      "metadata": {
        "id": "bSYdo1Wac3Ks",
        "colab_type": "code",
        "colab": {}
      },
      "source": [
        "dfteams.to_csv('Games-Calculated.csv')"
      ],
      "execution_count": 19,
      "outputs": []
    }
  ]
}